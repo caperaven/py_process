{
 "cells": [
  {
   "cell_type": "code",
   "execution_count": null,
   "metadata": {
    "collapsed": true
   },
   "outputs": [],
   "source": [
    "from ctransformers import AutoModelForCausalLM\n",
    "\n",
    "# Set gpu_layers to the number of layers to offload to GPU. Set to 0 if no GPU acceleration is available on your system.\n",
    "llm = AutoModelForCausalLM.from_pretrained(\"TheBloke/deepseek-coder-1.3b-base-GGUF\", model_file=\"deepseek-coder-1.3b-base.Q4_K_M.gguf\", model_type=\"deepseek\", gpu_layers=50)\n",
    "\n",
    "print(llm(\"hello\"))"
   ]
  },
  {
   "cell_type": "code",
   "execution_count": 3,
   "outputs": [
    {
     "data": {
      "text/plain": "'{Ċĉĉif($1<$3){ĊĉĉĉprintĠ\"ERROR:ĠfirstĠargumentĠisĠlessĠthanĠsecond\\\\n\";Ċĉĉĉ$1=0;Ċĉĉĉ$3=0;Ċĉĉ}Ċĉĉ$2=$1-$3+1;Ċĉĉfor(@i=1;@iĠ<=Ġ$2;++@i)Ġ{Ċĉĉĉif($4){Ċĉĉĉĉ@temp_listĠ=Ġ$1,Ġ@strĠ=Ġ();ĠĊĉĉĉĉ$1Ġ+=Ġ5;Ċĉĉĉĉ($iĠ==Ġ$2)Ġ?Ġ(@finalĠ=Ġ$i)Ġ:();ĊĉĉĉĉĉprintĠjoinĠ\"Ġ\",ĠmapĠ{\"\\\\n\"x}Ġ(\".\"*30Ġfor@i<=(@i+6));Ċĉĉĉĉĉĉfor(;length()Ġ>Ġ4;)Ġ{Ċĉĉĉĉĉĉĉ@temp_listĠ=Ġ();ĠĊĉĉĉĉĉĉĉforeachĠ@t,@{$str}Ġ(@tmp){Ċĉĉĉĉĉĉĉĉ(lengthĠ>ĠlengthĠ+Ġ$2)Ġ?Ġ(unshiftĠ$temp_listĠ$_)Ġ:();ĊĉĉĉĉĉĉĉĉĉprintĠ$_,Ġ$/Ċĉĉĉĉĉĉ}Ċĉĉĉĉexit(0)}Ċĉĉĉ}ĠelseĠ{Ċĉĉĉĉ$iĠ+=Ġ1;Ċĉĉĉ}ĠĊĉĉ$5=$#args;Ċĉĉ$iĠ=Ġ6;Ċĉĉĉ$jĠ=Ġ$iĠ+Ġ@'"
     },
     "execution_count": 3,
     "metadata": {},
     "output_type": "execute_result"
    }
   ],
   "source": [
    "llm(\"write for loop\")"
   ],
   "metadata": {
    "collapsed": false,
    "ExecuteTime": {
     "end_time": "2023-11-05T13:41:16.101532400Z",
     "start_time": "2023-11-05T13:41:12.667535900Z"
    }
   }
  }
 ],
 "metadata": {
  "kernelspec": {
   "display_name": "Python 3",
   "language": "python",
   "name": "python3"
  },
  "language_info": {
   "codemirror_mode": {
    "name": "ipython",
    "version": 2
   },
   "file_extension": ".py",
   "mimetype": "text/x-python",
   "name": "python",
   "nbconvert_exporter": "python",
   "pygments_lexer": "ipython2",
   "version": "2.7.6"
  }
 },
 "nbformat": 4,
 "nbformat_minor": 0
}
