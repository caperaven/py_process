{
 "cells": [
  {
   "cell_type": "markdown",
   "source": [
    "# Loop through data and perform a task on it."
   ],
   "metadata": {
    "collapsed": false
   }
  },
  {
   "cell_type": "code",
   "execution_count": 1,
   "outputs": [],
   "source": [
    "from src.process_api import process"
   ],
   "metadata": {
    "collapsed": false,
    "ExecuteTime": {
     "end_time": "2023-08-15T16:49:16.323206800Z",
     "start_time": "2023-08-15T16:49:16.298681300Z"
    }
   }
  },
  {
   "cell_type": "code",
   "execution_count": null,
   "outputs": [],
   "source": [
    "process.call(\"loop\", None, {\n",
    "    \"source\": [1, 2, 3, 4, 5],\n",
    "    \"process_step\": {\n",
    "        \"type\": \"console\",\n",
    "        \"action\": \"print\",\n",
    "        \"args\": { \"message\": \"$i\" }\n",
    "    }\n",
    "})"
   ],
   "metadata": {
    "collapsed": false
   }
  }
 ],
 "metadata": {
  "kernelspec": {
   "display_name": "Python 3",
   "language": "python",
   "name": "python3"
  },
  "language_info": {
   "codemirror_mode": {
    "name": "ipython",
    "version": 2
   },
   "file_extension": ".py",
   "mimetype": "text/x-python",
   "name": "python",
   "nbconvert_exporter": "python",
   "pygments_lexer": "ipython2",
   "version": "2.7.6"
  }
 },
 "nbformat": 4,
 "nbformat_minor": 0
}
