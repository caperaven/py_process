{
 "cells": [
  {
   "cell_type": "markdown",
   "source": [
    "# Loop through data and perform a task on it."
   ],
   "metadata": {
    "collapsed": false
   }
  },
  {
   "cell_type": "code",
   "execution_count": 1,
   "outputs": [
    {
     "name": "stdout",
     "output_type": "stream",
     "text": [
      "creating singleton\n"
     ]
    }
   ],
   "source": [
    "from src.process_api import process"
   ],
   "metadata": {
    "collapsed": false
   }
  },
  {
   "cell_type": "code",
   "execution_count": 2,
   "outputs": [
    {
     "ename": "AttributeError",
     "evalue": "'dict' object has no attribute 'args'",
     "output_type": "error",
     "traceback": [
      "\u001B[1;31m---------------------------------------------------------------------------\u001B[0m",
      "\u001B[1;31mAttributeError\u001B[0m                            Traceback (most recent call last)",
      "Cell \u001B[1;32mIn[2], line 1\u001B[0m\n\u001B[1;32m----> 1\u001B[0m \u001B[38;5;28;01mawait\u001B[39;00m process\u001B[38;5;241m.\u001B[39mcall(\u001B[38;5;124m\"\u001B[39m\u001B[38;5;124mloop\u001B[39m\u001B[38;5;124m\"\u001B[39m, \u001B[38;5;28;01mNone\u001B[39;00m, {\n\u001B[0;32m      2\u001B[0m     \u001B[38;5;124m\"\u001B[39m\u001B[38;5;124msource\u001B[39m\u001B[38;5;124m\"\u001B[39m: [\u001B[38;5;241m1\u001B[39m, \u001B[38;5;241m2\u001B[39m, \u001B[38;5;241m3\u001B[39m, \u001B[38;5;241m4\u001B[39m, \u001B[38;5;241m5\u001B[39m],\n\u001B[0;32m      3\u001B[0m     \u001B[38;5;124m\"\u001B[39m\u001B[38;5;124mprocess_step\u001B[39m\u001B[38;5;124m\"\u001B[39m: {\n\u001B[0;32m      4\u001B[0m         \u001B[38;5;124m\"\u001B[39m\u001B[38;5;124mtype\u001B[39m\u001B[38;5;124m\"\u001B[39m: \u001B[38;5;124m\"\u001B[39m\u001B[38;5;124mconsole\u001B[39m\u001B[38;5;124m\"\u001B[39m,\n\u001B[0;32m      5\u001B[0m         \u001B[38;5;124m\"\u001B[39m\u001B[38;5;124maction\u001B[39m\u001B[38;5;124m\"\u001B[39m: \u001B[38;5;124m\"\u001B[39m\u001B[38;5;124mprint\u001B[39m\u001B[38;5;124m\"\u001B[39m,\n\u001B[0;32m      6\u001B[0m         \u001B[38;5;124m\"\u001B[39m\u001B[38;5;124margs\u001B[39m\u001B[38;5;124m\"\u001B[39m: { \u001B[38;5;124m\"\u001B[39m\u001B[38;5;124mmessage\u001B[39m\u001B[38;5;124m\"\u001B[39m: \u001B[38;5;124m\"\u001B[39m\u001B[38;5;124m$i\u001B[39m\u001B[38;5;124m\"\u001B[39m }\n\u001B[0;32m      7\u001B[0m     }\n\u001B[0;32m      8\u001B[0m })\n",
      "File \u001B[1;32mF:\\intent_projects\\py_process\\src\\process_api.py:27\u001B[0m, in \u001B[0;36mProcess.call\u001B[1;34m(self, step_type, step_action, step_args, context, process, item)\u001B[0m\n\u001B[0;32m     20\u001B[0m \u001B[38;5;28;01masync\u001B[39;00m \u001B[38;5;28;01mdef\u001B[39;00m \u001B[38;5;21mcall\u001B[39m(\u001B[38;5;28mself\u001B[39m, step_type, step_action, step_args, context\u001B[38;5;241m=\u001B[39m\u001B[38;5;28;01mNone\u001B[39;00m, process\u001B[38;5;241m=\u001B[39m\u001B[38;5;28;01mNone\u001B[39;00m, item\u001B[38;5;241m=\u001B[39m\u001B[38;5;28;01mNone\u001B[39;00m):\n\u001B[0;32m     21\u001B[0m     step \u001B[38;5;241m=\u001B[39m {\n\u001B[0;32m     22\u001B[0m         \u001B[38;5;124m\"\u001B[39m\u001B[38;5;124mtype\u001B[39m\u001B[38;5;124m\"\u001B[39m: step_type,\n\u001B[0;32m     23\u001B[0m         \u001B[38;5;124m\"\u001B[39m\u001B[38;5;124maction\u001B[39m\u001B[38;5;124m\"\u001B[39m: step_action,\n\u001B[0;32m     24\u001B[0m         \u001B[38;5;124m\"\u001B[39m\u001B[38;5;124margs\u001B[39m\u001B[38;5;124m\"\u001B[39m: step_args\n\u001B[0;32m     25\u001B[0m     }\n\u001B[1;32m---> 27\u001B[0m     \u001B[38;5;28;01mreturn\u001B[39;00m \u001B[38;5;28;01mawait\u001B[39;00m \u001B[38;5;28mself\u001B[39m\u001B[38;5;241m.\u001B[39mprocess_runner\u001B[38;5;241m.\u001B[39mrun_step(step, context, process, item)\n",
      "File \u001B[1;32mF:\\intent_projects\\py_process\\src\\process_runner.py:42\u001B[0m, in \u001B[0;36mProcessRunner.run_step\u001B[1;34m(self, step, context, process, item)\u001B[0m\n\u001B[0;32m     40\u001B[0m \u001B[38;5;28;01mif\u001B[39;00m \u001B[38;5;28mhasattr\u001B[39m(module, action):\n\u001B[0;32m     41\u001B[0m     function \u001B[38;5;241m=\u001B[39m \u001B[38;5;28mgetattr\u001B[39m(module, action)\n\u001B[1;32m---> 42\u001B[0m     result \u001B[38;5;241m=\u001B[39m \u001B[38;5;28;01mawait\u001B[39;00m function(args, context, process, item)\n\u001B[0;32m     44\u001B[0m     \u001B[38;5;28;01mif\u001B[39;00m \u001B[38;5;124m\"\u001B[39m\u001B[38;5;124mtarget\u001B[39m\u001B[38;5;124m\"\u001B[39m \u001B[38;5;129;01min\u001B[39;00m step:\n\u001B[0;32m     45\u001B[0m         \u001B[38;5;28;01mawait\u001B[39;00m set_value(step\u001B[38;5;241m.\u001B[39mget(\u001B[38;5;124m'\u001B[39m\u001B[38;5;124mtarget\u001B[39m\u001B[38;5;124m'\u001B[39m), result, context, process, item)\n",
      "File \u001B[1;32mF:\\intent_projects\\py_process\\src\\action_systems/loop_actions.py:9\u001B[0m, in \u001B[0;36mDefault.perform\u001B[1;34m(step, context, process, item)\u001B[0m\n\u001B[0;32m      7\u001B[0m \u001B[38;5;129m@staticmethod\u001B[39m\n\u001B[0;32m      8\u001B[0m \u001B[38;5;28;01masync\u001B[39;00m \u001B[38;5;28;01mdef\u001B[39;00m \u001B[38;5;21mperform\u001B[39m(step, context, process, item):\n\u001B[1;32m----> 9\u001B[0m     collection \u001B[38;5;241m=\u001B[39m get_value(\u001B[43mstep\u001B[49m\u001B[38;5;241;43m.\u001B[39;49m\u001B[43margs\u001B[49m\u001B[38;5;241m.\u001B[39msource, context, process, item)\n\u001B[0;32m     11\u001B[0m     \u001B[38;5;28;01mif\u001B[39;00m collection \u001B[38;5;129;01mis\u001B[39;00m \u001B[38;5;28;01mNone\u001B[39;00m:\n\u001B[0;32m     12\u001B[0m         \u001B[38;5;28;01mreturn\u001B[39;00m\n",
      "\u001B[1;31mAttributeError\u001B[0m: 'dict' object has no attribute 'args'"
     ]
    }
   ],
   "source": [
    "await process.call(\"loop\", None, {\n",
    "    \"source\": [1, 2, 3, 4, 5],\n",
    "    \"process_step\": {\n",
    "        \"type\": \"console\",\n",
    "        \"action\": \"print\",\n",
    "        \"args\": { \"message\": \"$i\" }\n",
    "    }\n",
    "})"
   ],
   "metadata": {
    "collapsed": false
   }
  },
  {
   "cell_type": "code",
   "execution_count": null,
   "outputs": [],
   "source": [],
   "metadata": {
    "collapsed": false
   }
  }
 ],
 "metadata": {
  "kernelspec": {
   "display_name": "Python 3",
   "language": "python",
   "name": "python3"
  },
  "language_info": {
   "codemirror_mode": {
    "name": "ipython",
    "version": 2
   },
   "file_extension": ".py",
   "mimetype": "text/x-python",
   "name": "python",
   "nbconvert_exporter": "python",
   "pygments_lexer": "ipython2",
   "version": "2.7.6"
  }
 },
 "nbformat": 4,
 "nbformat_minor": 0
}
