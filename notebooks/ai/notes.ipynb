{
 "cells": [
  {
   "cell_type": "code",
   "execution_count": null,
   "outputs": [],
   "source": [],
   "metadata": {
    "collapsed": false
   }
  },
  {
   "cell_type": "markdown",
   "source": [
    "Make sure you have installed\n",
    "\n",
    "Read and Install as required\n",
    "https://docs.nvidia.com/deeplearning/cudnn/install-guide/index.html#install-windows\n",
    "\n",
    "CUDA 12.x +\n",
    "\n",
    "1. update graphics drivers\n",
    "2. cuda toolkit - check version using cmd: nvcc --version\n",
    "3. cuDDN for windows / linux\n",
    "\n",
    "Install Libraries\n",
    "\n",
    "pip install torch torchvision torchaudio --extra-index-url https://download.pytorch.org/whl/cu123\n",
    "\n",
    "https://pytorch.org/get-started/locally/"
   ],
   "metadata": {
    "collapsed": false
   }
  },
  {
   "cell_type": "code",
   "execution_count": null,
   "outputs": [],
   "source": [],
   "metadata": {
    "collapsed": false
   }
  }
 ],
 "metadata": {
  "kernelspec": {
   "display_name": "Python 3",
   "language": "python",
   "name": "python3"
  },
  "language_info": {
   "codemirror_mode": {
    "name": "ipython",
    "version": 2
   },
   "file_extension": ".py",
   "mimetype": "text/x-python",
   "name": "python",
   "nbconvert_exporter": "python",
   "pygments_lexer": "ipython2",
   "version": "2.7.6"
  }
 },
 "nbformat": 4,
 "nbformat_minor": 0
}
