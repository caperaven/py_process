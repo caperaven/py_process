{
 "cells": [
  {
   "cell_type": "markdown",
   "source": [
    "!pip install transformers\n",
    "!pip install torch torchvision torchaudio --index-url https://download.pytorch.org/whl/cu121"
   ],
   "metadata": {
    "collapsed": false
   }
  },
  {
   "cell_type": "code",
   "execution_count": null,
   "outputs": [],
   "source": [
    "from process_api import process_api\n",
    "from process_api.modules.ai import AIModule\n",
    "\n",
    "AIModule.register(process_api)\n",
    "\n",
    "await process_api.call(\"ai\", \"download_model\", {\n",
    "    \"model\": \"EleutherAI/gpt-neo-2.7B\",\n",
    "    \"path\": \"c:\\\\models\"\n",
    "})"
   ],
   "metadata": {
    "collapsed": false
   }
  },
  {
   "cell_type": "code",
   "execution_count": null,
   "outputs": [],
   "source": [
    "from process_api import process_api\n",
    "from process_api.modules.ai.gpt_neo_27B import GPTNeoModule\n",
    "GPTNeoModule.register(process_api)\n",
    "\n",
    "device = await process_api.call(\"gpt_neo\", \"load\", {\n",
    "    \"path\": \"c:\\\\models\"\n",
    "})\n",
    "\n",
    "print(device)\n"
   ],
   "metadata": {
    "collapsed": false
   }
  },
  {
   "cell_type": "code",
   "execution_count": null,
   "outputs": [],
   "source": [
    "result = await process_api.call(\"gpt_neo\", \"execute\", {\n",
    "    \"prompt\": \"can you write deno js unit tests?\",\n",
    "})\n",
    "\n",
    "print(result)"
   ],
   "metadata": {
    "collapsed": false,
    "is_executing": true
   }
  },
  {
   "cell_type": "code",
   "execution_count": null,
   "outputs": [],
   "source": [
    "import torch\n",
    "torch.cuda.empty_cache()"
   ],
   "metadata": {
    "collapsed": false,
    "is_executing": true
   }
  },
  {
   "cell_type": "code",
   "execution_count": null,
   "outputs": [],
   "source": [
    "await process_api.call(\"gpt_neo\", \"dispose\", {})"
   ],
   "metadata": {
    "collapsed": false
   }
  }
 ],
 "metadata": {
  "kernelspec": {
   "display_name": "Python 3",
   "language": "python",
   "name": "python3"
  },
  "language_info": {
   "codemirror_mode": {
    "name": "ipython",
    "version": 2
   },
   "file_extension": ".py",
   "mimetype": "text/x-python",
   "name": "python",
   "nbconvert_exporter": "python",
   "pygments_lexer": "ipython2",
   "version": "2.7.6"
  }
 },
 "nbformat": 4,
 "nbformat_minor": 0
}
