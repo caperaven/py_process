{
 "cells": [
  {
   "cell_type": "markdown",
   "source": [
    "# Loop through data and perform a task on it."
   ],
   "metadata": {
    "collapsed": false
   }
  },
  {
   "cell_type": "code",
   "execution_count": 1,
   "outputs": [],
   "source": [
    "from src.process_api import process"
   ],
   "metadata": {
    "collapsed": false,
    "ExecuteTime": {
     "end_time": "2023-08-18T08:42:33.294573200Z",
     "start_time": "2023-08-18T08:42:33.270265400Z"
    }
   }
  },
  {
   "cell_type": "markdown",
   "source": [
    "## Loop through a list of numbers and print them."
   ],
   "metadata": {
    "collapsed": false
   }
  },
  {
   "cell_type": "code",
   "execution_count": 2,
   "outputs": [
    {
     "name": "stdout",
     "output_type": "stream",
     "text": [
      "1\n",
      "2\n",
      "3\n",
      "4\n",
      "5\n"
     ]
    }
   ],
   "source": [
    "await process.call(\"loop\", None, {\n",
    "    \"source\": [1, 2, 3, 4, 5],\n",
    "    \"process_step\": {\n",
    "        \"type\": \"console\",\n",
    "        \"action\": \"print\",\n",
    "        \"args\": { \"message\": \"$i\" }\n",
    "    }\n",
    "})"
   ],
   "metadata": {
    "collapsed": false,
    "ExecuteTime": {
     "end_time": "2023-08-18T08:42:33.309089Z",
     "start_time": "2023-08-18T08:42:33.297573Z"
    }
   }
  },
  {
   "cell_type": "markdown",
   "source": [
    "## Loop through a list of people and print the firstName."
   ],
   "metadata": {
    "collapsed": false
   }
  },
  {
   "cell_type": "code",
   "execution_count": 3,
   "outputs": [
    {
     "name": "stdout",
     "output_type": "stream",
     "text": [
      "John\n",
      "Jane\n",
      "Jack\n"
     ]
    }
   ],
   "source": [
    "await process.call(\"loop\", None, {\n",
    "    \"source\": [\n",
    "        { \"firstName\": \"John\" },\n",
    "        { \"firstName\": \"Jane\" },\n",
    "        { \"firstName\": \"Jack\" }\n",
    "    ],\n",
    "    \"process_step\": {\n",
    "        \"type\": \"console\",\n",
    "        \"action\": \"print\",\n",
    "        \"args\": { \"message\": \"$i{firstName}\" }\n",
    "    }\n",
    "})"
   ],
   "metadata": {
    "collapsed": false,
    "ExecuteTime": {
     "end_time": "2023-08-18T08:42:46.296124300Z",
     "start_time": "2023-08-18T08:42:46.286609100Z"
    }
   }
  },
  {
   "cell_type": "code",
   "execution_count": null,
   "outputs": [],
   "source": [],
   "metadata": {
    "collapsed": false
   }
  }
 ],
 "metadata": {
  "kernelspec": {
   "display_name": "Python 3",
   "language": "python",
   "name": "python3"
  },
  "language_info": {
   "codemirror_mode": {
    "name": "ipython",
    "version": 2
   },
   "file_extension": ".py",
   "mimetype": "text/x-python",
   "name": "python",
   "nbconvert_exporter": "python",
   "pygments_lexer": "ipython2",
   "version": "2.7.6"
  }
 },
 "nbformat": 4,
 "nbformat_minor": 0
}
