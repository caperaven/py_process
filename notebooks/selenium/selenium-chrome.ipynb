{
 "cells": [
  {
   "cell_type": "markdown",
   "source": [
    "# Testing using Chrome\n",
    "\n",
    "## Chrome drivers\n",
    "You need to make sure that you have a folder in the root of the project called \"chrome\".\n",
    "In that folder you need two things.\n",
    "1. copy of the chrome driver\n",
    "2. copy of the chrome binary\n",
    "\n",
    "You can download both at:\n",
    "https://googlechromelabs.github.io/chrome-for-testing/#stable\n",
    "Make sure you download both as win64 for \"Version: 116.0.5845.96 (r1160321)\"\n",
    "\n",
    "The ui_testing_process/chrome folder should now contain the chrome exe and supporting files along with the chromedriver exe.\n",
    "You can download a newer version if you wish, but you should make sure that you download both the chrome and driver for the same version\n",
    "and extract them into the chrome folder.\n",
    "\n",
    "## Using\n",
    "As you can see in the \"init_driver\" call, you need to pass the \"driver_path\""
   ],
   "metadata": {
    "collapsed": false
   }
  },
  {
   "cell_type": "code",
   "execution_count": 2,
   "outputs": [],
   "source": [
    "from src.process_api import process\n",
    "import os\n",
    "import time\n",
    "\n",
    "current_directory = os.getcwd()\n",
    "full_chrome_path = os.path.join(current_directory, \"./../../chrome/chromedriver.exe\")\n",
    "full_chrome_path = os.path.normpath(full_chrome_path)\n",
    "\n",
    "driver = await process.call(\"selenium\", \"init_driver\", {\n",
    "    \"browser\": \"chrome\",\n",
    "    \"options\": {\n",
    "        \"driver_path\": full_chrome_path\n",
    "    }\n",
    "})\n",
    "\n",
    "await process.call(\"selenium\", \"goto\", {\n",
    "    \"driver\": driver,\n",
    "    \"url\": \"https://www.google.com\"\n",
    "})\n",
    "\n",
    "element = await process.call(\"selenium\", \"get\", {\n",
    "    \"driver\": driver,\n",
    "    \"element\": \"textarea\"\n",
    "})\n",
    "\n",
    "await process.call(\"selenium\", \"perform\", {\n",
    "    \"driver\": driver,\n",
    "    \"element\": element,\n",
    "    \"action\": \"type\",\n",
    "    \"text\": \"Hello World\"\n",
    "})\n",
    "\n",
    "time.sleep(1)\n",
    "\n",
    "await process.call(\"selenium\", \"close_driver\", {\n",
    "    \"driver\": driver\n",
    "})"
   ],
   "metadata": {
    "collapsed": false,
    "ExecuteTime": {
     "end_time": "2023-09-07T15:46:05.515865200Z",
     "start_time": "2023-09-07T15:45:54.876056300Z"
    }
   }
  }
 ],
 "metadata": {
  "kernelspec": {
   "display_name": "Python 3",
   "language": "python",
   "name": "python3"
  },
  "language_info": {
   "codemirror_mode": {
    "name": "ipython",
    "version": 2
   },
   "file_extension": ".py",
   "mimetype": "text/x-python",
   "name": "python",
   "nbconvert_exporter": "python",
   "pygments_lexer": "ipython2",
   "version": "2.7.6"
  }
 },
 "nbformat": 4,
 "nbformat_minor": 0
}
