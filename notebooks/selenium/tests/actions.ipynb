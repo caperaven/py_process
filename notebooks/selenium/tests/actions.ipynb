{
 "cells": [
  {
   "cell_type": "code",
   "execution_count": null,
   "metadata": {
    "collapsed": true
   },
   "outputs": [],
   "source": [
    "from process_api import process_api\n",
    "from process_api.modules.selenium import SeleniumModule\n",
    "import os\n",
    "import time\n",
    "\n",
    "SeleniumModule.register(process_api)\n",
    "process_api.logger.set_level(\"info\")\n",
    "\n",
    "current_directory = os.getcwd()\n",
    "full_chrome_path = os.path.join(current_directory, \"./../../../chrome/chromedriver.exe\")\n",
    "full_chrome_path = os.path.normpath(full_chrome_path)\n",
    "\n",
    "driver = await process_api.call(\"selenium\", \"init_driver\", {\n",
    "    \"browser\": \"chrome\",\n",
    "    \"options\": {\n",
    "        \"driver_path\": full_chrome_path\n",
    "    }\n",
    "})\n",
    "\n",
    "process_api.set_variable(\"driver\", driver)\n",
    "\n",
    "await process_api.call(\"selenium\", \"goto\", {\n",
    "    \"driver\": driver,\n",
    "    \"url\": \"http://127.0.0.1:8080/web/\",\n",
    "    \"wait\": \"h1\"\n",
    "})\n"
   ]
  },
  {
   "cell_type": "markdown",
   "source": [
    "## Wait and assert actions\n",
    "\n",
    "### Wait actions\n",
    "- time\n",
    "- is_ready\n",
    "- element\n",
    "- attribute\n",
    "- attributes\n",
    "- style_property\n",
    "- style_properties\n",
    "- element_property\n",
    "- element_properties\n",
    "- text_content\n",
    "- text_value\n",
    "- selected\n",
    "- child_count\n",
    "- element_count\n",
    "- window_count\n",
    "- idle\n",
    "- has_attribute\n",
    "- has_not_attribute\n",
    "- has_class\n",
    "- has_not_class\n",
    "\n",
    "### Assert actions\n",
    "\n",
    "- attributes\n",
    "- attribute_eq\n",
    "- attribute_neq\n",
    "- has_attribute\n",
    "- has_not_attribute\n",
    "- child_count_eq\n",
    "- child_count_neq\n",
    "- style_property_eq\n",
    "- style_property_neq\n",
    "- element_property_eq\n",
    "- element_property_neq\n",
    "- text_content_eq\n",
    "- text_content_neq\n",
    "- value_eq\n",
    "- value_neq\n",
    "- has_class\n",
    "- has_not_class\n",
    "- element_exists\n",
    "- element_count_eq\n",
    "- element_count_neq\n",
    "- element_not_exists"
   ],
   "metadata": {
    "collapsed": false
   }
  },
  {
   "cell_type": "code",
   "execution_count": null,
   "outputs": [],
   "source": [
    "await process_api.call(\"wait\", \"is_ready\", {\n",
    "    \"query\":  \"body\"\n",
    "})"
   ],
   "metadata": {
    "collapsed": false
   }
  },
  {
   "cell_type": "code",
   "execution_count": null,
   "outputs": [],
   "source": [
    "await process_api.call(\"wait\", \"attribute\", {\n",
    "    \"query\":  \"h1\",\n",
    "    \"attr\": \"data-ready\",\n",
    "    \"value\": \"true\"\n",
    "})\n",
    "\n",
    "await process_api.call(\"assert\", \"attribute_eq\", {\n",
    "    \"query\":  \"h1\",\n",
    "    \"attr\": \"data-ready\",\n",
    "    \"value\": \"true\"\n",
    "})\n",
    "\n",
    "await process_api.call(\"assert\", \"attribute_neq\", {\n",
    "    \"query\":  \"h1\",\n",
    "    \"attr\": \"data-ready\",\n",
    "    \"value\": \"false\"\n",
    "})\n",
    "\n",
    "await process_api.call(\"assert\", \"has_attribute\", {\n",
    "    \"query\":  \"h1\",\n",
    "    \"attr\": \"data-ready\"\n",
    "})\n",
    "\n",
    "await process_api.call(\"assert\", \"has_not_attribute\", {\n",
    "    \"query\":  \"h1\",\n",
    "    \"attr\": \"data-test\"\n",
    "})\n"
   ],
   "metadata": {
    "collapsed": false
   }
  },
  {
   "cell_type": "code",
   "execution_count": null,
   "outputs": [],
   "source": [
    "await process_api.call(\"wait\", \"attributes\", {\n",
    "    \"query\":  \"h1\",\n",
    "    \"attributes\": {\n",
    "        \"data-ready\": \"true\",\n",
    "    }\n",
    "})"
   ],
   "metadata": {
    "collapsed": false
   }
  },
  {
   "cell_type": "code",
   "execution_count": null,
   "outputs": [],
   "source": [
    "await process_api.call(\"wait\", \"style_property\", {\n",
    "    \"query\":  \"h1\",\n",
    "    \"property\": \"color\",\n",
    "    \"value\": \"rgba(255, 0, 0, 1)\"\n",
    "})\n",
    "\n",
    "await process_api.call(\"assert\", \"style_property_eq\", {\n",
    "    \"query\":  \"h1\",\n",
    "    \"property\": \"color\",\n",
    "    \"value\": \"rgba(255, 0, 0, 1)\"\n",
    "})\n",
    "\n",
    "await process_api.call(\"assert\", \"style_property_neq\", {\n",
    "    \"query\":  \"h1\",\n",
    "    \"property\": \"color\",\n",
    "    \"value\": \"rgba(255, 255, 0, 1)\"\n",
    "})\n"
   ],
   "metadata": {
    "collapsed": false
   }
  },
  {
   "cell_type": "code",
   "execution_count": null,
   "outputs": [],
   "source": [
    "await process_api.call(\"wait\", \"style_properties\", {\n",
    "    \"query\":  \"h1\",\n",
    "    \"properties\": {\n",
    "        \"color\": \"rgba(255, 0, 0, 1)\"\n",
    "    }\n",
    "})"
   ],
   "metadata": {
    "collapsed": false
   }
  },
  {
   "cell_type": "code",
   "execution_count": null,
   "outputs": [],
   "source": [
    "await process_api.call(\"wait\", \"element_property\", {\n",
    "    \"query\":  \"h1\",\n",
    "    \"property\": \"textContent\",\n",
    "    \"value\": \"Test Application\"\n",
    "})\n",
    "\n",
    "await process_api.call(\"assert\", \"element_property_eq\", {\n",
    "    \"query\":  \"h1\",\n",
    "    \"property\": \"textContent\",\n",
    "    \"value\": \"Test Application\"\n",
    "})\n",
    "\n",
    "await process_api.call(\"assert\", \"element_property_neq\", {\n",
    "    \"query\":  \"h1\",\n",
    "    \"property\": \"textContent\",\n",
    "    \"value\": \"Test\"\n",
    "})"
   ],
   "metadata": {
    "collapsed": false
   }
  },
  {
   "cell_type": "code",
   "execution_count": null,
   "outputs": [],
   "source": [
    "await process_api.call(\"wait\", \"element_properties\", {\n",
    "    \"query\":  \"h1\",\n",
    "    \"properties\": {\n",
    "        \"textContent\": \"Test Application\"\n",
    "    }\n",
    "})"
   ],
   "metadata": {
    "collapsed": false
   }
  },
  {
   "cell_type": "code",
   "execution_count": null,
   "outputs": [],
   "source": [
    "await process_api.call(\"wait\", \"text_content\", {\n",
    "    \"query\":  \"h1\",\n",
    "    \"value\": \"Test Application\"\n",
    "})\n",
    "\n",
    "await process_api.call(\"assert\", \"text_content_eq\", {\n",
    "    \"query\":  \"h1\",\n",
    "    \"value\": \"Test Application\"\n",
    "})\n",
    "\n",
    "await process_api.call(\"assert\", \"text_content_neq\", {\n",
    "    \"query\":  \"h1\",\n",
    "    \"value\": \"Test\"\n",
    "})"
   ],
   "metadata": {
    "collapsed": false
   }
  },
  {
   "cell_type": "code",
   "execution_count": null,
   "outputs": [],
   "source": [
    "await process_api.call(\"wait\", \"text_value\", {\n",
    "    \"query\":  \"#cbHTML\",\n",
    "    \"value\": \"HTML\"\n",
    "})\n",
    "\n",
    "await process_api.call(\"assert\", \"value_eq\", {\n",
    "    \"query\":  \"#cbHTML\",\n",
    "    \"value\": \"HTML\"\n",
    "})\n",
    "\n",
    "await process_api.call(\"assert\", \"value_neq\", {\n",
    "    \"query\":  \"#cbHTML\",\n",
    "    \"value\": \"CSS\"\n",
    "})"
   ],
   "metadata": {
    "collapsed": false
   }
  },
  {
   "cell_type": "code",
   "execution_count": null,
   "outputs": [],
   "source": [
    "await process_api.call(\"wait\", \"selected\", {\n",
    "    \"query\":  \"#cbHTML\",\n",
    "    \"value\": True\n",
    "})"
   ],
   "metadata": {
    "collapsed": false
   }
  },
  {
   "cell_type": "code",
   "execution_count": null,
   "outputs": [],
   "source": [
    "await process_api.call(\"wait\", \"child_count\", {\n",
    "    \"query\":  \"#radio-container\",\n",
    "    \"count\": 16\n",
    "})\n",
    "\n",
    "await process_api.call(\"assert\", \"child_count_eq\", {\n",
    "    \"query\":  \"#radio-container\",\n",
    "    \"count\": 16\n",
    "})\n",
    "\n",
    "await process_api.call(\"assert\", \"child_count_neq\", {\n",
    "    \"query\":  \"#radio-container\",\n",
    "    \"count\": 10\n",
    "})"
   ],
   "metadata": {
    "collapsed": false
   }
  },
  {
   "cell_type": "code",
   "execution_count": null,
   "outputs": [],
   "source": [
    "await process_api.call(\"wait\", \"element_count\", {\n",
    "    \"query\":  \"h1\",\n",
    "    \"count\": 1\n",
    "})\n",
    "\n",
    "await process_api.call(\"assert\", \"element_count_eq\", {\n",
    "    \"query\":  \"h1\",\n",
    "    \"count\": 1\n",
    "})\n",
    "\n",
    "await process_api.call(\"assert\", \"element_count_neq\", {\n",
    "    \"query\":  \"h1\",\n",
    "    \"count\": 2\n",
    "})"
   ],
   "metadata": {
    "collapsed": false
   }
  },
  {
   "cell_type": "code",
   "execution_count": null,
   "outputs": [],
   "source": [
    "await process_api.call(\"wait\", \"window_count\", {\n",
    "    \"count\": 1\n",
    "})"
   ],
   "metadata": {
    "collapsed": false
   }
  },
  {
   "cell_type": "code",
   "execution_count": null,
   "outputs": [],
   "source": [
    "await process_api.call(\"wait\", \"idle\", {})"
   ],
   "metadata": {
    "collapsed": false
   }
  },
  {
   "cell_type": "code",
   "execution_count": null,
   "outputs": [],
   "source": [
    "await process_api.call(\"wait\", \"has_attribute\", {\n",
    "    \"query\": \"h1\",\n",
    "    \"attr\": \"data-ready\"\n",
    "})\n",
    "\n",
    "await process_api.call(\"assert\", \"has_attribute\", {\n",
    "    \"query\": \"h1\",\n",
    "    \"attr\": \"data-ready\"\n",
    "})\n",
    "\n",
    "await process_api.call(\"wait\", \"has_not_attribute\", {\n",
    "    \"query\": \"p\",\n",
    "    \"attr\": \"data-ready\"\n",
    "})\n",
    "\n",
    "await process_api.call(\"wait\", \"has_not_attribute\", {\n",
    "    \"query\": \"p\",\n",
    "    \"attr\": \"data-ready\"\n",
    "})"
   ],
   "metadata": {
    "collapsed": false
   }
  },
  {
   "cell_type": "code",
   "execution_count": null,
   "outputs": [],
   "source": [
    "await process_api.call(\"wait\", \"has_class\", {\n",
    "    \"query\": \"h1\",\n",
    "    \"class\": \"back\"\n",
    "})\n",
    "\n",
    "await process_api.call(\"assert\", \"has_class\", {\n",
    "    \"query\": \"h1\",\n",
    "    \"class\": \"back\"\n",
    "})\n",
    "\n",
    "await process_api.call(\"wait\", \"has_not_class\", {\n",
    "    \"query\": \"p\",\n",
    "    \"class\": \"back\"\n",
    "})\n",
    "\n",
    "await process_api.call(\"assert\", \"has_not_class\", {\n",
    "    \"query\": \"p\",\n",
    "    \"class\": \"back\"\n",
    "})"
   ],
   "metadata": {
    "collapsed": false
   }
  },
  {
   "cell_type": "markdown",
   "source": [
    "## Perform actions\n",
    "\n",
    "- navigate\n",
    "- open_and_close_url\n",
    "- close_window\n",
    "- refresh\n",
    "- click\n",
    "- dbl_click\n",
    "- context_click\n",
    "- click_sequence\n",
    "- dbl_click_sequence\n",
    "- press_key\n",
    "- print_screen\n",
    "- select_option\n",
    "- switch_to_window\n",
    "- switch_to_frame\n",
    "- switch_to_default\n",
    "- switch_to_tab\n",
    "- type_text\n",
    "- hover_over_element\n",
    "- move_by\n",
    "- drag_and_drop\n",
    "- drag_and_drop_by\n",
    "- drag_and_drop_by_offset"
   ],
   "metadata": {
    "collapsed": false
   }
  },
  {
   "cell_type": "code",
   "execution_count": null,
   "outputs": [],
   "source": [
    "await process_api.call(\"perform\", \"navigate\", {\n",
    "    \"url\": \"http://127.0.0.1:8080/web/\",\n",
    "    \"wait\": \"h1\"\n",
    "})"
   ],
   "metadata": {
    "collapsed": false
   }
  },
  {
   "cell_type": "code",
   "execution_count": null,
   "outputs": [],
   "source": [
    "await process_api.call(\"perform\", \"refresh\")"
   ],
   "metadata": {
    "collapsed": false
   }
  },
  {
   "cell_type": "code",
   "execution_count": null,
   "outputs": [],
   "source": [
    "await process_api.call(\"perform\", \"click\", {\n",
    "    \"query\": \"h1\"\n",
    "})"
   ],
   "metadata": {
    "collapsed": false
   }
  },
  {
   "cell_type": "code",
   "execution_count": null,
   "outputs": [],
   "source": [
    "await process_api.call(\"perform\", \"dbl_click\", {\n",
    "    \"query\": \"h1\"\n",
    "})"
   ],
   "metadata": {
    "collapsed": false
   }
  },
  {
   "cell_type": "code",
   "execution_count": null,
   "outputs": [],
   "source": [
    "await process_api.call(\"perform\", \"context_click\", {\n",
    "    \"query\": \"h1\"\n",
    "})"
   ],
   "metadata": {
    "collapsed": false
   }
  },
  {
   "cell_type": "code",
   "execution_count": null,
   "outputs": [],
   "source": [
    "await process_api.call(\"perform\", \"context_click\", {\n",
    "    \"sequence\": [\"h1\", \"#radio-container\"]\n",
    "})"
   ],
   "metadata": {
    "collapsed": false
   }
  },
  {
   "cell_type": "code",
   "execution_count": null,
   "outputs": [],
   "source": [
    "await process_api.call(\"perform\", \"dbl_click_sequence\", {\n",
    "    \"sequence\": [\"h1\", \"#radio-container\"]\n",
    "})"
   ],
   "metadata": {
    "collapsed": false
   }
  },
  {
   "cell_type": "code",
   "execution_count": null,
   "outputs": [],
   "source": [
    "await process_api.call(\"perform\", \"press_key\", {\n",
    "    \"query\": \"container-component child-component [data-field='model.firstName']\",\n",
    "    \"key\": \"ARROW_LEFT\"\n",
    "})"
   ],
   "metadata": {
    "collapsed": false
   }
  },
  {
   "cell_type": "code",
   "execution_count": null,
   "outputs": [],
   "source": [
    "await process_api.call(\"perform\", \"print_screen\", {\n",
    "    \"file\": \"test.png\"\n",
    "})"
   ],
   "metadata": {
    "collapsed": false
   }
  },
  {
   "cell_type": "code",
   "execution_count": null,
   "outputs": [],
   "source": [
    "await process_api.call(\"perform\", \"select_option\", {\n",
    "    \"query\": \"select\",\n",
    "    \"value\": \"crs\"\n",
    "})"
   ],
   "metadata": {
    "collapsed": false
   }
  },
  {
   "cell_type": "code",
   "execution_count": null,
   "outputs": [],
   "source": [
    "await process_api.call(\"perform\", \"switch_to_window\", {\n",
    "    \"index\": 0\n",
    "})"
   ],
   "metadata": {
    "collapsed": false
   }
  },
  {
   "cell_type": "code",
   "execution_count": null,
   "outputs": [],
   "source": [
    "await process_api.call(\"perform\", \"switch_to_frame\", {\n",
    "    \"query\": \"#frame\"\n",
    "})\n",
    "\n",
    "time.sleep(0.5)\n",
    "\n",
    "await process_api.call(\"perform\", \"switch_to_default\", {})"
   ],
   "metadata": {
    "collapsed": false
   }
  },
  {
   "cell_type": "code",
   "execution_count": null,
   "outputs": [],
   "source": [
    "await process_api.call(\"perform\", \"type_text\", {\n",
    "    \"query\": \"container-component child-component [data-field='model.firstName']\",\n",
    "    \"value\": \"Hello World\"\n",
    "})\n",
    "\n",
    "time.sleep(0.5)\n",
    "\n",
    "await process_api.call(\"perform\", \"clear\", {\n",
    "    \"query\": \"container-component child-component [data-field='model.firstName']\",\n",
    "})"
   ],
   "metadata": {
    "collapsed": false
   }
  },
  {
   "cell_type": "code",
   "execution_count": null,
   "outputs": [],
   "source": [
    "await process_api.call(\"perform\", \"hover_over_element\", {\n",
    "    \"query\": \"container-component child-component [data-field='model.firstName']\",\n",
    "})"
   ],
   "metadata": {
    "collapsed": false
   }
  },
  {
   "cell_type": "code",
   "execution_count": null,
   "outputs": [],
   "source": [
    "# await process_api.call(\"perform\", \"move_by\", {\n",
    "#     \"query\": \".drag\",\n",
    "#     \"x\": 200,\n",
    "#     \"y\": 0\n",
    "# })"
   ],
   "metadata": {
    "collapsed": false
   }
  },
  {
   "cell_type": "code",
   "execution_count": null,
   "outputs": [],
   "source": [
    "# await process_api.call(\"perform\", \"move_to\", {\n",
    "#     \"query\": \".drag\",\n",
    "#     \"x\": 200,\n",
    "#     \"y\": 200\n",
    "# })"
   ],
   "metadata": {
    "collapsed": false
   }
  },
  {
   "cell_type": "code",
   "execution_count": null,
   "outputs": [],
   "source": [
    "await process_api.call(\"selenium\", \"close_driver\", {\n",
    "    \"driver\": driver\n",
    "})\n",
    "\n",
    "print(\"done\")"
   ],
   "metadata": {
    "collapsed": false
   }
  }
 ],
 "metadata": {
  "kernelspec": {
   "display_name": "Python 3",
   "language": "python",
   "name": "python3"
  },
  "language_info": {
   "codemirror_mode": {
    "name": "ipython",
    "version": 2
   },
   "file_extension": ".py",
   "mimetype": "text/x-python",
   "name": "python",
   "nbconvert_exporter": "python",
   "pygments_lexer": "ipython2",
   "version": "2.7.6"
  }
 },
 "nbformat": 4,
 "nbformat_minor": 0
}
