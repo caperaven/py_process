{
 "cells": [
  {
   "cell_type": "code",
   "execution_count": 73,
   "metadata": {
    "collapsed": true,
    "ExecuteTime": {
     "end_time": "2023-09-20T09:29:57.947321200Z",
     "start_time": "2023-09-20T09:29:54.834729Z"
    }
   },
   "outputs": [],
   "source": [
    "from process_api import process_api\n",
    "from process_api.modules.selenium import SeleniumModule\n",
    "import os\n",
    "import time\n",
    "\n",
    "SeleniumModule.register(process_api)\n",
    "\n",
    "current_directory = os.getcwd()\n",
    "full_chrome_path = os.path.join(current_directory, \"./../../../chrome/chromedriver.exe\")\n",
    "full_chrome_path = os.path.normpath(full_chrome_path)\n",
    "\n",
    "driver = await process_api.call(\"selenium\", \"init_driver\", {\n",
    "    \"browser\": \"chrome\",\n",
    "    \"options\": {\n",
    "        \"driver_path\": full_chrome_path\n",
    "    }\n",
    "})\n",
    "\n",
    "process_api.set_variable(\"driver\", driver)\n",
    "\n",
    "await process_api.call(\"selenium\", \"goto\", {\n",
    "    \"driver\": driver,\n",
    "    \"url\": \"http://127.0.0.1:8080/web/\",\n",
    "    \"wait\": \"h1\"\n",
    "})\n"
   ]
  },
  {
   "cell_type": "code",
   "execution_count": 74,
   "outputs": [],
   "source": [
    "await process_api.call(\"wait\", \"is_ready\", {\n",
    "    \"query\":  \"body\"\n",
    "})"
   ],
   "metadata": {
    "collapsed": false,
    "ExecuteTime": {
     "end_time": "2023-09-20T09:29:57.978833100Z",
     "start_time": "2023-09-20T09:29:57.948320900Z"
    }
   }
  },
  {
   "cell_type": "code",
   "execution_count": 75,
   "outputs": [],
   "source": [
    "await process_api.call(\"wait\", \"attribute\", {\n",
    "    \"query\":  \"h1\",\n",
    "    \"attr\": \"data-ready\",\n",
    "    \"value\": \"true\"\n",
    "})"
   ],
   "metadata": {
    "collapsed": false,
    "ExecuteTime": {
     "end_time": "2023-09-20T09:29:58.011832800Z",
     "start_time": "2023-09-20T09:29:57.978833100Z"
    }
   }
  },
  {
   "cell_type": "code",
   "execution_count": 76,
   "outputs": [],
   "source": [
    "await process_api.call(\"wait\", \"attributes\", {\n",
    "    \"query\":  \"h1\",\n",
    "    \"attributes\": {\n",
    "        \"data-ready\": \"true\",\n",
    "    }\n",
    "})"
   ],
   "metadata": {
    "collapsed": false,
    "ExecuteTime": {
     "end_time": "2023-09-20T09:29:58.041856400Z",
     "start_time": "2023-09-20T09:29:58.010833400Z"
    }
   }
  },
  {
   "cell_type": "code",
   "execution_count": 77,
   "outputs": [],
   "source": [
    "await process_api.call(\"wait\", \"style_property\", {\n",
    "    \"query\":  \"h1\",\n",
    "    \"property\": \"color\",\n",
    "    \"value\": \"rgba(255, 0, 0, 1)\"\n",
    "})"
   ],
   "metadata": {
    "collapsed": false,
    "ExecuteTime": {
     "end_time": "2023-09-20T09:29:58.073379Z",
     "start_time": "2023-09-20T09:29:58.041856400Z"
    }
   }
  },
  {
   "cell_type": "code",
   "execution_count": 78,
   "outputs": [],
   "source": [
    "await process_api.call(\"wait\", \"style_properties\", {\n",
    "    \"query\":  \"h1\",\n",
    "    \"properties\": {\n",
    "        \"color\": \"rgba(255, 0, 0, 1)\"\n",
    "    }\n",
    "})"
   ],
   "metadata": {
    "collapsed": false,
    "ExecuteTime": {
     "end_time": "2023-09-20T09:29:58.103354Z",
     "start_time": "2023-09-20T09:29:58.072380100Z"
    }
   }
  },
  {
   "cell_type": "code",
   "execution_count": 79,
   "outputs": [],
   "source": [
    "await process_api.call(\"wait\", \"element_property\", {\n",
    "    \"query\":  \"h1\",\n",
    "    \"property\": \"textContent\",\n",
    "    \"value\": \"Test Application\"\n",
    "})"
   ],
   "metadata": {
    "collapsed": false,
    "ExecuteTime": {
     "end_time": "2023-09-20T09:29:58.134375800Z",
     "start_time": "2023-09-20T09:29:58.104355800Z"
    }
   }
  },
  {
   "cell_type": "code",
   "execution_count": 80,
   "outputs": [],
   "source": [
    "await process_api.call(\"wait\", \"element_properties\", {\n",
    "    \"query\":  \"h1\",\n",
    "    \"properties\": {\n",
    "        \"textContent\": \"Test Application\"\n",
    "    }\n",
    "})"
   ],
   "metadata": {
    "collapsed": false,
    "ExecuteTime": {
     "end_time": "2023-09-20T09:29:58.166890200Z",
     "start_time": "2023-09-20T09:29:58.135377300Z"
    }
   }
  },
  {
   "cell_type": "code",
   "execution_count": 81,
   "outputs": [],
   "source": [
    "await process_api.call(\"wait\", \"text_content\", {\n",
    "    \"query\":  \"h1\",\n",
    "    \"value\": \"Test Application\"\n",
    "})"
   ],
   "metadata": {
    "collapsed": false,
    "ExecuteTime": {
     "end_time": "2023-09-20T09:29:58.202233700Z",
     "start_time": "2023-09-20T09:29:58.166890200Z"
    }
   }
  },
  {
   "cell_type": "code",
   "execution_count": 82,
   "outputs": [],
   "source": [
    "await process_api.call(\"wait\", \"selected\", {\n",
    "    \"query\":  \"#cbHTML\",\n",
    "    \"value\": True\n",
    "})"
   ],
   "metadata": {
    "collapsed": false,
    "ExecuteTime": {
     "end_time": "2023-09-20T09:29:58.227486Z",
     "start_time": "2023-09-20T09:29:58.197237500Z"
    }
   }
  },
  {
   "cell_type": "code",
   "execution_count": 83,
   "outputs": [],
   "source": [
    "await process_api.call(\"wait\", \"child_count\", {\n",
    "    \"query\":  \"#radio-container\",\n",
    "    \"count\": 8\n",
    "})"
   ],
   "metadata": {
    "collapsed": false,
    "ExecuteTime": {
     "end_time": "2023-09-20T09:29:58.259526700Z",
     "start_time": "2023-09-20T09:29:58.228486Z"
    }
   }
  },
  {
   "cell_type": "code",
   "execution_count": 84,
   "outputs": [],
   "source": [
    "await process_api.call(\"wait\", \"element_count\", {\n",
    "    \"query\":  \"h1\",\n",
    "    \"count\": 1\n",
    "})"
   ],
   "metadata": {
    "collapsed": false,
    "ExecuteTime": {
     "end_time": "2023-09-20T09:29:58.291566300Z",
     "start_time": "2023-09-20T09:29:58.259526700Z"
    }
   }
  },
  {
   "cell_type": "code",
   "execution_count": 85,
   "outputs": [],
   "source": [
    "await process_api.call(\"wait\", \"window_count\", {\n",
    "    \"count\": 1\n",
    "})"
   ],
   "metadata": {
    "collapsed": false,
    "ExecuteTime": {
     "end_time": "2023-09-20T09:29:58.305581500Z",
     "start_time": "2023-09-20T09:29:58.290565400Z"
    }
   }
  },
  {
   "cell_type": "code",
   "execution_count": 86,
   "outputs": [],
   "source": [
    "await process_api.call(\"wait\", \"idle\", {})"
   ],
   "metadata": {
    "collapsed": false,
    "ExecuteTime": {
     "end_time": "2023-09-20T09:29:58.335599400Z",
     "start_time": "2023-09-20T09:29:58.306584100Z"
    }
   }
  },
  {
   "cell_type": "code",
   "execution_count": 87,
   "outputs": [],
   "source": [
    "await process_api.call(\"wait\", \"has_attribute\", {\n",
    "    \"query\": \"h1\",\n",
    "    \"attr\": \"data-ready\"\n",
    "})\n",
    "\n",
    "await process_api.call(\"wait\", \"has_not_attribute\", {\n",
    "    \"query\": \"p\",\n",
    "    \"attr\": \"data-ready\"\n",
    "})"
   ],
   "metadata": {
    "collapsed": false,
    "ExecuteTime": {
     "end_time": "2023-09-20T09:29:58.383693300Z",
     "start_time": "2023-09-20T09:29:58.336595400Z"
    }
   }
  },
  {
   "cell_type": "code",
   "execution_count": 88,
   "outputs": [],
   "source": [
    "await process_api.call(\"wait\", \"has_class\", {\n",
    "    \"query\": \"h1\",\n",
    "    \"class\": \"back\"\n",
    "})\n",
    "\n",
    "await process_api.call(\"wait\", \"has_not_class\", {\n",
    "    \"query\": \"p\",\n",
    "    \"class\": \"back\"\n",
    "})"
   ],
   "metadata": {
    "collapsed": false,
    "ExecuteTime": {
     "end_time": "2023-09-20T09:29:58.429707100Z",
     "start_time": "2023-09-20T09:29:58.383693300Z"
    }
   }
  },
  {
   "cell_type": "code",
   "execution_count": 89,
   "outputs": [
    {
     "name": "stdout",
     "output_type": "stream",
     "text": [
      "done\n"
     ]
    }
   ],
   "source": [
    "await process_api.call(\"selenium\", \"close_driver\", {\n",
    "    \"driver\": driver\n",
    "})\n",
    "\n",
    "print(\"done\")"
   ],
   "metadata": {
    "collapsed": false,
    "ExecuteTime": {
     "end_time": "2023-09-20T09:30:00.534017700Z",
     "start_time": "2023-09-20T09:29:58.430709300Z"
    }
   }
  }
 ],
 "metadata": {
  "kernelspec": {
   "display_name": "Python 3",
   "language": "python",
   "name": "python3"
  },
  "language_info": {
   "codemirror_mode": {
    "name": "ipython",
    "version": 2
   },
   "file_extension": ".py",
   "mimetype": "text/x-python",
   "name": "python",
   "nbconvert_exporter": "python",
   "pygments_lexer": "ipython2",
   "version": "2.7.6"
  }
 },
 "nbformat": 4,
 "nbformat_minor": 0
}
