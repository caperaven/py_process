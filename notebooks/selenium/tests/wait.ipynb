{
 "cells": [
  {
   "cell_type": "code",
   "execution_count": 1,
   "metadata": {
    "collapsed": true
   },
   "outputs": [],
   "source": [
    "from process_api import process_api\n",
    "from process_api.modules.selenium import SeleniumModule\n",
    "import os\n",
    "import time\n",
    "\n",
    "SeleniumModule.register(process_api)\n",
    "\n",
    "current_directory = os.getcwd()\n",
    "full_chrome_path = os.path.join(current_directory, \"./../../../chrome/chromedriver.exe\")\n",
    "full_chrome_path = os.path.normpath(full_chrome_path)\n",
    "\n",
    "driver = await process_api.call(\"selenium\", \"init_driver\", {\n",
    "    \"browser\": \"chrome\",\n",
    "    \"options\": {\n",
    "        \"driver_path\": full_chrome_path\n",
    "    }\n",
    "})\n",
    "\n",
    "process_api.set_variable(\"driver\", driver)\n",
    "\n",
    "await process_api.call(\"selenium\", \"goto\", {\n",
    "    \"driver\": driver,\n",
    "    \"url\": \"http://127.0.0.1:8080/web/\",\n",
    "    \"wait\": \"h1\"\n",
    "})\n"
   ]
  },
  {
   "cell_type": "code",
   "execution_count": null,
   "outputs": [],
   "source": [
    "await process_api.call(\"wait\", \"is_ready\", {\n",
    "    \"query\":  \"body\"\n",
    "})"
   ],
   "metadata": {
    "collapsed": false
   }
  },
  {
   "cell_type": "code",
   "execution_count": null,
   "outputs": [],
   "source": [
    "await process_api.call(\"wait\", \"attribute\", {\n",
    "    \"query\":  \"h1\",\n",
    "    \"attr\": \"data-ready\",\n",
    "    \"value\": \"true\"\n",
    "})"
   ],
   "metadata": {
    "collapsed": false
   }
  },
  {
   "cell_type": "code",
   "execution_count": null,
   "outputs": [],
   "source": [
    "await process_api.call(\"wait\", \"attributes\", {\n",
    "    \"query\":  \"h1\",\n",
    "    \"attributes\": {\n",
    "        \"data-ready\": \"true\",\n",
    "    }\n",
    "})"
   ],
   "metadata": {
    "collapsed": false
   }
  },
  {
   "cell_type": "code",
   "execution_count": null,
   "outputs": [],
   "source": [
    "await process_api.call(\"wait\", \"style_property\", {\n",
    "    \"query\":  \"h1\",\n",
    "    \"property\": \"color\",\n",
    "    \"value\": \"rgba(255, 0, 0, 1)\"\n",
    "})"
   ],
   "metadata": {
    "collapsed": false
   }
  },
  {
   "cell_type": "code",
   "execution_count": null,
   "outputs": [],
   "source": [
    "await process_api.call(\"wait\", \"style_properties\", {\n",
    "    \"query\":  \"h1\",\n",
    "    \"properties\": {\n",
    "        \"color\": \"rgba(255, 0, 0, 1)\"\n",
    "    }\n",
    "})"
   ],
   "metadata": {
    "collapsed": false
   }
  },
  {
   "cell_type": "code",
   "execution_count": null,
   "outputs": [],
   "source": [
    "await process_api.call(\"wait\", \"element_property\", {\n",
    "    \"query\":  \"h1\",\n",
    "    \"property\": \"textContent\",\n",
    "    \"value\": \"Test Application\"\n",
    "})"
   ],
   "metadata": {
    "collapsed": false
   }
  },
  {
   "cell_type": "code",
   "execution_count": null,
   "outputs": [],
   "source": [
    "await process_api.call(\"wait\", \"element_properties\", {\n",
    "    \"query\":  \"h1\",\n",
    "    \"properties\": {\n",
    "        \"textContent\": \"Test Application\"\n",
    "    }\n",
    "})"
   ],
   "metadata": {
    "collapsed": false
   }
  },
  {
   "cell_type": "code",
   "execution_count": null,
   "outputs": [],
   "source": [
    "await process_api.call(\"wait\", \"text_content\", {\n",
    "    \"query\":  \"h1\",\n",
    "    \"value\": \"Test Application\"\n",
    "})"
   ],
   "metadata": {
    "collapsed": false
   }
  },
  {
   "cell_type": "code",
   "execution_count": null,
   "outputs": [],
   "source": [
    "await process_api.call(\"wait\", \"selected\", {\n",
    "    \"query\":  \"#cbHTML\",\n",
    "    \"value\": True\n",
    "})"
   ],
   "metadata": {
    "collapsed": false
   }
  },
  {
   "cell_type": "code",
   "execution_count": null,
   "outputs": [],
   "source": [
    "await process_api.call(\"wait\", \"child_count\", {\n",
    "    \"query\":  \"#radio-container\",\n",
    "    \"count\": 8\n",
    "})"
   ],
   "metadata": {
    "collapsed": false
   }
  },
  {
   "cell_type": "code",
   "execution_count": 2,
   "outputs": [],
   "source": [
    "await process_api.call(\"wait\", \"element_count\", {\n",
    "    \"query\":  \"h1\",\n",
    "    \"count\": 1\n",
    "})"
   ],
   "metadata": {
    "collapsed": false,
    "ExecuteTime": {
     "end_time": "2023-09-20T08:12:55.641508200Z",
     "start_time": "2023-09-20T08:12:55.612799100Z"
    }
   }
  },
  {
   "cell_type": "code",
   "execution_count": null,
   "outputs": [],
   "source": [
    "await process_api.call(\"selenium\", \"close_driver\", {\n",
    "    \"driver\": driver\n",
    "})\n",
    "\n",
    "process_api.delete_variable(\"driver\")\n",
    "\n",
    "print(\"done\")"
   ],
   "metadata": {
    "collapsed": false
   }
  }
 ],
 "metadata": {
  "kernelspec": {
   "display_name": "Python 3",
   "language": "python",
   "name": "python3"
  },
  "language_info": {
   "codemirror_mode": {
    "name": "ipython",
    "version": 2
   },
   "file_extension": ".py",
   "mimetype": "text/x-python",
   "name": "python",
   "nbconvert_exporter": "python",
   "pygments_lexer": "ipython2",
   "version": "2.7.6"
  }
 },
 "nbformat": 4,
 "nbformat_minor": 0
}
