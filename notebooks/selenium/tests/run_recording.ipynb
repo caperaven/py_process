{
 "cells": [
  {
   "cell_type": "code",
   "execution_count": 1,
   "metadata": {
    "collapsed": true,
    "ExecuteTime": {
     "end_time": "2023-09-26T10:04:48.800238500Z",
     "start_time": "2023-09-26T10:04:41.279856400Z"
    }
   },
   "outputs": [
    {
     "name": "stderr",
     "output_type": "stream",
     "text": [
      "2023-09-26 12:04:42,427 - process_api - INFO - run schema: \"Large Recording\"\n",
      "2023-09-26 12:04:42,429 - process_api - INFO - run process: \"main\"\n",
      "2023-09-26 12:04:42,429 - process_api - INFO - run step: \"start\"\n",
      "2023-09-26 12:04:42,443 - process_api - INFO - run step: \"step_1\"\n",
      "2023-09-26 12:04:42,783 - process_api - INFO - run step: \"step_2\"\n",
      "2023-09-26 12:04:43,255 - process_api - INFO - run step: \"step_3\"\n",
      "2023-09-26 12:04:43,293 - process_api - INFO - run step: \"step_4\"\n",
      "2023-09-26 12:04:43,329 - process_api - INFO - run step: \"step_5\"\n",
      "2023-09-26 12:04:43,365 - process_api - INFO - run step: \"step_6\"\n",
      "2023-09-26 12:04:43,400 - process_api - INFO - run step: \"step_7\"\n"
     ]
    }
   ],
   "source": [
    "from process_api import process_api\n",
    "from process_api.modules.selenium import SeleniumModule\n",
    "import os\n",
    "import time\n",
    "\n",
    "from notebooks.selenium.tests.schemas.google_recording import google_recording\n",
    "\n",
    "SeleniumModule.register(process_api)\n",
    "\n",
    "current_directory = os.getcwd()\n",
    "full_chrome_path = os.path.join(current_directory, \"./../../../chrome/chromedriver.exe\")\n",
    "full_chrome_path = os.path.normpath(full_chrome_path)\n",
    "\n",
    "try:\n",
    "    driver = await process_api.call(\"selenium\", \"init_driver\", {\n",
    "        \"browser\": \"chrome\",\n",
    "        \"options\": {\n",
    "            \"driver_path\": full_chrome_path\n",
    "        }\n",
    "    })\n",
    "\n",
    "    process_api.set_variable(\"driver\", driver)\n",
    "\n",
    "    await process_api.call(\"selenium\", \"goto\", {\n",
    "        \"driver\": driver,\n",
    "        \"url\": \"http://127.0.0.1:8080/web/\",\n",
    "        \"wait\": \"h1\"\n",
    "    })\n",
    "\n",
    "    await process_api.call(\"selenium\", \"run_google_recording\", {\n",
    "        \"driver\": driver,\n",
    "        \"recording\": google_recording\n",
    "    })\n",
    "\n",
    "    await process_api.call(\"selenium\", \"close_driver\", {\n",
    "        \"driver\": driver\n",
    "    })\n",
    "\n",
    "    time.sleep(5)\n",
    "except Exception as e:\n",
    "    print(e)\n",
    "    pass\n"
   ]
  },
  {
   "cell_type": "code",
   "execution_count": null,
   "outputs": [],
   "source": [],
   "metadata": {
    "collapsed": false
   }
  }
 ],
 "metadata": {
  "kernelspec": {
   "display_name": "Python 3",
   "language": "python",
   "name": "python3"
  },
  "language_info": {
   "codemirror_mode": {
    "name": "ipython",
    "version": 2
   },
   "file_extension": ".py",
   "mimetype": "text/x-python",
   "name": "python",
   "nbconvert_exporter": "python",
   "pygments_lexer": "ipython2",
   "version": "2.7.6"
  }
 },
 "nbformat": 4,
 "nbformat_minor": 0
}
