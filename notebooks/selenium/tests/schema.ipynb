{
 "cells": [
  {
   "cell_type": "code",
   "execution_count": 4,
   "metadata": {
    "collapsed": true,
    "ExecuteTime": {
     "end_time": "2023-09-28T07:10:19.940601200Z",
     "start_time": "2023-09-28T07:10:16.885449400Z"
    }
   },
   "outputs": [],
   "source": [
    "from process_api import process_api\n",
    "from process_api.modules.selenium import SeleniumModule\n",
    "import os\n",
    "\n",
    "SeleniumModule.register(process_api)\n",
    "process_api.logger.set_level(\"info\")\n",
    "\n",
    "current_directory = os.getcwd()\n",
    "full_chrome_path = os.path.join(current_directory, \"./../../../chrome/chromedriver.exe\")\n",
    "full_chrome_path = os.path.normpath(full_chrome_path)\n",
    "\n",
    "driver = await process_api.call(\"selenium\", \"init_driver\", {\n",
    "    \"browser\": \"chrome\",\n",
    "    \"options\": {\n",
    "        \"driver_path\": full_chrome_path\n",
    "    }\n",
    "})\n"
   ]
  },
  {
   "cell_type": "code",
   "execution_count": 5,
   "outputs": [
    {
     "name": "stderr",
     "output_type": "stream",
     "text": [
      "2023-09-28 09:10:19,948 - process_api - INFO - run schema: \"shadow-dom\"\n",
      "2023-09-28 09:10:19,948 - process_api - INFO - run process: \"main\"\n",
      "2023-09-28 09:10:19,949 - process_api - INFO - run step: \"start\"\n",
      "2023-09-28 09:10:20,018 - process_api - INFO - run step: \"click_on_button\"\n",
      "2023-09-28 09:10:22,102 - process_api - INFO - run step: \"wait_child-component_ready\"\n"
     ]
    }
   ],
   "source": [
    "await process_api.run_from_file(process_api, \"./schemas/shadow-dom.json\", None, {})"
   ],
   "metadata": {
    "collapsed": false,
    "ExecuteTime": {
     "end_time": "2023-09-28T07:10:24.126315800Z",
     "start_time": "2023-09-28T07:10:19.939600Z"
    }
   }
  },
  {
   "cell_type": "code",
   "execution_count": 6,
   "outputs": [
    {
     "name": "stderr",
     "output_type": "stream",
     "text": [
      "2023-09-28 09:10:24,127 - process_api - INFO - run schema: \"window\"\n",
      "2023-09-28 09:10:24,128 - process_api - INFO - run process: \"main\"\n",
      "2023-09-28 09:10:24,128 - process_api - INFO - run step: \"start\"\n",
      "2023-09-28 09:10:24,171 - process_api - INFO - run step: \"click_on_button\"\n",
      "2023-09-28 09:10:24,254 - process_api - INFO - run step: \"wait_for_dialog\"\n",
      "2023-09-28 09:10:24,268 - process_api - INFO - run step: \"switch_to_dialog\"\n",
      "2023-09-28 09:10:24,272 - process_api - INFO - run step: \"close_dialog\"\n",
      "2023-09-28 09:10:24,318 - process_api - INFO - run step: \"wait_for_dialog_to_close\"\n",
      "2023-09-28 09:10:26,363 - process_api - INFO - run step: \"return_to_default\"\n"
     ]
    }
   ],
   "source": [
    "await process_api.run_from_file(process_api, \"./schemas/windows.json\", None, {})"
   ],
   "metadata": {
    "collapsed": false,
    "ExecuteTime": {
     "end_time": "2023-09-28T07:10:26.379569100Z",
     "start_time": "2023-09-28T07:10:24.126315800Z"
    }
   }
  },
  {
   "cell_type": "code",
   "execution_count": 7,
   "outputs": [
    {
     "name": "stderr",
     "output_type": "stream",
     "text": [
      "2023-09-28 09:10:26,380 - process_api - INFO - run schema: \"window\"\n",
      "2023-09-28 09:10:26,381 - process_api - INFO - run process: \"main\"\n",
      "2023-09-28 09:10:26,381 - process_api - INFO - run step: \"start\"\n",
      "2023-09-28 09:10:26,417 - process_api - INFO - run step: \"switch_to_frame\"\n",
      "2023-09-28 09:10:26,449 - process_api - INFO - run step: \"input_pet_name\"\n",
      "2023-09-28 09:10:26,902 - process_api - INFO - run step: \"switch_to_default\"\n",
      "2023-09-28 09:10:26,904 - process_api - INFO - run step: \"type_first_name\"\n"
     ]
    }
   ],
   "source": [
    "await process_api.run_from_file(process_api, \"./schemas/iframe.json\", None, {})"
   ],
   "metadata": {
    "collapsed": false,
    "ExecuteTime": {
     "end_time": "2023-09-28T07:10:27.399797300Z",
     "start_time": "2023-09-28T07:10:26.380570400Z"
    }
   }
  },
  {
   "cell_type": "code",
   "execution_count": 8,
   "outputs": [
    {
     "name": "stdout",
     "output_type": "stream",
     "text": [
      "Log content saved to my_log.log\n"
     ]
    }
   ],
   "source": [
    "process_api.logger.save_to_file(\"my_log.log\")\n",
    "await process_api.call(\"selenium\", \"close_driver\", {\n",
    "    \"driver\": driver\n",
    "})"
   ],
   "metadata": {
    "collapsed": false,
    "ExecuteTime": {
     "end_time": "2023-09-28T07:10:27.490821400Z",
     "start_time": "2023-09-28T07:10:27.398799400Z"
    }
   }
  }
 ],
 "metadata": {
  "kernelspec": {
   "display_name": "Python 3",
   "language": "python",
   "name": "python3"
  },
  "language_info": {
   "codemirror_mode": {
    "name": "ipython",
    "version": 2
   },
   "file_extension": ".py",
   "mimetype": "text/x-python",
   "name": "python",
   "nbconvert_exporter": "python",
   "pygments_lexer": "ipython2",
   "version": "2.7.6"
  }
 },
 "nbformat": 4,
 "nbformat_minor": 0
}
