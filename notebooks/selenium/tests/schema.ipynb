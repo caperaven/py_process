{
 "cells": [
  {
   "cell_type": "code",
   "execution_count": 2,
   "metadata": {
    "collapsed": true,
    "ExecuteTime": {
     "end_time": "2023-09-21T13:22:34.583059400Z",
     "start_time": "2023-09-21T13:22:27.296138100Z"
    }
   },
   "outputs": [],
   "source": [
    "from process_api import process_api\n",
    "from process_api.modules.selenium import SeleniumModule\n",
    "import os\n",
    "\n",
    "SeleniumModule.register(process_api)\n",
    "\n",
    "current_directory = os.getcwd()\n",
    "full_chrome_path = os.path.join(current_directory, \"./../../../chrome/chromedriver.exe\")\n",
    "full_chrome_path = os.path.normpath(full_chrome_path)\n",
    "\n",
    "try:\n",
    "    driver = await process_api.call(\"selenium\", \"init_driver\", {\n",
    "        \"browser\": \"chrome\",\n",
    "        \"options\": {\n",
    "            \"driver_path\": full_chrome_path\n",
    "        }\n",
    "    })\n",
    "\n",
    "    await process_api.run_from_file(process_api, \"./schemas/shadow-dom.json\", None, {})\n",
    "\n",
    "    await process_api.call(\"selenium\", \"close_driver\", {\n",
    "        \"driver\": driver\n",
    "    })\n",
    "except Exception as e:\n",
    "    print(e)\n",
    "    pass"
   ]
  },
  {
   "cell_type": "code",
   "execution_count": null,
   "outputs": [],
   "source": [],
   "metadata": {
    "collapsed": false
   }
  }
 ],
 "metadata": {
  "kernelspec": {
   "display_name": "Python 3",
   "language": "python",
   "name": "python3"
  },
  "language_info": {
   "codemirror_mode": {
    "name": "ipython",
    "version": 2
   },
   "file_extension": ".py",
   "mimetype": "text/x-python",
   "name": "python",
   "nbconvert_exporter": "python",
   "pygments_lexer": "ipython2",
   "version": "2.7.6"
  }
 },
 "nbformat": 4,
 "nbformat_minor": 0
}
