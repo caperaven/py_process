{
 "cells": [
  {
   "cell_type": "code",
   "execution_count": 1,
   "metadata": {
    "collapsed": true,
    "ExecuteTime": {
     "end_time": "2023-09-28T06:54:30.463144Z",
     "start_time": "2023-09-28T06:54:29.354249700Z"
    }
   },
   "outputs": [],
   "source": [
    "from process_api import process_api\n",
    "from process_api.modules.selenium import SeleniumModule\n",
    "import os\n",
    "\n",
    "SeleniumModule.register(process_api)\n",
    "process_api.logger.set_level(\"info\")\n",
    "\n",
    "current_directory = os.getcwd()\n",
    "full_chrome_path = os.path.join(current_directory, \"./../../../chrome/chromedriver.exe\")\n",
    "full_chrome_path = os.path.normpath(full_chrome_path)\n",
    "\n",
    "driver = await process_api.call(\"selenium\", \"init_driver\", {\n",
    "    \"browser\": \"chrome\",\n",
    "    \"options\": {\n",
    "        \"driver_path\": full_chrome_path\n",
    "    }\n",
    "})\n"
   ]
  },
  {
   "cell_type": "code",
   "execution_count": null,
   "outputs": [],
   "source": [
    "await process_api.run_from_file(process_api, \"./schemas/shadow-dom.json\", None, {})"
   ],
   "metadata": {
    "collapsed": false
   }
  },
  {
   "cell_type": "code",
   "execution_count": null,
   "outputs": [],
   "source": [
    "await process_api.run_from_file(process_api, \"./schemas/windows.json\", None, {})"
   ],
   "metadata": {
    "collapsed": false
   }
  },
  {
   "cell_type": "code",
   "execution_count": 2,
   "outputs": [
    {
     "name": "stderr",
     "output_type": "stream",
     "text": [
      "2023-09-28 08:54:35,063 - process_api - INFO - run schema: \"window\"\n",
      "2023-09-28 08:54:35,064 - process_api - INFO - run process: \"main\"\n",
      "2023-09-28 08:54:35,064 - process_api - INFO - run step: \"start\"\n",
      "2023-09-28 08:54:35,139 - process_api - INFO - run step: \"switch_to_frame\"\n",
      "2023-09-28 08:54:35,175 - process_api - INFO - run step: \"input_pet_name\"\n"
     ]
    }
   ],
   "source": [
    "await process_api.run_from_file(process_api, \"./schemas/iframe.json\", None, {})"
   ],
   "metadata": {
    "collapsed": false,
    "ExecuteTime": {
     "end_time": "2023-09-28T06:54:35.652030300Z",
     "start_time": "2023-09-28T06:54:35.064707100Z"
    }
   }
  },
  {
   "cell_type": "code",
   "execution_count": 3,
   "outputs": [
    {
     "name": "stdout",
     "output_type": "stream",
     "text": [
      "Log content saved to my_log.log\n"
     ]
    }
   ],
   "source": [
    "process_api.logger.save_to_file(\"my_log.log\")\n",
    "await process_api.call(\"selenium\", \"close_driver\", {\n",
    "    \"driver\": driver\n",
    "})"
   ],
   "metadata": {
    "collapsed": false,
    "ExecuteTime": {
     "end_time": "2023-09-28T06:54:40.069420900Z",
     "start_time": "2023-09-28T06:54:39.984430600Z"
    }
   }
  }
 ],
 "metadata": {
  "kernelspec": {
   "display_name": "Python 3",
   "language": "python",
   "name": "python3"
  },
  "language_info": {
   "codemirror_mode": {
    "name": "ipython",
    "version": 2
   },
   "file_extension": ".py",
   "mimetype": "text/x-python",
   "name": "python",
   "nbconvert_exporter": "python",
   "pygments_lexer": "ipython2",
   "version": "2.7.6"
  }
 },
 "nbformat": 4,
 "nbformat_minor": 0
}
