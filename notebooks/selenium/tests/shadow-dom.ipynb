{
 "cells": [
  {
   "cell_type": "code",
   "execution_count": 1,
   "metadata": {
    "collapsed": true,
    "ExecuteTime": {
     "end_time": "2023-09-28T08:16:13.186877500Z",
     "start_time": "2023-09-28T08:16:11.184112500Z"
    }
   },
   "outputs": [],
   "source": [
    "# %%pytest\n",
    "\n",
    "from process_api import process_api\n",
    "from process_api.modules.selenium import SeleniumModule\n",
    "import os\n",
    "import time\n",
    "\n",
    "SeleniumModule.register(process_api)\n",
    "process_api.logger.set_level(\"info\")\n",
    "\n",
    "current_directory = os.getcwd()\n",
    "full_chrome_path = os.path.join(current_directory, \"./../../../chrome/chromedriver.exe\")\n",
    "full_chrome_path = os.path.normpath(full_chrome_path)\n",
    "\n",
    "driver = await process_api.call(\"selenium\", \"init_driver\", {\n",
    "    \"browser\": \"chrome\",\n",
    "    \"options\": {\n",
    "        \"driver_path\": full_chrome_path\n",
    "    }\n",
    "})\n",
    "\n",
    "process_api.set_variable(\"driver\", driver)\n",
    "\n",
    "await process_api.call(\"selenium\", \"goto\", {\n",
    "    \"driver\": driver,\n",
    "    \"url\": \"http://127.0.0.1:8080/web/\",\n",
    "    \"wait\": \"h1\"\n",
    "})"
   ]
  },
  {
   "cell_type": "code",
   "execution_count": 2,
   "outputs": [
    {
     "data": {
      "text/plain": "<selenium.webdriver.remote.webelement.WebElement (session=\"a02cefa74ef52333356ef2ed002ca815\", element=\"415A83C67B2EF706918C6AEC5A318BFC_element_6\")>"
     },
     "execution_count": 2,
     "metadata": {},
     "output_type": "execute_result"
    }
   ],
   "source": [
    "await process_api.call(\"selenium\", \"get\", {\n",
    "    \"driver\": driver,\n",
    "    \"query\": \"h1\"\n",
    "})"
   ],
   "metadata": {
    "collapsed": false,
    "ExecuteTime": {
     "end_time": "2023-09-28T08:16:13.245399300Z",
     "start_time": "2023-09-28T08:16:13.186877500Z"
    }
   }
  },
  {
   "cell_type": "code",
   "execution_count": 3,
   "outputs": [
    {
     "data": {
      "text/plain": "<selenium.webdriver.remote.webelement.WebElement (session=\"a02cefa74ef52333356ef2ed002ca815\", element=\"415A83C67B2EF706918C6AEC5A318BFC_element_11\")>"
     },
     "execution_count": 3,
     "metadata": {},
     "output_type": "execute_result"
    }
   ],
   "source": [
    "await process_api.call(\"selenium\", \"get\", {\n",
    "    \"driver\": driver,\n",
    "    \"query\": \"container-component child-component button\"\n",
    "})"
   ],
   "metadata": {
    "collapsed": false,
    "ExecuteTime": {
     "end_time": "2023-09-28T08:16:13.306406300Z",
     "start_time": "2023-09-28T08:16:13.217400300Z"
    }
   }
  },
  {
   "cell_type": "code",
   "execution_count": 4,
   "outputs": [
    {
     "data": {
      "text/plain": "<selenium.webdriver.remote.webelement.WebElement (session=\"a02cefa74ef52333356ef2ed002ca815\", element=\"415A83C67B2EF706918C6AEC5A318BFC_element_11\")>"
     },
     "execution_count": 4,
     "metadata": {},
     "output_type": "execute_result"
    }
   ],
   "source": [
    "await process_api.call(\"selenium\", \"get\", {\n",
    "    \"driver\": driver,\n",
    "    \"query\": \"container-component[data-ready='true'] child-component[data-ready='true'] button\"\n",
    "})"
   ],
   "metadata": {
    "collapsed": false,
    "ExecuteTime": {
     "end_time": "2023-09-28T08:16:15.233422900Z",
     "start_time": "2023-09-28T08:16:13.279399Z"
    }
   }
  },
  {
   "cell_type": "code",
   "execution_count": 5,
   "outputs": [
    {
     "data": {
      "text/plain": "<selenium.webdriver.remote.webelement.WebElement (session=\"a02cefa74ef52333356ef2ed002ca815\", element=\"415A83C67B2EF706918C6AEC5A318BFC_element_17\")>"
     },
     "execution_count": 5,
     "metadata": {},
     "output_type": "execute_result"
    }
   ],
   "source": [
    "await process_api.call(\"selenium\", \"get\", {\n",
    "    \"driver\": driver,\n",
    "    \"query\": \"container-component[data-ready='true'] child-component[data-ready='true'] label:nth-of-type(1) > input\"\n",
    "})"
   ],
   "metadata": {
    "collapsed": false,
    "ExecuteTime": {
     "end_time": "2023-09-28T08:16:15.295459700Z",
     "start_time": "2023-09-28T08:16:15.234422700Z"
    }
   }
  },
  {
   "cell_type": "code",
   "execution_count": 6,
   "outputs": [
    {
     "name": "stdout",
     "output_type": "stream",
     "text": [
      "done\n"
     ]
    }
   ],
   "source": [
    "await process_api.call(\"selenium\", \"close_driver\", {\n",
    "    \"driver\": driver\n",
    "})\n",
    "\n",
    "print(\"done\")"
   ],
   "metadata": {
    "collapsed": false,
    "ExecuteTime": {
     "end_time": "2023-09-28T08:16:15.369571400Z",
     "start_time": "2023-09-28T08:16:15.295459700Z"
    }
   }
  }
 ],
 "metadata": {
  "kernelspec": {
   "display_name": "Python 3",
   "language": "python",
   "name": "python3"
  },
  "language_info": {
   "codemirror_mode": {
    "name": "ipython",
    "version": 2
   },
   "file_extension": ".py",
   "mimetype": "text/x-python",
   "name": "python",
   "nbconvert_exporter": "python",
   "pygments_lexer": "ipython2",
   "version": "2.7.6"
  }
 },
 "nbformat": 4,
 "nbformat_minor": 0
}
