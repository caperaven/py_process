{
 "cells": [
  {
   "cell_type": "code",
   "execution_count": 1,
   "metadata": {
    "collapsed": true,
    "ExecuteTime": {
     "end_time": "2023-09-22T08:49:58.434523500Z",
     "start_time": "2023-09-22T08:49:57.246005800Z"
    }
   },
   "outputs": [],
   "source": [
    "from process_api import process_api\n",
    "from process_api.modules.selenium import SeleniumModule\n",
    "import os\n",
    "import time\n",
    "\n",
    "SeleniumModule.register(process_api)\n",
    "\n",
    "current_directory = os.getcwd()\n",
    "full_chrome_path = os.path.join(current_directory, \"./../../../chrome/chromedriver.exe\")\n",
    "full_chrome_path = os.path.normpath(full_chrome_path)\n",
    "\n",
    "driver = await process_api.call(\"selenium\", \"init_driver\", {\n",
    "    \"browser\": \"chrome\",\n",
    "    \"options\": {\n",
    "        \"driver_path\": full_chrome_path\n",
    "    }\n",
    "})\n",
    "\n",
    "process_api.set_variable(\"driver\", driver)\n",
    "\n",
    "await process_api.call(\"selenium\", \"goto\", {\n",
    "    \"driver\": driver,\n",
    "    \"url\": \"http://127.0.0.1:8080/web/\",\n",
    "    \"wait\": \"h1\"\n",
    "})"
   ]
  },
  {
   "cell_type": "code",
   "execution_count": null,
   "outputs": [],
   "source": [
    "await process_api.call(\"selenium\", \"get\", {\n",
    "    \"driver\": driver,\n",
    "    \"query\": \"h1\"\n",
    "})"
   ],
   "metadata": {
    "collapsed": false
   }
  },
  {
   "cell_type": "code",
   "execution_count": null,
   "outputs": [],
   "source": [
    "await process_api.call(\"selenium\", \"get\", {\n",
    "    \"driver\": driver,\n",
    "    \"query\": \"container-component child-component button\"\n",
    "})"
   ],
   "metadata": {
    "collapsed": false
   }
  },
  {
   "cell_type": "code",
   "execution_count": null,
   "outputs": [],
   "source": [
    "await process_api.call(\"selenium\", \"get\", {\n",
    "    \"driver\": driver,\n",
    "    \"query\": \"container-component[data-ready='true'] child-component[data-ready='true'] button\"\n",
    "})"
   ],
   "metadata": {
    "collapsed": false
   }
  },
  {
   "cell_type": "code",
   "execution_count": 3,
   "outputs": [
    {
     "data": {
      "text/plain": "<selenium.webdriver.remote.webelement.WebElement (session=\"ac66412afee1c14b188d87d5d1a778c2\", element=\"1E64E7CFAA90F8D5DB44DF879697C493_element_9\")>"
     },
     "execution_count": 3,
     "metadata": {},
     "output_type": "execute_result"
    }
   ],
   "source": [
    "await process_api.call(\"selenium\", \"get\", {\n",
    "    \"driver\": driver,\n",
    "    \"query\": \"container-component[data-ready='true'] child-component[data-ready='true'] label:nth-of-type(1) > input\"\n",
    "})"
   ],
   "metadata": {
    "collapsed": false,
    "ExecuteTime": {
     "end_time": "2023-09-22T08:50:45.902511700Z",
     "start_time": "2023-09-22T08:50:45.839586600Z"
    }
   }
  },
  {
   "cell_type": "code",
   "execution_count": null,
   "outputs": [],
   "source": [
    "await process_api.call(\"selenium\", \"close_driver\", {\n",
    "    \"driver\": driver\n",
    "})\n",
    "\n",
    "print(\"done\")"
   ],
   "metadata": {
    "collapsed": false
   }
  }
 ],
 "metadata": {
  "kernelspec": {
   "display_name": "Python 3",
   "language": "python",
   "name": "python3"
  },
  "language_info": {
   "codemirror_mode": {
    "name": "ipython",
    "version": 2
   },
   "file_extension": ".py",
   "mimetype": "text/x-python",
   "name": "python",
   "nbconvert_exporter": "python",
   "pygments_lexer": "ipython2",
   "version": "2.7.6"
  }
 },
 "nbformat": 4,
 "nbformat_minor": 0
}
