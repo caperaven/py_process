{
 "cells": [
  {
   "cell_type": "markdown",
   "source": [
    "# Using firefox\n",
    "\n",
    "All you need to do here is just install firefox on your system.\n",
    "No additional drivers required"
   ],
   "metadata": {
    "collapsed": false
   }
  },
  {
   "cell_type": "code",
   "execution_count": 2,
   "outputs": [],
   "source": [
    "from src.process_api import process\n",
    "import os\n",
    "import time\n",
    "\n",
    "driver = await process.call(\"selenium\", \"init_driver\", {\n",
    "    \"browser\": \"firefox\",\n",
    "    \"options\": {\n",
    "        \"arguments\": [\"--no-sandbox\", \"--disable-dev-shm-usage\"],\n",
    "    }\n",
    "})\n",
    "\n",
    "await process.call(\"selenium\", \"goto\", {\n",
    "    \"driver\": driver,\n",
    "    \"url\": \"https://www.google.com\"\n",
    "})\n",
    "\n",
    "element = await process.call(\"selenium\", \"get\", {\n",
    "    \"driver\": driver,\n",
    "    \"element\": \"textarea\"\n",
    "})\n",
    "\n",
    "await process.call(\"selenium\", \"perform\", {\n",
    "    \"driver\": driver,\n",
    "    \"element\": element,\n",
    "    \"action\": \"type\",\n",
    "    \"text\": \"Hello World\"\n",
    "})\n",
    "\n",
    "time.sleep(1)\n",
    "\n",
    "await process.call(\"selenium\", \"close_driver\", {\n",
    "    \"driver\": driver\n",
    "})"
   ],
   "metadata": {
    "collapsed": false,
    "ExecuteTime": {
     "end_time": "2023-09-07T15:38:52.237600Z",
     "start_time": "2023-09-07T15:38:36.961330700Z"
    }
   }
  }
 ],
 "metadata": {
  "kernelspec": {
   "display_name": "Python 3",
   "language": "python",
   "name": "python3"
  },
  "language_info": {
   "codemirror_mode": {
    "name": "ipython",
    "version": 2
   },
   "file_extension": ".py",
   "mimetype": "text/x-python",
   "name": "python",
   "nbconvert_exporter": "python",
   "pygments_lexer": "ipython2",
   "version": "2.7.6"
  }
 },
 "nbformat": 4,
 "nbformat_minor": 0
}
