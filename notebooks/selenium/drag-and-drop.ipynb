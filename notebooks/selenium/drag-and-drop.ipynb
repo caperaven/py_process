{
 "cells": [
  {
   "cell_type": "markdown",
   "source": [
    "## Initialize the driver and navigate to the test page"
   ],
   "metadata": {
    "collapsed": false
   }
  },
  {
   "cell_type": "code",
   "execution_count": 1,
   "metadata": {
    "collapsed": true
   },
   "outputs": [],
   "source": [
    "from src.process_api import process\n",
    "import os\n",
    "import time\n",
    "\n",
    "current_directory = os.getcwd()\n",
    "full_chrome_path = os.path.join(current_directory, \"./../../chrome/chromedriver.exe\")\n",
    "full_chrome_path = os.path.normpath(full_chrome_path)\n",
    "\n",
    "driver = await process.call(\"selenium\", \"init_driver\", {\n",
    "    \"browser\": \"chrome\",\n",
    "    \"options\": {\n",
    "        \"driver_path\": full_chrome_path,\n",
    "        \"goto\": \"https://localhost/welcome\",\n",
    "        \"wait\": \"welcome-view[data-ready='true']\"\n",
    "    }\n",
    "})"
   ]
  },
  {
   "cell_type": "markdown",
   "source": [
    "## Open the widgets dialog\n",
    "Click on the button to open the widgets panel from where we are going to add UI elements"
   ],
   "metadata": {
    "collapsed": false
   }
  },
  {
   "cell_type": "code",
   "execution_count": 2,
   "outputs": [],
   "source": [
    "await process.call(\"selenium\", \"perform\", {\n",
    "    \"driver\": driver,\n",
    "    \"action\": \"click\",\n",
    "    \"element\": 'welcome-view::host designer-greater::host designer-canvas::host [data-type=\"add-widget\"]',\n",
    "    \"wait\": \"designer-repo[data-ready='true']\"\n",
    "})"
   ],
   "metadata": {
    "collapsed": false,
    "ExecuteTime": {
     "end_time": "2023-09-08T09:34:24.170567Z",
     "start_time": "2023-09-08T09:34:23.919858400Z"
    }
   }
  },
  {
   "cell_type": "markdown",
   "source": [
    "## Expand and normalize the dialog"
   ],
   "metadata": {
    "collapsed": false
   }
  },
  {
   "cell_type": "code",
   "execution_count": 4,
   "outputs": [],
   "source": [
    "# Expand the dialog to full screen\n",
    "await process.call(\"selenium\", \"perform\", {\n",
    "    \"driver\": driver,\n",
    "    \"action\": \"click\",\n",
    "    \"element\": 'crs-dialog::host #btnResize'\n",
    "})\n",
    "\n",
    "time.sleep(2)\n",
    "\n",
    "# Collapse the dialog to original size\n",
    "await process.call(\"selenium\", \"perform\", {\n",
    "    \"driver\": driver,\n",
    "    \"action\": \"click\",\n",
    "    \"element\": 'crs-dialog::host #btnResize'\n",
    "})"
   ],
   "metadata": {
    "collapsed": false,
    "ExecuteTime": {
     "end_time": "2023-09-08T09:23:43.593156Z",
     "start_time": "2023-09-08T09:23:41.476422500Z"
    }
   }
  },
  {
   "cell_type": "markdown",
   "source": [
    "## Move actions on the dialog\n",
    "Add tab sheet and other controls on the canvas"
   ],
   "metadata": {
    "collapsed": false
   }
  },
  {
   "cell_type": "code",
   "execution_count": 3,
   "outputs": [],
   "source": [
    "# move an element by x and y from current location\n",
    "await process.call(\"selenium\", \"perform\", {\n",
    "    \"driver\": driver,\n",
    "    \"action\": \"move_by\",\n",
    "    \"element\": \"crs-dialog h2\",\n",
    "    \"x\": -500,\n",
    "    \"y\": 0\n",
    "})"
   ],
   "metadata": {
    "collapsed": false,
    "ExecuteTime": {
     "end_time": "2023-09-08T09:22:07.684572Z",
     "start_time": "2023-09-08T09:22:07.100435500Z"
    }
   }
  },
  {
   "cell_type": "code",
   "execution_count": 3,
   "outputs": [],
   "source": [
    "# move an element to screen location based on x and y\n",
    "await process.call(\"selenium\", \"perform\", {\n",
    "    \"driver\": driver,\n",
    "    \"action\": \"move_to\",\n",
    "    \"element\": 'crs-dialog h2',\n",
    "    \"x\": 10,\n",
    "    \"y\": 10\n",
    "})"
   ],
   "metadata": {
    "collapsed": false,
    "ExecuteTime": {
     "end_time": "2023-09-08T09:34:29.882720900Z",
     "start_time": "2023-09-08T09:34:29.296119500Z"
    }
   }
  },
  {
   "cell_type": "markdown",
   "source": [
    "## Expand the form and inputs and add UI to elements"
   ],
   "metadata": {
    "collapsed": false
   }
  },
  {
   "cell_type": "code",
   "execution_count": null,
   "outputs": [],
   "source": [
    "await process.call(\"selenium\", \"perform\", {\n",
    "    \"driver\": driver,\n",
    "    \"action\": \"click\",\n",
    "    \"element\": 'crs-dialog::host designer-repo::host [data-id=\"input\"]'\n",
    "})"
   ],
   "metadata": {
    "collapsed": false
   }
  },
  {
   "cell_type": "markdown",
   "source": [
    "## Close the browser when done"
   ],
   "metadata": {
    "collapsed": false
   }
  },
  {
   "cell_type": "code",
   "execution_count": 4,
   "outputs": [],
   "source": [
    "await process.call(\"selenium\", \"close_driver\", {\n",
    "    \"driver\": driver\n",
    "})"
   ],
   "metadata": {
    "collapsed": false,
    "ExecuteTime": {
     "end_time": "2023-09-08T09:53:07.707406400Z",
     "start_time": "2023-09-08T09:53:07.619407700Z"
    }
   }
  }
 ],
 "metadata": {
  "kernelspec": {
   "display_name": "Python 3",
   "language": "python",
   "name": "python3"
  },
  "language_info": {
   "codemirror_mode": {
    "name": "ipython",
    "version": 2
   },
   "file_extension": ".py",
   "mimetype": "text/x-python",
   "name": "python",
   "nbconvert_exporter": "python",
   "pygments_lexer": "ipython2",
   "version": "2.7.6"
  }
 },
 "nbformat": 4,
 "nbformat_minor": 0
}
