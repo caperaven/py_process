{
 "cells": [
  {
   "cell_type": "markdown",
   "source": [
    "## Initialize the driver and navigate to the test page"
   ],
   "metadata": {
    "collapsed": false
   }
  },
  {
   "cell_type": "code",
   "execution_count": 1,
   "metadata": {
    "collapsed": true,
    "ExecuteTime": {
     "end_time": "2023-09-08T14:12:52.175026800Z",
     "start_time": "2023-09-08T14:12:50.864726500Z"
    }
   },
   "outputs": [],
   "source": [
    "from process_api import process_api\n",
    "from process_api.modules.selenium import SeleniumModule\n",
    "import os\n",
    "import time\n",
    "\n",
    "SeleniumModule.register(process_api)\n",
    "\n",
    "current_directory = os.getcwd()\n",
    "full_chrome_path = os.path.join(current_directory, \"./../../chrome/chromedriver.exe\")\n",
    "full_chrome_path = os.path.normpath(full_chrome_path)\n",
    "\n",
    "driver = await process_api.call(\"selenium\", \"init_driver\", {\n",
    "    \"browser\": \"chrome\",\n",
    "    \"options\": {\n",
    "        \"driver_path\": full_chrome_path,\n",
    "        \"goto\": \"https://localhost/welcome\",\n",
    "        \"wait\": \"welcome-view[data-ready='true']\"\n",
    "    }\n",
    "})"
   ]
  },
  {
   "cell_type": "markdown",
   "source": [
    "## Open the widgets dialog\n",
    "Click on the button to open the widgets panel from where we are going to add UI elements"
   ],
   "metadata": {
    "collapsed": false
   }
  },
  {
   "cell_type": "code",
   "execution_count": 5,
   "outputs": [],
   "source": [
    "await process_api.call(\"selenium\", \"perform\", {\n",
    "    \"driver\": driver,\n",
    "    \"action\": \"click\",\n",
    "    \"element\": 'welcome-view::host designer-greater::host designer-canvas::host [data-type=\"add-widget\"]',\n",
    "    \"wait\": \"designer-repo[data-ready='true']\"\n",
    "})"
   ],
   "metadata": {
    "collapsed": false,
    "ExecuteTime": {
     "end_time": "2023-09-08T14:16:01.373328600Z",
     "start_time": "2023-09-08T14:16:01.142845900Z"
    }
   }
  },
  {
   "cell_type": "markdown",
   "source": [
    "## Expand and normalize the dialog"
   ],
   "metadata": {
    "collapsed": false
   }
  },
  {
   "cell_type": "code",
   "execution_count": null,
   "outputs": [],
   "source": [
    "# Expand the dialog to full screen\n",
    "await process_api.call(\"selenium\", \"perform\", {\n",
    "    \"driver\": driver,\n",
    "    \"action\": \"click\",\n",
    "    \"element\": 'crs-dialog::host #btnResize'\n",
    "})\n",
    "\n",
    "time.sleep(2)\n",
    "\n",
    "# Collapse the dialog to original size\n",
    "await process_api.call(\"selenium\", \"perform\", {\n",
    "    \"driver\": driver,\n",
    "    \"action\": \"click\",\n",
    "    \"element\": 'crs-dialog::host #btnResize'\n",
    "})"
   ],
   "metadata": {
    "collapsed": false
   }
  },
  {
   "cell_type": "markdown",
   "source": [
    "## Move actions on the dialog\n",
    "Add tab sheet and other controls on the canvas"
   ],
   "metadata": {
    "collapsed": false
   }
  },
  {
   "cell_type": "code",
   "execution_count": null,
   "outputs": [],
   "source": [
    "# move an element by x and y from current location\n",
    "await process.call(\"selenium\", \"perform\", {\n",
    "    \"driver\": driver,\n",
    "    \"action\": \"move_by\",\n",
    "    \"element\": \"crs-dialog h2\",\n",
    "    \"x\": -500,\n",
    "    \"y\": 0\n",
    "})"
   ],
   "metadata": {
    "collapsed": false
   }
  },
  {
   "cell_type": "code",
   "execution_count": null,
   "outputs": [],
   "source": [
    "# move an element to screen location based on x and y\n",
    "await process.call(\"selenium\", \"perform\", {\n",
    "    \"driver\": driver,\n",
    "    \"action\": \"move_to\",\n",
    "    \"element\": 'crs-dialog h2',\n",
    "    \"x\": 10,\n",
    "    \"y\": 10\n",
    "})"
   ],
   "metadata": {
    "collapsed": false
   }
  },
  {
   "cell_type": "markdown",
   "source": [
    "## Expand the form and inputs and add UI to elements"
   ],
   "metadata": {
    "collapsed": false
   }
  },
  {
   "cell_type": "code",
   "execution_count": 3,
   "outputs": [],
   "source": [
    "# expand input group\n",
    "await process.call(\"selenium\", \"perform\", {\n",
    "    \"driver\": driver,\n",
    "    \"action\": \"click\",\n",
    "    \"element\": \"crs-dialog designer-repo::host [data-id='input']\",\n",
    "    \"wait\": \"crs-dialog designer-repo::host [data-id='input'][aria-expanded='true']\"\n",
    "})\n",
    "\n",
    "# expand form group\n",
    "await process.call(\"selenium\", \"perform\", {\n",
    "    \"driver\": driver,\n",
    "    \"action\": \"click\",\n",
    "    \"element\": \"crs-dialog designer-repo::host [data-id='forms']\",\n",
    "    \"wait\": \"crs-dialog designer-repo::host [data-id='forms'][aria-expanded='true']\"\n",
    "})\n",
    "\n",
    "# add tab sheet to canvas\n",
    "await process.call(\"selenium\", \"perform\", {\n",
    "    \"driver\": driver,\n",
    "    \"action\": \"click\",\n",
    "    \"element\": \"crs-dialog designer-repo::host [data-type='tab-sheet']\",\n",
    "    \"wait\": \"welcome-view::host designer-greater::host designer-canvas::host tab-sheet\"\n",
    "})\n",
    "\n",
    "# add input to first tab\n",
    "await process.call(\"selenium\", \"perform\", {\n",
    "    \"driver\": driver,\n",
    "    \"action\": \"click\",\n",
    "    \"element\": \"crs-dialog designer-repo::host [data-type='input-text']\",\n",
    "    \"count\": 3\n",
    "})\n",
    "\n",
    "# close the dialog\n",
    "await process.call(\"selenium\", \"perform\", {\n",
    "    \"driver\": driver,\n",
    "    \"action\": \"click\",\n",
    "    \"element\": 'crs-dialog::host #btnClose'\n",
    "})\n",
    "\n",
    "# select the second tab\n",
    "await process.call(\"selenium\", \"perform\", {\n",
    "    \"driver\": driver,\n",
    "    \"action\": \"click\",\n",
    "    \"element\": \"welcome-view::host designer-greater::host designer-canvas::host tab[data-index='2']\"\n",
    "})\n"
   ],
   "metadata": {
    "collapsed": false,
    "ExecuteTime": {
     "end_time": "2023-09-08T14:13:12.389961300Z",
     "start_time": "2023-09-08T14:13:10.916449100Z"
    }
   }
  },
  {
   "cell_type": "code",
   "execution_count": 6,
   "outputs": [
    {
     "ename": "TimeoutException",
     "evalue": "Message: \n",
     "output_type": "error",
     "traceback": [
      "\u001B[1;31m---------------------------------------------------------------------------\u001B[0m",
      "\u001B[1;31mTimeoutException\u001B[0m                          Traceback (most recent call last)",
      "Cell \u001B[1;32mIn[6], line 6\u001B[0m\n\u001B[0;32m      1\u001B[0m el \u001B[38;5;241m=\u001B[39m \u001B[38;5;28;01mawait\u001B[39;00m process\u001B[38;5;241m.\u001B[39mcall(\u001B[38;5;124m\"\u001B[39m\u001B[38;5;124mselenium\u001B[39m\u001B[38;5;124m\"\u001B[39m, \u001B[38;5;124m\"\u001B[39m\u001B[38;5;124mwait\u001B[39m\u001B[38;5;124m\"\u001B[39m, {\n\u001B[0;32m      2\u001B[0m     \u001B[38;5;124m\"\u001B[39m\u001B[38;5;124mdriver\u001B[39m\u001B[38;5;124m\"\u001B[39m: driver,\n\u001B[0;32m      3\u001B[0m     \u001B[38;5;124m\"\u001B[39m\u001B[38;5;124mquery\u001B[39m\u001B[38;5;124m\"\u001B[39m: \u001B[38;5;124m\"\u001B[39m\u001B[38;5;124mwelcome-view::host designer-greater::host designer-canvas::host tab-content[data-index=\u001B[39m\u001B[38;5;124m'\u001B[39m\u001B[38;5;124m2\u001B[39m\u001B[38;5;124m'\u001B[39m\u001B[38;5;124m]\u001B[39m\u001B[38;5;124m\"\u001B[39m\n\u001B[0;32m      4\u001B[0m })\n\u001B[1;32m----> 6\u001B[0m \u001B[38;5;28;01mawait\u001B[39;00m process\u001B[38;5;241m.\u001B[39mcall(\u001B[38;5;124m\"\u001B[39m\u001B[38;5;124mselenium\u001B[39m\u001B[38;5;124m\"\u001B[39m, \u001B[38;5;124m\"\u001B[39m\u001B[38;5;124mperform\u001B[39m\u001B[38;5;124m\"\u001B[39m, {\n\u001B[0;32m      7\u001B[0m     \u001B[38;5;124m\"\u001B[39m\u001B[38;5;124mdriver\u001B[39m\u001B[38;5;124m\"\u001B[39m: driver,\n\u001B[0;32m      8\u001B[0m     \u001B[38;5;124m\"\u001B[39m\u001B[38;5;124maction\u001B[39m\u001B[38;5;124m\"\u001B[39m: \u001B[38;5;124m\"\u001B[39m\u001B[38;5;124mclick\u001B[39m\u001B[38;5;124m\"\u001B[39m,\n\u001B[0;32m      9\u001B[0m     \u001B[38;5;124m\"\u001B[39m\u001B[38;5;124melement\u001B[39m\u001B[38;5;124m\"\u001B[39m: \u001B[38;5;124m\"\u001B[39m\u001B[38;5;124mcrs-dialog designer-repo::host [data-type=\u001B[39m\u001B[38;5;124m'\u001B[39m\u001B[38;5;124minput-text\u001B[39m\u001B[38;5;124m'\u001B[39m\u001B[38;5;124m]\u001B[39m\u001B[38;5;124m\"\u001B[39m,\n\u001B[0;32m     10\u001B[0m     \u001B[38;5;124m\"\u001B[39m\u001B[38;5;124mcount\u001B[39m\u001B[38;5;124m\"\u001B[39m: \u001B[38;5;241m3\u001B[39m\n\u001B[0;32m     11\u001B[0m })\n\u001B[0;32m     13\u001B[0m \u001B[38;5;28mprint\u001B[39m(el)\n",
      "File \u001B[1;32mF:\\intent_projects\\py_process\\src\\process_api.py:27\u001B[0m, in \u001B[0;36mProcess.call\u001B[1;34m(self, step_type, step_action, step_args, context, process, item)\u001B[0m\n\u001B[0;32m     20\u001B[0m \u001B[38;5;28;01masync\u001B[39;00m \u001B[38;5;28;01mdef\u001B[39;00m \u001B[38;5;21mcall\u001B[39m(\u001B[38;5;28mself\u001B[39m, step_type, step_action, step_args, context\u001B[38;5;241m=\u001B[39m\u001B[38;5;28;01mNone\u001B[39;00m, process\u001B[38;5;241m=\u001B[39m\u001B[38;5;28;01mNone\u001B[39;00m, item\u001B[38;5;241m=\u001B[39m\u001B[38;5;28;01mNone\u001B[39;00m):\n\u001B[0;32m     21\u001B[0m     step \u001B[38;5;241m=\u001B[39m {\n\u001B[0;32m     22\u001B[0m         \u001B[38;5;124m\"\u001B[39m\u001B[38;5;124mtype\u001B[39m\u001B[38;5;124m\"\u001B[39m: step_type,\n\u001B[0;32m     23\u001B[0m         \u001B[38;5;124m\"\u001B[39m\u001B[38;5;124maction\u001B[39m\u001B[38;5;124m\"\u001B[39m: step_action,\n\u001B[0;32m     24\u001B[0m         \u001B[38;5;124m\"\u001B[39m\u001B[38;5;124margs\u001B[39m\u001B[38;5;124m\"\u001B[39m: step_args\n\u001B[0;32m     25\u001B[0m     }\n\u001B[1;32m---> 27\u001B[0m     \u001B[38;5;28;01mreturn\u001B[39;00m \u001B[38;5;28;01mawait\u001B[39;00m \u001B[38;5;28mself\u001B[39m\u001B[38;5;241m.\u001B[39mprocess_runner\u001B[38;5;241m.\u001B[39mrun_step(step, context, process, item)\n",
      "File \u001B[1;32mF:\\intent_projects\\py_process\\src\\process_runner.py:41\u001B[0m, in \u001B[0;36mProcessRunner.run_step\u001B[1;34m(self, step, context, process, item)\u001B[0m\n\u001B[0;32m     39\u001B[0m \u001B[38;5;28;01mif\u001B[39;00m \u001B[38;5;28mhasattr\u001B[39m(module, action):\n\u001B[0;32m     40\u001B[0m     function \u001B[38;5;241m=\u001B[39m \u001B[38;5;28mgetattr\u001B[39m(module, action)\n\u001B[1;32m---> 41\u001B[0m     result \u001B[38;5;241m=\u001B[39m \u001B[38;5;28;01mawait\u001B[39;00m function(step, context, process, item)\n\u001B[0;32m     43\u001B[0m     \u001B[38;5;28;01mif\u001B[39;00m \u001B[38;5;124m\"\u001B[39m\u001B[38;5;124mtarget\u001B[39m\u001B[38;5;124m\"\u001B[39m \u001B[38;5;129;01min\u001B[39;00m step:\n\u001B[0;32m     44\u001B[0m         \u001B[38;5;28;01mawait\u001B[39;00m set_value(step\u001B[38;5;241m.\u001B[39mget(\u001B[38;5;124m'\u001B[39m\u001B[38;5;124mtarget\u001B[39m\u001B[38;5;124m'\u001B[39m), result, context, process, item)\n",
      "File \u001B[1;32mF:\\intent_projects\\py_process\\src\\action_systems/selenium_actions.py:54\u001B[0m, in \u001B[0;36mDefault.perform\u001B[1;34m(step, context, process, item)\u001B[0m\n\u001B[0;32m     51\u001B[0m \u001B[38;5;129m@staticmethod\u001B[39m\n\u001B[0;32m     52\u001B[0m \u001B[38;5;28;01masync\u001B[39;00m \u001B[38;5;28;01mdef\u001B[39;00m \u001B[38;5;21mperform\u001B[39m(step, context\u001B[38;5;241m=\u001B[39m\u001B[38;5;28;01mNone\u001B[39;00m, process\u001B[38;5;241m=\u001B[39m\u001B[38;5;28;01mNone\u001B[39;00m, item\u001B[38;5;241m=\u001B[39m\u001B[38;5;28;01mNone\u001B[39;00m):\n\u001B[0;32m     53\u001B[0m     driver \u001B[38;5;241m=\u001B[39m \u001B[38;5;28;01mawait\u001B[39;00m get_driver(step, context, process, item)\n\u001B[1;32m---> 54\u001B[0m     \u001B[38;5;28;01mreturn\u001B[39;00m \u001B[38;5;28;01mawait\u001B[39;00m perform(driver, step[\u001B[38;5;124m\"\u001B[39m\u001B[38;5;124margs\u001B[39m\u001B[38;5;124m\"\u001B[39m])\n",
      "File \u001B[1;32mF:\\intent_projects\\py_process\\src\\action_systems\\selenium\\perform.py:11\u001B[0m, in \u001B[0;36mperform\u001B[1;34m(driver, args)\u001B[0m\n\u001B[0;32m      9\u001B[0m context \u001B[38;5;241m=\u001B[39m args\u001B[38;5;241m.\u001B[39mget(\u001B[38;5;124m\"\u001B[39m\u001B[38;5;124mcontext\u001B[39m\u001B[38;5;124m\"\u001B[39m, driver)\n\u001B[0;32m     10\u001B[0m query \u001B[38;5;241m=\u001B[39m args\u001B[38;5;241m.\u001B[39mget(\u001B[38;5;124m\"\u001B[39m\u001B[38;5;124melement\u001B[39m\u001B[38;5;124m\"\u001B[39m)\n\u001B[1;32m---> 11\u001B[0m element \u001B[38;5;241m=\u001B[39m \u001B[38;5;28;01mawait\u001B[39;00m get_element(context, query, timeout)\n\u001B[0;32m     12\u001B[0m action \u001B[38;5;241m=\u001B[39m args[\u001B[38;5;124m\"\u001B[39m\u001B[38;5;124maction\u001B[39m\u001B[38;5;124m\"\u001B[39m]\n\u001B[0;32m     13\u001B[0m chain \u001B[38;5;241m=\u001B[39m ActionChains(driver)\n",
      "File \u001B[1;32mF:\\intent_projects\\py_process\\src\\action_systems\\selenium\\get.py:27\u001B[0m, in \u001B[0;36mget_element\u001B[1;34m(driver, query, timeout)\u001B[0m\n\u001B[0;32m     24\u001B[0m     \u001B[38;5;28;01mreturn\u001B[39;00m query\n\u001B[0;32m     26\u001B[0m \u001B[38;5;28;01mif\u001B[39;00m \u001B[38;5;124m'\u001B[39m\u001B[38;5;124m \u001B[39m\u001B[38;5;124m'\u001B[39m \u001B[38;5;129;01min\u001B[39;00m query:\n\u001B[1;32m---> 27\u001B[0m     \u001B[38;5;28;01mreturn\u001B[39;00m \u001B[38;5;28;01mawait\u001B[39;00m get_element_on_path(driver, query, timeout)\n\u001B[0;32m     28\u001B[0m \u001B[38;5;28;01melse\u001B[39;00m:\n\u001B[0;32m     29\u001B[0m     wait \u001B[38;5;241m=\u001B[39m WebDriverWait(driver, timeout, poll_frequency\u001B[38;5;241m=\u001B[39m\u001B[38;5;241m0.1\u001B[39m)\n",
      "File \u001B[1;32mF:\\intent_projects\\py_process\\src\\action_systems\\selenium\\get.py:44\u001B[0m, in \u001B[0;36mget_element_on_path\u001B[1;34m(driver, query, timeout)\u001B[0m\n\u001B[0;32m     41\u001B[0m \u001B[38;5;28;01mif\u001B[39;00m use_shadow_root:\n\u001B[0;32m     42\u001B[0m     query \u001B[38;5;241m=\u001B[39m query[:\u001B[38;5;241m-\u001B[39m\u001B[38;5;241m6\u001B[39m]\n\u001B[1;32m---> 44\u001B[0m element \u001B[38;5;241m=\u001B[39m \u001B[38;5;28;01mawait\u001B[39;00m get_element(context, query, timeout)\n\u001B[0;32m     46\u001B[0m \u001B[38;5;28;01mif\u001B[39;00m element \u001B[38;5;129;01mis\u001B[39;00m \u001B[38;5;28;01mNone\u001B[39;00m:\n\u001B[0;32m     47\u001B[0m     \u001B[38;5;28;01mreturn\u001B[39;00m \u001B[38;5;28;01mNone\u001B[39;00m\n",
      "File \u001B[1;32mF:\\intent_projects\\py_process\\src\\action_systems\\selenium\\get.py:30\u001B[0m, in \u001B[0;36mget_element\u001B[1;34m(driver, query, timeout)\u001B[0m\n\u001B[0;32m     28\u001B[0m \u001B[38;5;28;01melse\u001B[39;00m:\n\u001B[0;32m     29\u001B[0m     wait \u001B[38;5;241m=\u001B[39m WebDriverWait(driver, timeout, poll_frequency\u001B[38;5;241m=\u001B[39m\u001B[38;5;241m0.1\u001B[39m)\n\u001B[1;32m---> 30\u001B[0m     element \u001B[38;5;241m=\u001B[39m \u001B[43mwait\u001B[49m\u001B[38;5;241;43m.\u001B[39;49m\u001B[43muntil\u001B[49m\u001B[43m(\u001B[49m\u001B[43mEC\u001B[49m\u001B[38;5;241;43m.\u001B[39;49m\u001B[43melement_to_be_clickable\u001B[49m\u001B[43m(\u001B[49m\u001B[43m(\u001B[49m\u001B[43mBy\u001B[49m\u001B[38;5;241;43m.\u001B[39;49m\u001B[43mCSS_SELECTOR\u001B[49m\u001B[43m,\u001B[49m\u001B[43m \u001B[49m\u001B[43mquery\u001B[49m\u001B[43m)\u001B[49m\u001B[43m)\u001B[49m\u001B[43m)\u001B[49m\n\u001B[0;32m     31\u001B[0m     \u001B[38;5;28;01mreturn\u001B[39;00m element\n",
      "File \u001B[1;32mF:\\intent_projects\\py_process\\venv\\lib\\site-packages\\selenium\\webdriver\\support\\wait.py:95\u001B[0m, in \u001B[0;36mWebDriverWait.until\u001B[1;34m(self, method, message)\u001B[0m\n\u001B[0;32m     93\u001B[0m     \u001B[38;5;28;01mif\u001B[39;00m time\u001B[38;5;241m.\u001B[39mmonotonic() \u001B[38;5;241m>\u001B[39m end_time:\n\u001B[0;32m     94\u001B[0m         \u001B[38;5;28;01mbreak\u001B[39;00m\n\u001B[1;32m---> 95\u001B[0m \u001B[38;5;28;01mraise\u001B[39;00m TimeoutException(message, screen, stacktrace)\n",
      "\u001B[1;31mTimeoutException\u001B[0m: Message: \n"
     ]
    }
   ],
   "source": [
    "\n",
    "el = await process.call(\"selenium\", \"wait\", {\n",
    "    \"driver\": driver,\n",
    "    \"query\": \"welcome-view::host designer-greater::host designer-canvas::host tab-content[data-index='2']\"\n",
    "})\n",
    "\n",
    "await process.call(\"selenium\", \"perform\", {\n",
    "    \"driver\": driver,\n",
    "    \"action\": \"click\",\n",
    "    \"element\": \"crs-dialog designer-repo::host [data-type='input-text']\",\n",
    "    \"count\": 3\n",
    "})\n",
    "\n",
    "print(el)"
   ],
   "metadata": {
    "collapsed": false,
    "ExecuteTime": {
     "end_time": "2023-09-08T14:16:32.652318100Z",
     "start_time": "2023-09-08T14:16:22.112668100Z"
    }
   }
  },
  {
   "cell_type": "markdown",
   "source": [
    "## Close the browser when done"
   ],
   "metadata": {
    "collapsed": false
   }
  },
  {
   "cell_type": "code",
   "execution_count": null,
   "outputs": [],
   "source": [
    "await process.call(\"selenium\", \"close_driver\", {\n",
    "    \"driver\": driver\n",
    "})"
   ],
   "metadata": {
    "collapsed": false
   }
  }
 ],
 "metadata": {
  "kernelspec": {
   "display_name": "Python 3",
   "language": "python",
   "name": "python3"
  },
  "language_info": {
   "codemirror_mode": {
    "name": "ipython",
    "version": 2
   },
   "file_extension": ".py",
   "mimetype": "text/x-python",
   "name": "python",
   "nbconvert_exporter": "python",
   "pygments_lexer": "ipython2",
   "version": "2.7.6"
  }
 },
 "nbformat": 4,
 "nbformat_minor": 0
}
