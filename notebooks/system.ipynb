{
 "cells": [
  {
   "cell_type": "code",
   "execution_count": 1,
   "metadata": {
    "collapsed": true,
    "ExecuteTime": {
     "end_time": "2023-10-29T18:19:19.071871200Z",
     "start_time": "2023-10-29T18:19:19.039925900Z"
    }
   },
   "outputs": [
    {
     "name": "stdout",
     "output_type": "stream",
     "text": [
      "None\n"
     ]
    }
   ],
   "source": [
    "from process_api import process_api\n",
    "\n",
    "result = await process_api.call(\"system\", \"run_command\", {\n",
    "    \"id\": \"server\",\n",
    "    \"command\": \"caddy\",\n",
    "    \"args\": [\"run\"],\n",
    "    \"cwd\": \"F:\\\\caperaven projects\\\\crs-framework\"\n",
    "})\n",
    "print(result)"
   ]
  },
  {
   "cell_type": "code",
   "execution_count": 2,
   "outputs": [],
   "source": [
    "await process_api.call(\"system\", \"kill_process\", { \"id\": \"server\" })"
   ],
   "metadata": {
    "collapsed": false,
    "ExecuteTime": {
     "end_time": "2023-10-29T18:19:35.469027700Z",
     "start_time": "2023-10-29T18:19:35.459741500Z"
    }
   }
  }
 ],
 "metadata": {
  "kernelspec": {
   "display_name": "Python 3",
   "language": "python",
   "name": "python3"
  },
  "language_info": {
   "codemirror_mode": {
    "name": "ipython",
    "version": 2
   },
   "file_extension": ".py",
   "mimetype": "text/x-python",
   "name": "python",
   "nbconvert_exporter": "python",
   "pygments_lexer": "ipython2",
   "version": "2.7.6"
  }
 },
 "nbformat": 4,
 "nbformat_minor": 0
}
