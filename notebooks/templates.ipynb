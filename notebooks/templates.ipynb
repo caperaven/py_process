{
 "cells": [
  {
   "cell_type": "code",
   "execution_count": 2,
   "outputs": [
    {
     "name": "stderr",
     "output_type": "stream",
     "text": [
      "2023-10-09 10:27:50,691 - process_api - INFO - run step: \"start\"\n"
     ]
    },
    {
     "name": "stdout",
     "output_type": "stream",
     "text": [
      "Hello from Template1\n"
     ]
    },
    {
     "data": {
      "text/plain": "True"
     },
     "execution_count": 2,
     "metadata": {},
     "output_type": "execute_result"
    }
   ],
   "source": [
    "from process_api import process_api\n",
    "\n",
    "process_api.add_template({\n",
    "\t\"id\": \"template1\",\n",
    "\n",
    "\t\"main\": {\n",
    "\t\t\"steps\": {\n",
    "\t\t\t\"start\": {\n",
    "\t\t\t\t\"type\": \"console\",\n",
    "\t\t\t\t\"action\": \"print\",\n",
    "\t\t\t\t\"args\": {\n",
    "\t\t\t\t\t\"message\": \"Hello from Template1\"\n",
    "\t\t\t\t}\n",
    "\t\t\t}\n",
    "\t\t}\n",
    "\t}\n",
    "})\n",
    "\n",
    "await process_api.call(\"system\", \"template\", {\n",
    "\t\"schema\": \"template1\",\n",
    "\t\"process\": \"main\"\n",
    "})"
   ],
   "metadata": {
    "collapsed": false,
    "ExecuteTime": {
     "end_time": "2023-10-09T08:27:50.708483400Z",
     "start_time": "2023-10-09T08:27:50.692395100Z"
    }
   }
  }
 ],
 "metadata": {
  "kernelspec": {
   "display_name": "Python 3",
   "language": "python",
   "name": "python3"
  },
  "language_info": {
   "codemirror_mode": {
    "name": "ipython",
    "version": 2
   },
   "file_extension": ".py",
   "mimetype": "text/x-python",
   "name": "python",
   "nbconvert_exporter": "python",
   "pygments_lexer": "ipython2",
   "version": "2.7.6"
  }
 },
 "nbformat": 4,
 "nbformat_minor": 0
}
