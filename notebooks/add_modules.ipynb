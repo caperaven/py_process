{
 "cells": [
  {
   "cell_type": "markdown",
   "source": [
    "# Add modules\n",
    "\n",
    "In this section we will create and add a module on the process api.\n",
    "This shows you how you can extend the process api with your own modules.\n",
    "\n",
    "define the module\n",
    "note that the methods are static and always have the same signature\n",
    "the parameters are:\n",
    "- step: the step that is currently executed\n",
    "- context: the context of the process\n",
    "- process: the process\n",
    "- item: the item that is currently processed\n",
    "\n",
    "the step always has a args property that contains the arguments of the step\n",
    "us get_value to extract values defined on the args.\n",
    "get_value is passed the context, process and item.\n",
    "if the value is not an actual value but a property on either the context, process or item it will\n",
    "be retrieved from the defined object path."
   ],
   "metadata": {
    "collapsed": false
   }
  },
  {
   "cell_type": "code",
   "execution_count": null,
   "outputs": [],
   "source": [
    "from src.process_api import process\n",
    "from src.utils.get_value import get_value\n",
    "\n",
    "class MathModule:\n",
    "    @staticmethod\n",
    "    async def add(step, context=None, process=None, item=None):\n",
    "        args = step[\"args\"]\n",
    "        value1 = await get_value(args.get(\"value1\", 0), context, process, item)\n",
    "        value2 = await get_value(args.get(\"value2\", 0), context, process, item)\n",
    "        return value1 + value2\n",
    "\n",
    "# add the module to the process so that you can access it\n",
    "await process.add_module(\"math\", MathModule)\n",
    "print(\"module added\")"
   ],
   "metadata": {
    "collapsed": false
   }
  },
  {
   "cell_type": "markdown",
   "source": [
    "## Calling the module defined"
   ],
   "metadata": {
    "collapsed": false
   }
  },
  {
   "cell_type": "code",
   "execution_count": null,
   "outputs": [],
   "source": [
    "value = await process.call(\"math\", \"add\", {\"value1\": 1, \"value2\": 2})\n",
    "print(value)\n",
    "\n",
    "context = { \"value1\": 20, \"value2\": 30 }\n",
    "value = await process.call(\"math\", \"add\", {\"value1\": \"$c{value1}\", \"value2\": \"$c{value2}\"}, context=context)\n",
    "print(value)"
   ],
   "metadata": {
    "collapsed": false
   }
  }
 ],
 "metadata": {
  "kernelspec": {
   "display_name": "Python 3",
   "language": "python",
   "name": "python3"
  },
  "language_info": {
   "codemirror_mode": {
    "name": "ipython",
    "version": 2
   },
   "file_extension": ".py",
   "mimetype": "text/x-python",
   "name": "python",
   "nbconvert_exporter": "python",
   "pygments_lexer": "ipython2",
   "version": "2.7.6"
  }
 },
 "nbformat": 4,
 "nbformat_minor": 0
}
