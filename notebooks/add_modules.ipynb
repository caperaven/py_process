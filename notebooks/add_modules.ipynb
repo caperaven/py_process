{
 "cells": [
  {
   "cell_type": "markdown",
   "source": [
    "# Add modules\n",
    "\n",
    "In this section we will create and add a module on the process api.\n",
    "This shows you how you can extend the process api with your own modules.\n",
    "\n",
    "define the module\n",
    "note that the methods are static and always have the same signature\n",
    "the parameters are:\n",
    "- step: the step that is currently executed\n",
    "- context: the context of the process\n",
    "- process: the process\n",
    "- item: the item that is currently processed\n",
    "\n",
    "the step always has a args property that contains the arguments of the step\n",
    "us get_value to extract values defined on the args.\n",
    "get_value is passed the context, process and item.\n",
    "if the value is not an actual value but a property on either the context, process or item it will\n",
    "be retrieved from the defined object path."
   ],
   "metadata": {
    "collapsed": false
   }
  },
  {
   "cell_type": "code",
   "execution_count": 5,
   "outputs": [
    {
     "name": "stdout",
     "output_type": "stream",
     "text": [
      "module added\n"
     ]
    }
   ],
   "source": [
    "from process_api import process_api\n",
    "from process_api.utils.get_value import get_value\n",
    "\n",
    "class MathModule:\n",
    "    @staticmethod\n",
    "    def register(api):\n",
    "        api.add_module(\"math\", MathModule)\n",
    "\n",
    "    @staticmethod\n",
    "    async def add(api, step, ctx=None, process=None, item=None):\n",
    "        args = step[\"args\"]\n",
    "\n",
    "        value1 = args.get(\"value1\", 0)\n",
    "        value2 = args.get(\"value2\", 0)\n",
    "\n",
    "        value1 = await get_value(value1, ctx, process, item)\n",
    "        value2 = await get_value(value2, ctx, process, item)\n",
    "        return value1 + value2\n",
    "\n",
    "# add the module to the process so that you can access it\n",
    "MathModule.register(process_api)\n",
    "print(\"module added\")"
   ],
   "metadata": {
    "collapsed": false,
    "ExecuteTime": {
     "end_time": "2023-09-14T06:50:25.827556500Z",
     "start_time": "2023-09-14T06:50:25.823557Z"
    }
   }
  },
  {
   "cell_type": "markdown",
   "source": [
    "## Calling the module defined"
   ],
   "metadata": {
    "collapsed": false
   }
  },
  {
   "cell_type": "code",
   "execution_count": 3,
   "outputs": [
    {
     "name": "stdout",
     "output_type": "stream",
     "text": [
      "3\n",
      "40\n"
     ]
    }
   ],
   "source": [
    "value = await process_api.call(\"math\", \"add\", {\"value1\": 1, \"value2\": 2})\n",
    "print(value)\n",
    "\n",
    "context = { \"value1\": 10, \"value2\": 30 }\n",
    "value = await process_api.call(\"math\", \"add\", {\"value1\": \"$c{value1}\", \"value2\": \"$c{value2}\"}, ctx=context)\n",
    "print(value)"
   ],
   "metadata": {
    "collapsed": false,
    "ExecuteTime": {
     "end_time": "2023-09-14T06:48:46.816762600Z",
     "start_time": "2023-09-14T06:48:46.801232Z"
    }
   }
  }
 ],
 "metadata": {
  "kernelspec": {
   "display_name": "Python 3",
   "language": "python",
   "name": "python3"
  },
  "language_info": {
   "codemirror_mode": {
    "name": "ipython",
    "version": 2
   },
   "file_extension": ".py",
   "mimetype": "text/x-python",
   "name": "python",
   "nbconvert_exporter": "python",
   "pygments_lexer": "ipython2",
   "version": "2.7.6"
  }
 },
 "nbformat": 4,
 "nbformat_minor": 0
}
