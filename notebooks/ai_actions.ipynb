{
 "cells": [
  {
   "cell_type": "markdown",
   "source": [
    "# AI actions\n",
    "\n",
    "The purpose of the ai actions so to link in to the hugging face pipeline api.\n",
    "What ever the pipeline ability is, that is what you get out of the box.\n",
    "There are trhee main properties to take note of:\n",
    "- `name` - this is the name of the pipeline, this is used to identify the pipeline. The pipeline is cached so that it can be reused.\n",
    "- `pipeline` - this defines the pipeline settings when creating the pipeline.\n",
    "- `input` - this defines the inputb settings when you execute the pipelbine.\n",
    "\n",
    "[https://huggingface.co/docs/transformers/pipeline_tutorial](https://huggingface.co/docs/transformers/pipeline_tutorial)"
   ],
   "metadata": {
    "collapsed": false
   }
  },
  {
   "cell_type": "code",
   "execution_count": 2,
   "outputs": [
    {
     "data": {
      "text/plain": "[{'label': 'POSITIVE', 'score': 0.9998656511306763}]"
     },
     "execution_count": 2,
     "metadata": {},
     "output_type": "execute_result"
    }
   ],
   "source": [
    "import src.process_api as process\n",
    "\n",
    "args = {\n",
    "    \"name\": \"text-classification\",\n",
    "    \"pipeline\": {\n",
    "        \"model\": \"distilbert-base-uncased-finetuned-sst-2-english\"\n",
    "    },\n",
    "    \"input\": \"I love you\"\n",
    "}\n",
    "\n",
    "await process.call(\"ai\", \"perform\", args)"
   ],
   "metadata": {
    "collapsed": false,
    "ExecuteTime": {
     "end_time": "2023-08-26T08:56:57.759248900Z",
     "start_time": "2023-08-26T08:56:56.464651600Z"
    }
   }
  },
  {
   "cell_type": "markdown",
   "source": [
    "## Predefined pipelines"
   ],
   "metadata": {
    "collapsed": false
   }
  },
  {
   "cell_type": "code",
   "execution_count": 3,
   "outputs": [
    {
     "data": {
      "text/plain": "True"
     },
     "execution_count": 3,
     "metadata": {},
     "output_type": "execute_result"
    }
   ],
   "source": [
    "import src.process_api as process\n",
    "\n",
    "await process.call(\"ai\", \"load\", {\n",
    "    \"name\": \"text_classification2\",\n",
    "    \"pipeline\": {\n",
    "        \"model\": \"distilbert-base-uncased-finetuned-sst-2-english\"\n",
    "    }\n",
    "})"
   ],
   "metadata": {
    "collapsed": false,
    "ExecuteTime": {
     "end_time": "2023-08-26T08:56:58.808186200Z",
     "start_time": "2023-08-26T08:56:57.760252800Z"
    }
   }
  },
  {
   "cell_type": "markdown",
   "source": [
    "## Execute pipeline\n",
    "\n",
    "Note that you need to provide the name of the cached pipeline and the input to pass on.\n",
    "In this example we are showing how you can use the same pipeline to classify two different sentences."
   ],
   "metadata": {
    "collapsed": false
   }
  },
  {
   "cell_type": "code",
   "execution_count": 4,
   "outputs": [
    {
     "data": {
      "text/plain": "[{'label': 'NEGATIVE', 'score': 0.9997987151145935}]"
     },
     "execution_count": 4,
     "metadata": {},
     "output_type": "execute_result"
    }
   ],
   "source": [
    "await process.call(\"ai\", \"execute\", {\n",
    "    \"name\": \"text_classification2\",\n",
    "    \"input\": \"I love you\"\n",
    "})\n",
    "\n",
    "await process.call(\"ai\", \"execute\", {\n",
    "    \"name\": \"text_classification2\",\n",
    "    \"input\": \"This is not a great place for a pick nick\"\n",
    "})"
   ],
   "metadata": {
    "collapsed": false,
    "ExecuteTime": {
     "end_time": "2023-08-26T08:56:58.883511900Z",
     "start_time": "2023-08-26T08:56:58.808186200Z"
    }
   }
  },
  {
   "cell_type": "markdown",
   "source": [
    "Since the text classification can also accept an array as input you can stil make one call to the pipeline."
   ],
   "metadata": {
    "collapsed": false
   }
  },
  {
   "cell_type": "code",
   "execution_count": 5,
   "outputs": [
    {
     "data": {
      "text/plain": "[{'label': 'POSITIVE', 'score': 0.9998636245727539},\n {'label': 'NEGATIVE', 'score': 0.9997344613075256},\n {'label': 'POSITIVE', 'score': 0.9686349034309387}]"
     },
     "execution_count": 5,
     "metadata": {},
     "output_type": "execute_result"
    }
   ],
   "source": [
    "await process.call(\"ai\", \"execute\", {\n",
    "    \"name\": \"text_classification2\",\n",
    "    \"input\": [\"This is a great day\", \"This is not a great day\", \"Things are only ok\"]\n",
    "})"
   ],
   "metadata": {
    "collapsed": false,
    "ExecuteTime": {
     "end_time": "2023-08-26T08:56:58.890023400Z",
     "start_time": "2023-08-26T08:56:58.839541700Z"
    }
   }
  },
  {
   "cell_type": "markdown",
   "source": [
    "When you are done you can unload the pipeline from the cache."
   ],
   "metadata": {
    "collapsed": false
   }
  },
  {
   "cell_type": "code",
   "execution_count": 6,
   "outputs": [
    {
     "data": {
      "text/plain": "True"
     },
     "execution_count": 6,
     "metadata": {},
     "output_type": "execute_result"
    }
   ],
   "source": [
    "await process.call(\"ai\", \"unload\", {\n",
    "    \"name\": \"text_classification2\"\n",
    "})"
   ],
   "metadata": {
    "collapsed": false,
    "ExecuteTime": {
     "end_time": "2023-08-26T08:56:58.946019200Z",
     "start_time": "2023-08-26T08:56:58.885511900Z"
    }
   }
  },
  {
   "cell_type": "markdown",
   "source": [
    "## Vision classification example\n",
    "\n",
    "You will notice that the exact same structure is used, it just depends on the pipeline you are using.\n",
    "You can look at the hugging face documentation to see what pipeline settings need to be passed."
   ],
   "metadata": {
    "collapsed": false
   }
  },
  {
   "cell_type": "code",
   "execution_count": 7,
   "outputs": [
    {
     "name": "stdout",
     "output_type": "stream",
     "text": [
      "[{'score': 0.4334997236728668, 'label': 'lynx, catamount'}, {'score': 0.03479619324207306, 'label': 'cougar, puma, catamount, mountain lion, painter, panther, Felis concolor'}, {'score': 0.0324019156396389, 'label': 'snow leopard, ounce, Panthera uncia'}, {'score': 0.0239447969943285, 'label': 'Egyptian cat'}, {'score': 0.02288922108709812, 'label': 'tiger cat'}]\n"
     ]
    },
    {
     "data": {
      "text/plain": "True"
     },
     "execution_count": 7,
     "metadata": {},
     "output_type": "execute_result"
    }
   ],
   "source": [
    "import src.process_api as process\n",
    "\n",
    "await process.call(\"ai\", \"load\", {\n",
    "    \"name\": \"vision_classifier\",\n",
    "    \"pipeline\": {\n",
    "        \"model\": \"google/vit-base-patch16-224\"\n",
    "    }\n",
    "})\n",
    "\n",
    "print(await process.call(\"ai\", \"execute\", {\n",
    "    \"name\": \"vision_classifier\",\n",
    "    \"input\": \"https://huggingface.co/datasets/huggingface/documentation-images/resolve/main/pipeline-cat-chonk.jpeg\"\n",
    "}))\n",
    "\n",
    "await process.call(\"ai\", \"unload\", {\n",
    "    \"name\": \"vision_classifier\"\n",
    "})"
   ],
   "metadata": {
    "collapsed": false,
    "ExecuteTime": {
     "end_time": "2023-08-26T08:57:01.193356600Z",
     "start_time": "2023-08-26T08:56:58.918239400Z"
    }
   }
  },
  {
   "cell_type": "markdown",
   "source": [
    "## Question Answering\n",
    "\n",
    "Please see the documentation for the model at\n",
    "\n",
    "[https://huggingface.co/deepset/roberta-base-squad2](https://huggingface.co/deepset/roberta-base-squad2)\n"
   ],
   "metadata": {
    "collapsed": false
   }
  },
  {
   "cell_type": "code",
   "execution_count": 8,
   "outputs": [
    {
     "data": {
      "text/plain": "{'score': 0.21171477437019348,\n 'start': 59,\n 'end': 84,\n 'answer': 'gives freedom to the user'}"
     },
     "execution_count": 8,
     "metadata": {},
     "output_type": "execute_result"
    }
   ],
   "source": [
    "import src.process_api as process\n",
    "\n",
    "model_name = \"deepset/roberta-base-squad2\"\n",
    "\n",
    "await process.call(\"ai\", \"perform\", {\n",
    "    \"name\": \"question-answering\",\n",
    "    \"pipeline\": {\n",
    "        \"model\": model_name,\n",
    "        \"tokenizer\": model_name\n",
    "    },\n",
    "    \"input\": {\n",
    "        'question': 'Why is model conversion important?',\n",
    "        'context': 'The option to convert models between FARM and transformers gives freedom to the user and let people easily switch between frameworks.'\n",
    "    }\n",
    "})"
   ],
   "metadata": {
    "collapsed": false,
    "ExecuteTime": {
     "end_time": "2023-08-26T08:57:02.653154200Z",
     "start_time": "2023-08-26T08:57:01.194357400Z"
    }
   }
  }
 ],
 "metadata": {
  "kernelspec": {
   "display_name": "Python 3",
   "language": "python",
   "name": "python3"
  },
  "language_info": {
   "codemirror_mode": {
    "name": "ipython",
    "version": 2
   },
   "file_extension": ".py",
   "mimetype": "text/x-python",
   "name": "python",
   "nbconvert_exporter": "python",
   "pygments_lexer": "ipython2",
   "version": "2.7.6"
  }
 },
 "nbformat": 4,
 "nbformat_minor": 0
}
