{
 "cells": [
  {
   "cell_type": "markdown",
   "source": [
    "# AI actions\n",
    "\n",
    "The purpose of the ai actions so to link in to the hugging face pipeline api.\n",
    "What ever the pipeline ability is, that is what you get out of the box.\n",
    "There are trhee main properties to take note of:\n",
    "- `name` - this is the name of the pipeline, this is used to identify the pipeline. The pipeline is cached so that it can be reused.\n",
    "- `pipeline` - this defines the pipeline settings when creating the pipeline.\n",
    "- `input` - this defines the inputb settings when you execute the pipelbine.\n",
    "\n",
    "[https://huggingface.co/docs/transformers/pipeline_tutorial](https://huggingface.co/docs/transformers/pipeline_tutorial)"
   ],
   "metadata": {
    "collapsed": false
   }
  },
  {
   "cell_type": "code",
   "execution_count": 5,
   "outputs": [
    {
     "data": {
      "text/plain": "[{'label': 'NEGATIVE', 'score': 0.9995983242988586}]"
     },
     "execution_count": 5,
     "metadata": {},
     "output_type": "execute_result"
    }
   ],
   "source": [
    "import process_api.process_api as process\n",
    "import process_api.modules.ai\n",
    "\n",
    "args = {\n",
    "    \"name\": \"text-classification\",\n",
    "    \"pipeline\": {\n",
    "        \"model\": \"distilbert-base-uncased-finetuned-sst-2-english\"\n",
    "    },\n",
    "    \"input\": \"Charles is not listening and is slow to respond to messages.\"\n",
    "}\n",
    "\n",
    "await process.call(\"ai\", \"perform\", args)"
   ],
   "metadata": {
    "collapsed": false,
    "ExecuteTime": {
     "end_time": "2023-09-12T14:41:17.069770900Z",
     "start_time": "2023-09-12T14:41:07.806158600Z"
    }
   }
  },
  {
   "cell_type": "markdown",
   "source": [
    "## Predefined pipelines"
   ],
   "metadata": {
    "collapsed": false
   }
  },
  {
   "cell_type": "code",
   "execution_count": 4,
   "outputs": [
    {
     "data": {
      "text/plain": "True"
     },
     "execution_count": 4,
     "metadata": {},
     "output_type": "execute_result"
    }
   ],
   "source": [
    "import process_api.process_api as process\n",
    "\n",
    "await process.call(\"ai\", \"load\", {\n",
    "    \"name\": \"text_classification2\",\n",
    "    \"pipeline\": {\n",
    "        \"model\": \"distilbert-base-uncased-finetuned-sst-2-english\"\n",
    "    }\n",
    "})"
   ],
   "metadata": {
    "collapsed": false,
    "ExecuteTime": {
     "end_time": "2023-08-28T14:35:50.131643300Z",
     "start_time": "2023-08-28T14:35:49.053233600Z"
    }
   }
  },
  {
   "cell_type": "markdown",
   "source": [
    "## Execute pipeline\n",
    "\n",
    "Note that you need to provide the name of the cached pipeline and the input to pass on.\n",
    "In this example we are showing how you can use the same pipeline to classify two different sentences."
   ],
   "metadata": {
    "collapsed": false
   }
  },
  {
   "cell_type": "code",
   "execution_count": 6,
   "outputs": [
    {
     "data": {
      "text/plain": "[{'label': 'NEGATIVE', 'score': 0.9997987151145935}]"
     },
     "execution_count": 6,
     "metadata": {},
     "output_type": "execute_result"
    }
   ],
   "source": [
    "await process.call(\"ai\", \"execute\", {\n",
    "    \"name\": \"text_classification2\",\n",
    "    \"input\": \"I love you\"\n",
    "})\n",
    "\n",
    "await process.call(\"ai\", \"execute\", {\n",
    "    \"name\": \"text_classification2\",\n",
    "    \"input\": \"This is not a great place for a pick nick\"\n",
    "})"
   ],
   "metadata": {
    "collapsed": false,
    "ExecuteTime": {
     "end_time": "2023-08-28T14:36:04.182910600Z",
     "start_time": "2023-08-28T14:36:04.141373500Z"
    }
   }
  },
  {
   "cell_type": "markdown",
   "source": [
    "Since the text classification can also accept an array as input you can stil make one call to the pipeline."
   ],
   "metadata": {
    "collapsed": false
   }
  },
  {
   "cell_type": "code",
   "execution_count": 7,
   "outputs": [
    {
     "data": {
      "text/plain": "[{'label': 'POSITIVE', 'score': 0.9998636245727539},\n {'label': 'NEGATIVE', 'score': 0.9997344613075256},\n {'label': 'POSITIVE', 'score': 0.9686349034309387}]"
     },
     "execution_count": 7,
     "metadata": {},
     "output_type": "execute_result"
    }
   ],
   "source": [
    "await process.call(\"ai\", \"execute\", {\n",
    "    \"name\": \"text_classification2\",\n",
    "    \"input\": [\"This is a great day\", \"This is not a great day\", \"Things are only ok\"]\n",
    "})"
   ],
   "metadata": {
    "collapsed": false,
    "ExecuteTime": {
     "end_time": "2023-08-28T14:36:10.080190800Z",
     "start_time": "2023-08-28T14:36:10.035088300Z"
    }
   }
  },
  {
   "cell_type": "markdown",
   "source": [
    "When you are done you can unload the pipeline from the cache."
   ],
   "metadata": {
    "collapsed": false
   }
  },
  {
   "cell_type": "code",
   "execution_count": null,
   "outputs": [],
   "source": [
    "await process.call(\"ai\", \"unload\", {\n",
    "    \"name\": \"text_classification2\"\n",
    "})"
   ],
   "metadata": {
    "collapsed": false
   }
  },
  {
   "cell_type": "markdown",
   "source": [
    "## Vision classification example\n",
    "\n",
    "You will notice that the exact same structure is used, it just depends on the pipeline you are using.\n",
    "You can look at the hugging face documentation to see what pipeline settings need to be passed."
   ],
   "metadata": {
    "collapsed": false
   }
  },
  {
   "cell_type": "code",
   "execution_count": null,
   "outputs": [],
   "source": [
    "import process_api.process_api as process\n",
    "\n",
    "await process.call(\"ai\", \"load\", {\n",
    "    \"name\": \"vision_classifier\",\n",
    "    \"pipeline\": {\n",
    "        \"model\": \"google/vit-base-patch16-224\"\n",
    "    }\n",
    "})\n",
    "\n",
    "print(await process.call(\"ai\", \"execute\", {\n",
    "    \"name\": \"vision_classifier\",\n",
    "    \"input\": \"https://huggingface.co/datasets/huggingface/documentation-images/resolve/main/pipeline-cat-chonk.jpeg\"\n",
    "}))\n",
    "\n",
    "await process.call(\"ai\", \"unload\", {\n",
    "    \"name\": \"vision_classifier\"\n",
    "})"
   ],
   "metadata": {
    "collapsed": false
   }
  },
  {
   "cell_type": "markdown",
   "source": [
    "## Question Answering\n",
    "\n",
    "Please see the documentation for the model at\n",
    "\n",
    "[https://huggingface.co/deepset/roberta-base-squad2](https://huggingface.co/deepset/roberta-base-squad2)\n"
   ],
   "metadata": {
    "collapsed": false
   }
  },
  {
   "cell_type": "code",
   "execution_count": null,
   "outputs": [],
   "source": [
    "import process_api.process_api as process\n",
    "\n",
    "model_name = \"deepset/roberta-base-squad2\"\n",
    "\n",
    "await process.call(\"ai\", \"perform\", {\n",
    "    \"name\": \"question-answering\",\n",
    "    \"pipeline\": {\n",
    "        \"model\": model_name,\n",
    "        \"tokenizer\": model_name\n",
    "    },\n",
    "    \"input\": {\n",
    "        'question': 'Why is model conversion important?',\n",
    "        'context': 'The option to convert models between FARM and transformers gives freedom to the user and let people easily switch between frameworks.'\n",
    "    }\n",
    "})"
   ],
   "metadata": {
    "collapsed": false
   }
  }
 ],
 "metadata": {
  "kernelspec": {
   "display_name": "Python 3",
   "language": "python",
   "name": "python3"
  },
  "language_info": {
   "codemirror_mode": {
    "name": "ipython",
    "version": 2
   },
   "file_extension": ".py",
   "mimetype": "text/x-python",
   "name": "python",
   "nbconvert_exporter": "python",
   "pygments_lexer": "ipython2",
   "version": "2.7.6"
  }
 },
 "nbformat": 4,
 "nbformat_minor": 0
}
