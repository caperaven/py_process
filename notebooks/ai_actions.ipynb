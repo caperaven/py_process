{
 "cells": [
  {
   "cell_type": "markdown",
   "source": [
    "# AI actions\n",
    "\n",
    "The purpose of the ai actions so to link in to the hugging face pipeline api.\n",
    "What ever the pipeline ability is, that is what you get out of the box.\n",
    "There are trhee main properties to take note of:\n",
    "- `name` - this is the name of the pipeline, this is used to identify the pipeline. The pipeline is cached so that it can be reused.\n",
    "- `pipeline` - this defines the pipeline settings when creating the pipeline.\n",
    "- `input` - this defines the inputb settings when you execute the pipelbine."
   ],
   "metadata": {
    "collapsed": false
   }
  },
  {
   "cell_type": "code",
   "execution_count": 8,
   "outputs": [
    {
     "data": {
      "text/plain": "[{'label': 'POSITIVE', 'score': 0.9998656511306763}]"
     },
     "execution_count": 8,
     "metadata": {},
     "output_type": "execute_result"
    }
   ],
   "source": [
    "import src.process_api as process\n",
    "\n",
    "args = {\n",
    "    \"name\": \"text-classification\",\n",
    "    \"pipeline\": {\n",
    "        \"model\": \"distilbert-base-uncased-finetuned-sst-2-english\"\n",
    "    },\n",
    "    \"input\": \"I love you\"\n",
    "}\n",
    "\n",
    "await process.call(\"ai\", \"perform\", args)"
   ],
   "metadata": {
    "collapsed": false,
    "ExecuteTime": {
     "end_time": "2023-08-26T07:59:48.374559300Z",
     "start_time": "2023-08-26T07:59:47.047391Z"
    }
   }
  },
  {
   "cell_type": "markdown",
   "source": [
    "## Predefined pipelines"
   ],
   "metadata": {
    "collapsed": false
   }
  },
  {
   "cell_type": "code",
   "execution_count": null,
   "outputs": [],
   "source": [
    "import src.process_api as process\n",
    "\n",
    "await process.call(\"ai\", \"load\", {\n",
    "    \"name\": \"text_classification2\",\n",
    "    \"pipeline\": {\n",
    "        \"model\": \"distilbert-base-uncased-finetuned-sst-2-english\"\n",
    "    }\n",
    "})"
   ],
   "metadata": {
    "collapsed": false
   }
  },
  {
   "cell_type": "markdown",
   "source": [
    "## Execute pipeline\n",
    "\n",
    "Note that you need to provide the name of the cached pipeline and the input to pass on.\n",
    "In this example we are showing how you can use the same pipeline to classify two different sentences."
   ],
   "metadata": {
    "collapsed": false
   }
  },
  {
   "cell_type": "code",
   "execution_count": null,
   "outputs": [],
   "source": [
    "await process.call(\"ai\", \"execute\", {\n",
    "    \"name\": \"text_classification2\",\n",
    "    \"input\": \"I love you\"\n",
    "})\n",
    "\n",
    "await process.call(\"ai\", \"execute\", {\n",
    "    \"name\": \"text_classification2\",\n",
    "    \"input\": \"This is not a great place for a pick nick\"\n",
    "})"
   ],
   "metadata": {
    "collapsed": false
   }
  },
  {
   "cell_type": "markdown",
   "source": [
    "Since the text classification can also accept an array as input you can stil make one call to the pipeline."
   ],
   "metadata": {
    "collapsed": false
   }
  },
  {
   "cell_type": "code",
   "execution_count": 10,
   "outputs": [
    {
     "ename": "Exception",
     "evalue": "Pipeline not loaded",
     "output_type": "error",
     "traceback": [
      "\u001B[1;31m---------------------------------------------------------------------------\u001B[0m",
      "\u001B[1;31mException\u001B[0m                                 Traceback (most recent call last)",
      "Cell \u001B[1;32mIn[10], line 1\u001B[0m\n\u001B[1;32m----> 1\u001B[0m \u001B[38;5;28;01mawait\u001B[39;00m process\u001B[38;5;241m.\u001B[39mcall(\u001B[38;5;124m\"\u001B[39m\u001B[38;5;124mai\u001B[39m\u001B[38;5;124m\"\u001B[39m, \u001B[38;5;124m\"\u001B[39m\u001B[38;5;124mexecute\u001B[39m\u001B[38;5;124m\"\u001B[39m, {\n\u001B[0;32m      2\u001B[0m     \u001B[38;5;124m\"\u001B[39m\u001B[38;5;124mname\u001B[39m\u001B[38;5;124m\"\u001B[39m: \u001B[38;5;124m\"\u001B[39m\u001B[38;5;124mtext_classification2\u001B[39m\u001B[38;5;124m\"\u001B[39m,\n\u001B[0;32m      3\u001B[0m     \u001B[38;5;124m\"\u001B[39m\u001B[38;5;124minput\u001B[39m\u001B[38;5;124m\"\u001B[39m: [\u001B[38;5;124m\"\u001B[39m\u001B[38;5;124mThis is a great day\u001B[39m\u001B[38;5;124m\"\u001B[39m, \u001B[38;5;124m\"\u001B[39m\u001B[38;5;124mThis is not a great day\u001B[39m\u001B[38;5;124m\"\u001B[39m, \u001B[38;5;124m\"\u001B[39m\u001B[38;5;124mThings are only ok\u001B[39m\u001B[38;5;124m\"\u001B[39m]\n\u001B[0;32m      4\u001B[0m })\n",
      "File \u001B[1;32mF:\\intent_projects\\py_process\\src\\process_api.py:27\u001B[0m, in \u001B[0;36mProcess.call\u001B[1;34m(self, step_type, step_action, step_args, context, process, item)\u001B[0m\n\u001B[0;32m     20\u001B[0m \u001B[38;5;28;01masync\u001B[39;00m \u001B[38;5;28;01mdef\u001B[39;00m \u001B[38;5;21mcall\u001B[39m(\u001B[38;5;28mself\u001B[39m, step_type, step_action, step_args, context\u001B[38;5;241m=\u001B[39m\u001B[38;5;28;01mNone\u001B[39;00m, process\u001B[38;5;241m=\u001B[39m\u001B[38;5;28;01mNone\u001B[39;00m, item\u001B[38;5;241m=\u001B[39m\u001B[38;5;28;01mNone\u001B[39;00m):\n\u001B[0;32m     21\u001B[0m     step \u001B[38;5;241m=\u001B[39m {\n\u001B[0;32m     22\u001B[0m         \u001B[38;5;124m\"\u001B[39m\u001B[38;5;124mtype\u001B[39m\u001B[38;5;124m\"\u001B[39m: step_type,\n\u001B[0;32m     23\u001B[0m         \u001B[38;5;124m\"\u001B[39m\u001B[38;5;124maction\u001B[39m\u001B[38;5;124m\"\u001B[39m: step_action,\n\u001B[0;32m     24\u001B[0m         \u001B[38;5;124m\"\u001B[39m\u001B[38;5;124margs\u001B[39m\u001B[38;5;124m\"\u001B[39m: step_args\n\u001B[0;32m     25\u001B[0m     }\n\u001B[1;32m---> 27\u001B[0m     \u001B[38;5;28;01mreturn\u001B[39;00m \u001B[38;5;28;01mawait\u001B[39;00m \u001B[38;5;28mself\u001B[39m\u001B[38;5;241m.\u001B[39mprocess_runner\u001B[38;5;241m.\u001B[39mrun_step(step, context, process, item)\n",
      "File \u001B[1;32mF:\\intent_projects\\py_process\\src\\process_runner.py:41\u001B[0m, in \u001B[0;36mProcessRunner.run_step\u001B[1;34m(self, step, context, process, item)\u001B[0m\n\u001B[0;32m     39\u001B[0m \u001B[38;5;28;01mif\u001B[39;00m \u001B[38;5;28mhasattr\u001B[39m(module, action):\n\u001B[0;32m     40\u001B[0m     function \u001B[38;5;241m=\u001B[39m \u001B[38;5;28mgetattr\u001B[39m(module, action)\n\u001B[1;32m---> 41\u001B[0m     result \u001B[38;5;241m=\u001B[39m \u001B[38;5;28;01mawait\u001B[39;00m function(step, context, process, item)\n\u001B[0;32m     43\u001B[0m     \u001B[38;5;28;01mif\u001B[39;00m \u001B[38;5;124m\"\u001B[39m\u001B[38;5;124mtarget\u001B[39m\u001B[38;5;124m\"\u001B[39m \u001B[38;5;129;01min\u001B[39;00m step:\n\u001B[0;32m     44\u001B[0m         \u001B[38;5;28;01mawait\u001B[39;00m set_value(step\u001B[38;5;241m.\u001B[39mget(\u001B[38;5;124m'\u001B[39m\u001B[38;5;124mtarget\u001B[39m\u001B[38;5;124m'\u001B[39m), result, context, process, item)\n",
      "File \u001B[1;32mF:\\intent_projects\\py_process\\src\\action_systems/ai_actions.py:61\u001B[0m, in \u001B[0;36mDefault.execute\u001B[1;34m(step, context, process, item)\u001B[0m\n\u001B[0;32m     59\u001B[0m execute \u001B[38;5;241m=\u001B[39m pipeline_cache\u001B[38;5;241m.\u001B[39mget(args\u001B[38;5;241m.\u001B[39mget(\u001B[38;5;124m\"\u001B[39m\u001B[38;5;124mname\u001B[39m\u001B[38;5;124m\"\u001B[39m))\n\u001B[0;32m     60\u001B[0m \u001B[38;5;28;01mif\u001B[39;00m execute \u001B[38;5;129;01mis\u001B[39;00m \u001B[38;5;28;01mNone\u001B[39;00m:\n\u001B[1;32m---> 61\u001B[0m     \u001B[38;5;28;01mraise\u001B[39;00m \u001B[38;5;167;01mException\u001B[39;00m(\u001B[38;5;124m\"\u001B[39m\u001B[38;5;124mPipeline not loaded\u001B[39m\u001B[38;5;124m\"\u001B[39m)\n\u001B[0;32m     63\u001B[0m \u001B[38;5;28;01mif\u001B[39;00m \u001B[38;5;28misinstance\u001B[39m(pipe_input, \u001B[38;5;28mdict\u001B[39m):\n\u001B[0;32m     64\u001B[0m     \u001B[38;5;28;01mreturn\u001B[39;00m execute(\u001B[38;5;241m*\u001B[39m\u001B[38;5;241m*\u001B[39mpipe_input)\n",
      "\u001B[1;31mException\u001B[0m: Pipeline not loaded"
     ]
    }
   ],
   "source": [
    "await process.call(\"ai\", \"execute\", {\n",
    "    \"name\": \"text_classification2\",\n",
    "    \"input\": [\"This is a great day\", \"This is not a great day\", \"Things are only ok\"]\n",
    "})"
   ],
   "metadata": {
    "collapsed": false,
    "ExecuteTime": {
     "end_time": "2023-08-26T08:00:15.737479400Z",
     "start_time": "2023-08-26T08:00:14.943220Z"
    }
   }
  },
  {
   "cell_type": "markdown",
   "source": [
    "When you are done you can unload the pipeline from the cache."
   ],
   "metadata": {
    "collapsed": false
   }
  },
  {
   "cell_type": "code",
   "execution_count": 9,
   "outputs": [
    {
     "data": {
      "text/plain": "True"
     },
     "execution_count": 9,
     "metadata": {},
     "output_type": "execute_result"
    }
   ],
   "source": [
    "await process.call(\"ai\", \"unload\", {\n",
    "    \"name\": \"text_classification2\"\n",
    "})"
   ],
   "metadata": {
    "collapsed": false,
    "ExecuteTime": {
     "end_time": "2023-08-26T08:00:11.289553700Z",
     "start_time": "2023-08-26T08:00:11.265713800Z"
    }
   }
  }
 ],
 "metadata": {
  "kernelspec": {
   "display_name": "Python 3",
   "language": "python",
   "name": "python3"
  },
  "language_info": {
   "codemirror_mode": {
    "name": "ipython",
    "version": 2
   },
   "file_extension": ".py",
   "mimetype": "text/x-python",
   "name": "python",
   "nbconvert_exporter": "python",
   "pygments_lexer": "ipython2",
   "version": "2.7.6"
  }
 },
 "nbformat": 4,
 "nbformat_minor": 0
}
