{
 "cells": [
  {
   "cell_type": "code",
   "execution_count": null,
   "metadata": {
    "collapsed": true
   },
   "outputs": [],
   "source": [
    "from IPython.display import display\n",
    "from process_api.process_api import process\n",
    "import process_api.modules.data\n",
    "import os\n",
    "\n",
    "source = os.path.abspath(os.path.join(os.getcwd(), \"../data\", \"pokemon.csv\"))\n",
    "\n",
    "df = await process.call(\"data\", \"load\", {\n",
    "    \"name\": \"pokemon\",\n",
    "    \"source\": source\n",
    "})\n",
    "\n",
    "result = await process.call(\"data\", \"call\", {\n",
    "    \"name\": \"pokemon\",\n",
    "    \"method\": \"head\"\n",
    "})\n",
    "\n",
    "display(result)\n"
   ]
  },
  {
   "cell_type": "code",
   "execution_count": null,
   "outputs": [],
   "source": [
    "from IPython.display import display\n",
    "from process_api.process_api import process\n",
    "import os\n",
    "\n",
    "source = os.path.abspath(os.path.join(os.getcwd(), \"../data\", \"pokemon.csv\"))\n",
    "\n",
    "df = await process.call(\"data\", \"load\", {\n",
    "    \"name\": \"pokemon\",\n",
    "    \"source\": source\n",
    "})\n",
    "\n",
    "result = await process.call(\"data\", \"get_perspective\", {\n",
    "    \"name\": \"pokemon\",\n",
    "    \"perspective\": {\n",
    "        \"filter\": \"`Attack` gt 100 and `Defense` gt 100\",\n",
    "        \"sort\": {\n",
    "            \"Attack\": \"dec\",\n",
    "            \"Name\": \"asc\"\n",
    "        }\n",
    "    }\n",
    "})\n",
    "\n",
    "display(result)"
   ],
   "metadata": {
    "collapsed": false
   }
  }
 ],
 "metadata": {
  "kernelspec": {
   "display_name": "Python 3",
   "language": "python",
   "name": "python3"
  },
  "language_info": {
   "codemirror_mode": {
    "name": "ipython",
    "version": 2
   },
   "file_extension": ".py",
   "mimetype": "text/x-python",
   "name": "python",
   "nbconvert_exporter": "python",
   "pygments_lexer": "ipython2",
   "version": "2.7.6"
  }
 },
 "nbformat": 4,
 "nbformat_minor": 0
}
