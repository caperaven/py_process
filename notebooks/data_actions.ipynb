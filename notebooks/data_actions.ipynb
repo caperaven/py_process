{
 "cells": [
  {
   "cell_type": "code",
   "execution_count": 13,
   "metadata": {
    "collapsed": true,
    "ExecuteTime": {
     "end_time": "2023-08-28T20:47:01.023078200Z",
     "start_time": "2023-08-28T20:47:01.013076300Z"
    }
   },
   "outputs": [
    {
     "data": {
      "text/plain": "   #       Name Type 1  Type 2  Total  HP  Attack  Defense  Sp. Atk  Sp. Def  \\\n0  1  Bulbasaur  Grass  Poison    318  45      49       49       65       65   \n\n   Speed  Generation  Legendary  \n0     45           1      False  ",
      "text/html": "<div>\n<style scoped>\n    .dataframe tbody tr th:only-of-type {\n        vertical-align: middle;\n    }\n\n    .dataframe tbody tr th {\n        vertical-align: top;\n    }\n\n    .dataframe thead th {\n        text-align: right;\n    }\n</style>\n<table border=\"1\" class=\"dataframe\">\n  <thead>\n    <tr style=\"text-align: right;\">\n      <th></th>\n      <th>#</th>\n      <th>Name</th>\n      <th>Type 1</th>\n      <th>Type 2</th>\n      <th>Total</th>\n      <th>HP</th>\n      <th>Attack</th>\n      <th>Defense</th>\n      <th>Sp. Atk</th>\n      <th>Sp. Def</th>\n      <th>Speed</th>\n      <th>Generation</th>\n      <th>Legendary</th>\n    </tr>\n  </thead>\n  <tbody>\n    <tr>\n      <th>0</th>\n      <td>1</td>\n      <td>Bulbasaur</td>\n      <td>Grass</td>\n      <td>Poison</td>\n      <td>318</td>\n      <td>45</td>\n      <td>49</td>\n      <td>49</td>\n      <td>65</td>\n      <td>65</td>\n      <td>45</td>\n      <td>1</td>\n      <td>False</td>\n    </tr>\n  </tbody>\n</table>\n</div>"
     },
     "execution_count": 13,
     "metadata": {},
     "output_type": "execute_result"
    }
   ],
   "source": [
    "from IPython.display import display\n",
    "from src.process_api import process\n",
    "import os\n",
    "\n",
    "source = os.path.abspath(os.path.join(os.getcwd(), \"../data\", \"pokemon.csv\"))\n",
    "\n",
    "df = await process.call(\"data\", \"load\", {\n",
    "    \"name\": \"pokemon\",\n",
    "    \"source\": source\n",
    "})\n",
    "\n",
    "result = await process.call(\"data\", \"call\", {\n",
    "    \"name\": \"pokemon\",\n",
    "    \"method\": \"head\"\n",
    "})\n",
    "\n",
    "result.query('`Name` == \"Bulbasaur\"')\n"
   ]
  },
  {
   "cell_type": "code",
   "execution_count": 15,
   "outputs": [
    {
     "data": {
      "text/plain": "       #                   Name Type 1  Type 2  Total  HP  Attack  Defense  \\\n0      1              Bulbasaur  Grass  Poison    318  45      49       49   \n1      2                Ivysaur  Grass  Poison    405  60      62       63   \n2      3               Venusaur  Grass  Poison    525  80      82       83   \n3      3  VenusaurMega Venusaur  Grass  Poison    625  80     100      123   \n48    43                 Oddish  Grass  Poison    320  45      50       55   \n..   ...                    ...    ...     ...    ...  ..     ...      ...   \n783  710    PumpkabooSuper Size  Ghost   Grass    335  59      66       70   \n784  711  GourgeistAverage Size  Ghost   Grass    494  65      90      122   \n785  711    GourgeistSmall Size  Ghost   Grass    494  55      85      122   \n786  711    GourgeistLarge Size  Ghost   Grass    494  75      95      122   \n787  711    GourgeistSuper Size  Ghost   Grass    494  85     100      122   \n\n     Sp. Atk  Sp. Def  Speed  Generation  Legendary  \n0         65       65     45           1      False  \n1         80       80     60           1      False  \n2        100      100     80           1      False  \n3        122      120     80           1      False  \n48        75       65     30           1      False  \n..       ...      ...    ...         ...        ...  \n783       44       55     41           6      False  \n784       58       75     84           6      False  \n785       58       75     99           6      False  \n786       58       75     69           6      False  \n787       58       75     54           6      False  \n\n[95 rows x 13 columns]",
      "text/html": "<div>\n<style scoped>\n    .dataframe tbody tr th:only-of-type {\n        vertical-align: middle;\n    }\n\n    .dataframe tbody tr th {\n        vertical-align: top;\n    }\n\n    .dataframe thead th {\n        text-align: right;\n    }\n</style>\n<table border=\"1\" class=\"dataframe\">\n  <thead>\n    <tr style=\"text-align: right;\">\n      <th></th>\n      <th>#</th>\n      <th>Name</th>\n      <th>Type 1</th>\n      <th>Type 2</th>\n      <th>Total</th>\n      <th>HP</th>\n      <th>Attack</th>\n      <th>Defense</th>\n      <th>Sp. Atk</th>\n      <th>Sp. Def</th>\n      <th>Speed</th>\n      <th>Generation</th>\n      <th>Legendary</th>\n    </tr>\n  </thead>\n  <tbody>\n    <tr>\n      <th>0</th>\n      <td>1</td>\n      <td>Bulbasaur</td>\n      <td>Grass</td>\n      <td>Poison</td>\n      <td>318</td>\n      <td>45</td>\n      <td>49</td>\n      <td>49</td>\n      <td>65</td>\n      <td>65</td>\n      <td>45</td>\n      <td>1</td>\n      <td>False</td>\n    </tr>\n    <tr>\n      <th>1</th>\n      <td>2</td>\n      <td>Ivysaur</td>\n      <td>Grass</td>\n      <td>Poison</td>\n      <td>405</td>\n      <td>60</td>\n      <td>62</td>\n      <td>63</td>\n      <td>80</td>\n      <td>80</td>\n      <td>60</td>\n      <td>1</td>\n      <td>False</td>\n    </tr>\n    <tr>\n      <th>2</th>\n      <td>3</td>\n      <td>Venusaur</td>\n      <td>Grass</td>\n      <td>Poison</td>\n      <td>525</td>\n      <td>80</td>\n      <td>82</td>\n      <td>83</td>\n      <td>100</td>\n      <td>100</td>\n      <td>80</td>\n      <td>1</td>\n      <td>False</td>\n    </tr>\n    <tr>\n      <th>3</th>\n      <td>3</td>\n      <td>VenusaurMega Venusaur</td>\n      <td>Grass</td>\n      <td>Poison</td>\n      <td>625</td>\n      <td>80</td>\n      <td>100</td>\n      <td>123</td>\n      <td>122</td>\n      <td>120</td>\n      <td>80</td>\n      <td>1</td>\n      <td>False</td>\n    </tr>\n    <tr>\n      <th>48</th>\n      <td>43</td>\n      <td>Oddish</td>\n      <td>Grass</td>\n      <td>Poison</td>\n      <td>320</td>\n      <td>45</td>\n      <td>50</td>\n      <td>55</td>\n      <td>75</td>\n      <td>65</td>\n      <td>30</td>\n      <td>1</td>\n      <td>False</td>\n    </tr>\n    <tr>\n      <th>...</th>\n      <td>...</td>\n      <td>...</td>\n      <td>...</td>\n      <td>...</td>\n      <td>...</td>\n      <td>...</td>\n      <td>...</td>\n      <td>...</td>\n      <td>...</td>\n      <td>...</td>\n      <td>...</td>\n      <td>...</td>\n      <td>...</td>\n    </tr>\n    <tr>\n      <th>783</th>\n      <td>710</td>\n      <td>PumpkabooSuper Size</td>\n      <td>Ghost</td>\n      <td>Grass</td>\n      <td>335</td>\n      <td>59</td>\n      <td>66</td>\n      <td>70</td>\n      <td>44</td>\n      <td>55</td>\n      <td>41</td>\n      <td>6</td>\n      <td>False</td>\n    </tr>\n    <tr>\n      <th>784</th>\n      <td>711</td>\n      <td>GourgeistAverage Size</td>\n      <td>Ghost</td>\n      <td>Grass</td>\n      <td>494</td>\n      <td>65</td>\n      <td>90</td>\n      <td>122</td>\n      <td>58</td>\n      <td>75</td>\n      <td>84</td>\n      <td>6</td>\n      <td>False</td>\n    </tr>\n    <tr>\n      <th>785</th>\n      <td>711</td>\n      <td>GourgeistSmall Size</td>\n      <td>Ghost</td>\n      <td>Grass</td>\n      <td>494</td>\n      <td>55</td>\n      <td>85</td>\n      <td>122</td>\n      <td>58</td>\n      <td>75</td>\n      <td>99</td>\n      <td>6</td>\n      <td>False</td>\n    </tr>\n    <tr>\n      <th>786</th>\n      <td>711</td>\n      <td>GourgeistLarge Size</td>\n      <td>Ghost</td>\n      <td>Grass</td>\n      <td>494</td>\n      <td>75</td>\n      <td>95</td>\n      <td>122</td>\n      <td>58</td>\n      <td>75</td>\n      <td>69</td>\n      <td>6</td>\n      <td>False</td>\n    </tr>\n    <tr>\n      <th>787</th>\n      <td>711</td>\n      <td>GourgeistSuper Size</td>\n      <td>Ghost</td>\n      <td>Grass</td>\n      <td>494</td>\n      <td>85</td>\n      <td>100</td>\n      <td>122</td>\n      <td>58</td>\n      <td>75</td>\n      <td>54</td>\n      <td>6</td>\n      <td>False</td>\n    </tr>\n  </tbody>\n</table>\n<p>95 rows × 13 columns</p>\n</div>"
     },
     "metadata": {},
     "output_type": "display_data"
    }
   ],
   "source": [
    "from IPython.display import display\n",
    "from src.process_api import process\n",
    "import os\n",
    "\n",
    "source = os.path.abspath(os.path.join(os.getcwd(), \"../data\", \"pokemon.csv\"))\n",
    "\n",
    "df = await process.call(\"data\", \"load\", {\n",
    "    \"name\": \"pokemon\",\n",
    "    \"source\": source\n",
    "})\n",
    "\n",
    "result = await process.call(\"data\", \"get_perspective\", {\n",
    "    \"name\": \"pokemon\",\n",
    "    \"perspective\": {\n",
    "        \"filter\": \"`Type 1` eq 'Grass' or `Type 2` eq 'Grass'\"\n",
    "    }\n",
    "})\n",
    "\n",
    "display(result)"
   ],
   "metadata": {
    "collapsed": false,
    "ExecuteTime": {
     "end_time": "2023-08-28T20:47:38.768191400Z",
     "start_time": "2023-08-28T20:47:38.745161200Z"
    }
   }
  },
  {
   "cell_type": "code",
   "execution_count": 1,
   "outputs": [],
   "source": [],
   "metadata": {
    "collapsed": false,
    "ExecuteTime": {
     "end_time": "2023-08-28T20:43:45.617098700Z",
     "start_time": "2023-08-28T20:43:45.606098Z"
    }
   }
  },
  {
   "cell_type": "code",
   "execution_count": null,
   "outputs": [],
   "source": [],
   "metadata": {
    "collapsed": false
   }
  }
 ],
 "metadata": {
  "kernelspec": {
   "display_name": "Python 3",
   "language": "python",
   "name": "python3"
  },
  "language_info": {
   "codemirror_mode": {
    "name": "ipython",
    "version": 2
   },
   "file_extension": ".py",
   "mimetype": "text/x-python",
   "name": "python",
   "nbconvert_exporter": "python",
   "pygments_lexer": "ipython2",
   "version": "2.7.6"
  }
 },
 "nbformat": 4,
 "nbformat_minor": 0
}
