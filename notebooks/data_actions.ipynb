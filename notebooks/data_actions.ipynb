{
 "cells": [
  {
   "cell_type": "code",
   "execution_count": 13,
   "metadata": {
    "collapsed": true,
    "ExecuteTime": {
     "end_time": "2023-08-28T21:01:27.867351100Z",
     "start_time": "2023-08-28T21:01:27.853353600Z"
    }
   },
   "outputs": [
    {
     "data": {
      "text/plain": "        Total  Attack  Defense  Sp. Atk  Sp. Def  Speed\nType 1                                                 \nFire      309      52       43       60       50     65\nGrass     625     100      123      122      120     80",
      "text/html": "<div>\n<style scoped>\n    .dataframe tbody tr th:only-of-type {\n        vertical-align: middle;\n    }\n\n    .dataframe tbody tr th {\n        vertical-align: top;\n    }\n\n    .dataframe thead th {\n        text-align: right;\n    }\n</style>\n<table border=\"1\" class=\"dataframe\">\n  <thead>\n    <tr style=\"text-align: right;\">\n      <th></th>\n      <th>Total</th>\n      <th>Attack</th>\n      <th>Defense</th>\n      <th>Sp. Atk</th>\n      <th>Sp. Def</th>\n      <th>Speed</th>\n    </tr>\n    <tr>\n      <th>Type 1</th>\n      <th></th>\n      <th></th>\n      <th></th>\n      <th></th>\n      <th></th>\n      <th></th>\n    </tr>\n  </thead>\n  <tbody>\n    <tr>\n      <th>Fire</th>\n      <td>309</td>\n      <td>52</td>\n      <td>43</td>\n      <td>60</td>\n      <td>50</td>\n      <td>65</td>\n    </tr>\n    <tr>\n      <th>Grass</th>\n      <td>625</td>\n      <td>100</td>\n      <td>123</td>\n      <td>122</td>\n      <td>120</td>\n      <td>80</td>\n    </tr>\n  </tbody>\n</table>\n</div>"
     },
     "metadata": {},
     "output_type": "display_data"
    }
   ],
   "source": [
    "from IPython.display import display\n",
    "from src.process_api import process\n",
    "import os\n",
    "\n",
    "source = os.path.abspath(os.path.join(os.getcwd(), \"../data\", \"pokemon.csv\"))\n",
    "\n",
    "df = await process.call(\"data\", \"load\", {\n",
    "    \"name\": \"pokemon\",\n",
    "    \"source\": source\n",
    "})\n",
    "\n",
    "result = await process.call(\"data\", \"call\", {\n",
    "    \"name\": \"pokemon\",\n",
    "    \"method\": \"head\"\n",
    "})\n",
    "\n",
    "group = result.groupby([\"Type 1\"]).agg({\n",
    "    \"Total\": \"max\",\n",
    "    \"Attack\": \"max\",\n",
    "    \"Defense\": \"max\",\n",
    "    \"Sp. Atk\": \"max\",\n",
    "    \"Sp. Def\": \"max\",\n",
    "    \"Speed\": \"max\"\n",
    "})\n",
    "display(group)\n"
   ]
  },
  {
   "cell_type": "code",
   "execution_count": 1,
   "outputs": [
    {
     "name": "stdout",
     "output_type": "stream",
     "text": [
      "`Type 1` == 'Grass' or `Type 2` == 'Grass'\n"
     ]
    },
    {
     "data": {
      "text/plain": "       #                   Name   Type 1  Type 2  Total   HP  Attack  Defense  \\\n275  254  SceptileMega Sceptile    Grass  Dragon    630   70     110       75   \n3      3  VenusaurMega Venusaur    Grass  Poison    625   80     100      123   \n271  251                 Celebi  Psychic   Grass    600  100     100      100   \n550  492      ShayminLand Forme    Grass     NaN    600  100     100      100   \n551  492       ShayminSky Forme    Grass  Flying    600  100     103       75   \n..   ...                    ...      ...     ...    ...  ...     ...      ...   \n467  420                Cherubi    Grass     NaN    275   45      35       45   \n202  187                 Hoppip    Grass  Flying    250   35      35       40   \n293  270                  Lotad    Water   Grass    220   40      30       30   \n296  273                 Seedot    Grass     NaN    220   40      40       50   \n206  191                Sunkern    Grass     NaN    180   30      30       30   \n\n     Sp. Atk  Sp. Def  Speed  Generation  Legendary  \n275      145       85    145           3      False  \n3        122      120     80           1      False  \n271      100      100    100           2      False  \n550      100      100    100           4       True  \n551      120       75    127           4       True  \n..       ...      ...    ...         ...        ...  \n467       62       53     35           4      False  \n202       35       55     50           2      False  \n293       40       50     30           3      False  \n296       30       30     30           3      False  \n206       30       30     30           2      False  \n\n[95 rows x 13 columns]",
      "text/html": "<div>\n<style scoped>\n    .dataframe tbody tr th:only-of-type {\n        vertical-align: middle;\n    }\n\n    .dataframe tbody tr th {\n        vertical-align: top;\n    }\n\n    .dataframe thead th {\n        text-align: right;\n    }\n</style>\n<table border=\"1\" class=\"dataframe\">\n  <thead>\n    <tr style=\"text-align: right;\">\n      <th></th>\n      <th>#</th>\n      <th>Name</th>\n      <th>Type 1</th>\n      <th>Type 2</th>\n      <th>Total</th>\n      <th>HP</th>\n      <th>Attack</th>\n      <th>Defense</th>\n      <th>Sp. Atk</th>\n      <th>Sp. Def</th>\n      <th>Speed</th>\n      <th>Generation</th>\n      <th>Legendary</th>\n    </tr>\n  </thead>\n  <tbody>\n    <tr>\n      <th>275</th>\n      <td>254</td>\n      <td>SceptileMega Sceptile</td>\n      <td>Grass</td>\n      <td>Dragon</td>\n      <td>630</td>\n      <td>70</td>\n      <td>110</td>\n      <td>75</td>\n      <td>145</td>\n      <td>85</td>\n      <td>145</td>\n      <td>3</td>\n      <td>False</td>\n    </tr>\n    <tr>\n      <th>3</th>\n      <td>3</td>\n      <td>VenusaurMega Venusaur</td>\n      <td>Grass</td>\n      <td>Poison</td>\n      <td>625</td>\n      <td>80</td>\n      <td>100</td>\n      <td>123</td>\n      <td>122</td>\n      <td>120</td>\n      <td>80</td>\n      <td>1</td>\n      <td>False</td>\n    </tr>\n    <tr>\n      <th>271</th>\n      <td>251</td>\n      <td>Celebi</td>\n      <td>Psychic</td>\n      <td>Grass</td>\n      <td>600</td>\n      <td>100</td>\n      <td>100</td>\n      <td>100</td>\n      <td>100</td>\n      <td>100</td>\n      <td>100</td>\n      <td>2</td>\n      <td>False</td>\n    </tr>\n    <tr>\n      <th>550</th>\n      <td>492</td>\n      <td>ShayminLand Forme</td>\n      <td>Grass</td>\n      <td>NaN</td>\n      <td>600</td>\n      <td>100</td>\n      <td>100</td>\n      <td>100</td>\n      <td>100</td>\n      <td>100</td>\n      <td>100</td>\n      <td>4</td>\n      <td>True</td>\n    </tr>\n    <tr>\n      <th>551</th>\n      <td>492</td>\n      <td>ShayminSky Forme</td>\n      <td>Grass</td>\n      <td>Flying</td>\n      <td>600</td>\n      <td>100</td>\n      <td>103</td>\n      <td>75</td>\n      <td>120</td>\n      <td>75</td>\n      <td>127</td>\n      <td>4</td>\n      <td>True</td>\n    </tr>\n    <tr>\n      <th>...</th>\n      <td>...</td>\n      <td>...</td>\n      <td>...</td>\n      <td>...</td>\n      <td>...</td>\n      <td>...</td>\n      <td>...</td>\n      <td>...</td>\n      <td>...</td>\n      <td>...</td>\n      <td>...</td>\n      <td>...</td>\n      <td>...</td>\n    </tr>\n    <tr>\n      <th>467</th>\n      <td>420</td>\n      <td>Cherubi</td>\n      <td>Grass</td>\n      <td>NaN</td>\n      <td>275</td>\n      <td>45</td>\n      <td>35</td>\n      <td>45</td>\n      <td>62</td>\n      <td>53</td>\n      <td>35</td>\n      <td>4</td>\n      <td>False</td>\n    </tr>\n    <tr>\n      <th>202</th>\n      <td>187</td>\n      <td>Hoppip</td>\n      <td>Grass</td>\n      <td>Flying</td>\n      <td>250</td>\n      <td>35</td>\n      <td>35</td>\n      <td>40</td>\n      <td>35</td>\n      <td>55</td>\n      <td>50</td>\n      <td>2</td>\n      <td>False</td>\n    </tr>\n    <tr>\n      <th>293</th>\n      <td>270</td>\n      <td>Lotad</td>\n      <td>Water</td>\n      <td>Grass</td>\n      <td>220</td>\n      <td>40</td>\n      <td>30</td>\n      <td>30</td>\n      <td>40</td>\n      <td>50</td>\n      <td>30</td>\n      <td>3</td>\n      <td>False</td>\n    </tr>\n    <tr>\n      <th>296</th>\n      <td>273</td>\n      <td>Seedot</td>\n      <td>Grass</td>\n      <td>NaN</td>\n      <td>220</td>\n      <td>40</td>\n      <td>40</td>\n      <td>50</td>\n      <td>30</td>\n      <td>30</td>\n      <td>30</td>\n      <td>3</td>\n      <td>False</td>\n    </tr>\n    <tr>\n      <th>206</th>\n      <td>191</td>\n      <td>Sunkern</td>\n      <td>Grass</td>\n      <td>NaN</td>\n      <td>180</td>\n      <td>30</td>\n      <td>30</td>\n      <td>30</td>\n      <td>30</td>\n      <td>30</td>\n      <td>30</td>\n      <td>2</td>\n      <td>False</td>\n    </tr>\n  </tbody>\n</table>\n<p>95 rows × 13 columns</p>\n</div>"
     },
     "metadata": {},
     "output_type": "display_data"
    }
   ],
   "source": [
    "from IPython.display import display\n",
    "from src.process_api import process\n",
    "import os\n",
    "\n",
    "source = os.path.abspath(os.path.join(os.getcwd(), \"../data\", \"pokemon.csv\"))\n",
    "\n",
    "df = await process.call(\"data\", \"load\", {\n",
    "    \"name\": \"pokemon\",\n",
    "    \"source\": source\n",
    "})\n",
    "\n",
    "result = await process.call(\"data\", \"get_perspective\", {\n",
    "    \"name\": \"pokemon\",\n",
    "    \"perspective\": {\n",
    "        \"filter\": \"`Type 1` eq 'Grass' or `Type 2` eq 'Grass'\",\n",
    "        \"sort\": {\n",
    "            \"Total\": \"dec\",\n",
    "            \"Name\": \"asc\"\n",
    "        }\n",
    "    }\n",
    "})\n",
    "\n",
    "display(result)"
   ],
   "metadata": {
    "collapsed": false,
    "ExecuteTime": {
     "end_time": "2023-08-28T20:55:54.877963400Z",
     "start_time": "2023-08-28T20:55:54.524416400Z"
    }
   }
  },
  {
   "cell_type": "code",
   "execution_count": null,
   "outputs": [],
   "source": [],
   "metadata": {
    "collapsed": false
   }
  },
  {
   "cell_type": "code",
   "execution_count": null,
   "outputs": [],
   "source": [],
   "metadata": {
    "collapsed": false
   }
  }
 ],
 "metadata": {
  "kernelspec": {
   "display_name": "Python 3",
   "language": "python",
   "name": "python3"
  },
  "language_info": {
   "codemirror_mode": {
    "name": "ipython",
    "version": 2
   },
   "file_extension": ".py",
   "mimetype": "text/x-python",
   "name": "python",
   "nbconvert_exporter": "python",
   "pygments_lexer": "ipython2",
   "version": "2.7.6"
  }
 },
 "nbformat": 4,
 "nbformat_minor": 0
}
