{
 "cells": [
  {
   "cell_type": "markdown",
   "source": [
    "# Conditions\n",
    "\n",
    "This step allows you to check a condition and run either a pass step or a fail step depending on its result.\n",
    "\n"
   ],
   "metadata": {
    "collapsed": false
   }
  },
  {
   "cell_type": "code",
   "execution_count": 2,
   "outputs": [
    {
     "name": "stdout",
     "output_type": "stream",
     "text": [
      "pass\n"
     ]
    }
   ],
   "source": [
    "from process_api import process_api\n",
    "\n",
    "await process_api.call(\"condition\", \"perform\", {\n",
    "    \"condition\": \"$c{firstName} == 'John'\",\n",
    "    \"pass_step\": {\n",
    "        \"type\": \"console\",\n",
    "        \"action\": \"print\",\n",
    "        \"args\": { \"message\": \"pass\" }\n",
    "    },\n",
    "    \"fail_step\": {\n",
    "        \"type\": \"console\",\n",
    "        \"action\": \"print\",\n",
    "        \"args\": { \"message\": \"fail\" }\n",
    "    }\n",
    "}, {\"firstName\": 'John'})\n"
   ],
   "metadata": {
    "collapsed": false,
    "ExecuteTime": {
     "end_time": "2023-09-12T20:40:33.983484200Z",
     "start_time": "2023-09-12T20:40:33.971973800Z"
    }
   }
  }
 ],
 "metadata": {
  "kernelspec": {
   "display_name": "Python 3",
   "language": "python",
   "name": "python3"
  },
  "language_info": {
   "codemirror_mode": {
    "name": "ipython",
    "version": 2
   },
   "file_extension": ".py",
   "mimetype": "text/x-python",
   "name": "python",
   "nbconvert_exporter": "python",
   "pygments_lexer": "ipython2",
   "version": "2.7.6"
  }
 },
 "nbformat": 4,
 "nbformat_minor": 0
}
