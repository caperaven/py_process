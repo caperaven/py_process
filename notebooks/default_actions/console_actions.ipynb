{
 "cells": [
  {
   "cell_type": "markdown",
   "source": [
    "# Console actions\n",
    "\n",
    "This module allows console actions to be performed."
   ],
   "metadata": {
    "collapsed": false
   }
  },
  {
   "cell_type": "markdown",
   "source": [
    "## Simple console output"
   ],
   "metadata": {
    "collapsed": false
   }
  },
  {
   "cell_type": "code",
   "execution_count": 1,
   "outputs": [
    {
     "ename": "ImportError",
     "evalue": "cannot import name 'process_api' from partially initialized module 'process_api' (most likely due to a circular import) (F:\\intent_projects\\py_process\\process_api\\__init__.py)",
     "output_type": "error",
     "traceback": [
      "\u001B[1;31m---------------------------------------------------------------------------\u001B[0m",
      "\u001B[1;31mImportError\u001B[0m                               Traceback (most recent call last)",
      "Cell \u001B[1;32mIn[1], line 1\u001B[0m\n\u001B[1;32m----> 1\u001B[0m \u001B[38;5;28;01mfrom\u001B[39;00m \u001B[38;5;21;01mprocess_api\u001B[39;00m \u001B[38;5;28;01mimport\u001B[39;00m call\n\u001B[0;32m      2\u001B[0m \u001B[38;5;28;01mimport\u001B[39;00m \u001B[38;5;21;01mprocess_api\u001B[39;00m\u001B[38;5;21;01m.\u001B[39;00m\u001B[38;5;21;01mmodules\u001B[39;00m\n\u001B[0;32m      4\u001B[0m \u001B[38;5;28;01mawait\u001B[39;00m call(\u001B[38;5;124m\"\u001B[39m\u001B[38;5;124mconsole\u001B[39m\u001B[38;5;124m\"\u001B[39m, \u001B[38;5;124m\"\u001B[39m\u001B[38;5;124mprint\u001B[39m\u001B[38;5;124m\"\u001B[39m, { \u001B[38;5;124m\"\u001B[39m\u001B[38;5;124mmessage\u001B[39m\u001B[38;5;124m\"\u001B[39m: \u001B[38;5;124m\"\u001B[39m\u001B[38;5;124mHello world!\u001B[39m\u001B[38;5;124m\"\u001B[39m })\n",
      "File \u001B[1;32mF:\\intent_projects\\py_process\\process_api\\__init__.py:4\u001B[0m\n\u001B[0;32m      2\u001B[0m \u001B[38;5;28;01mfrom\u001B[39;00m \u001B[38;5;21;01mprocess_api\u001B[39;00m\u001B[38;5;21;01m.\u001B[39;00m\u001B[38;5;21;01mutils\u001B[39;00m\u001B[38;5;21;01m.\u001B[39;00m\u001B[38;5;21;01mget_value\u001B[39;00m \u001B[38;5;28;01mimport\u001B[39;00m get_value\n\u001B[0;32m      3\u001B[0m \u001B[38;5;28;01mfrom\u001B[39;00m \u001B[38;5;21;01mprocess_api\u001B[39;00m\u001B[38;5;21;01m.\u001B[39;00m\u001B[38;5;21;01mutils\u001B[39;00m\u001B[38;5;21;01m.\u001B[39;00m\u001B[38;5;21;01mset_value\u001B[39;00m \u001B[38;5;28;01mimport\u001B[39;00m set_value\n\u001B[1;32m----> 4\u001B[0m \u001B[38;5;28;01mimport\u001B[39;00m \u001B[38;5;21;01mprocess_api\u001B[39;00m\u001B[38;5;21;01m.\u001B[39;00m\u001B[38;5;21;01mmodules\u001B[39;00m\n\u001B[0;32m      7\u001B[0m \u001B[38;5;66;03m# This class is a wrapper around the ProcessRunner class.\u001B[39;00m\n\u001B[0;32m      8\u001B[0m \u001B[38;5;66;03m# It is used to make the process_runner module more accessible.\u001B[39;00m\n\u001B[0;32m      9\u001B[0m \u001B[38;5;66;03m# Since process steps can be called from anywhere in the code, including other modules,\u001B[39;00m\n\u001B[0;32m     10\u001B[0m \u001B[38;5;66;03m# use the process variable to call process steps.\u001B[39;00m\n\u001B[0;32m     11\u001B[0m \u001B[38;5;28;01mclass\u001B[39;00m \u001B[38;5;21;01mProcessAPI\u001B[39;00m:\n",
      "File \u001B[1;32mF:\\intent_projects\\py_process\\process_api\\modules\\__init__.py:1\u001B[0m\n\u001B[1;32m----> 1\u001B[0m \u001B[38;5;28;01mimport\u001B[39;00m \u001B[38;5;21;01mprocess_api\u001B[39;00m\u001B[38;5;21;01m.\u001B[39;00m\u001B[38;5;21;01mmodules\u001B[39;00m\u001B[38;5;21;01m.\u001B[39;00m\u001B[38;5;21;01mcondition\u001B[39;00m\n\u001B[0;32m      2\u001B[0m \u001B[38;5;28;01mimport\u001B[39;00m \u001B[38;5;21;01mprocess_api\u001B[39;00m\u001B[38;5;21;01m.\u001B[39;00m\u001B[38;5;21;01mmodules\u001B[39;00m\u001B[38;5;21;01m.\u001B[39;00m\u001B[38;5;21;01mconsole\u001B[39;00m\n\u001B[0;32m      3\u001B[0m \u001B[38;5;28;01mimport\u001B[39;00m \u001B[38;5;21;01mprocess_api\u001B[39;00m\u001B[38;5;21;01m.\u001B[39;00m\u001B[38;5;21;01mmodules\u001B[39;00m\u001B[38;5;21;01m.\u001B[39;00m\u001B[38;5;21;01mloop\u001B[39;00m\n",
      "File \u001B[1;32mF:\\intent_projects\\py_process\\process_api\\modules\\condition.py:2\u001B[0m\n\u001B[0;32m      1\u001B[0m \u001B[38;5;28;01mfrom\u001B[39;00m \u001B[38;5;21;01mprocess_api\u001B[39;00m\u001B[38;5;21;01m.\u001B[39;00m\u001B[38;5;21;01mexpressions\u001B[39;00m\u001B[38;5;21;01m.\u001B[39;00m\u001B[38;5;21;01mconditions\u001B[39;00m \u001B[38;5;28;01mimport\u001B[39;00m conditions\n\u001B[1;32m----> 2\u001B[0m \u001B[38;5;28;01mfrom\u001B[39;00m \u001B[38;5;21;01mprocess_api\u001B[39;00m\u001B[38;5;21;01m.\u001B[39;00m\u001B[38;5;21;01mutils\u001B[39;00m\u001B[38;5;21;01m.\u001B[39;00m\u001B[38;5;21;01mrun_step\u001B[39;00m \u001B[38;5;28;01mimport\u001B[39;00m run_step\n\u001B[0;32m      3\u001B[0m \u001B[38;5;28;01mfrom\u001B[39;00m \u001B[38;5;21;01mprocess_api\u001B[39;00m \u001B[38;5;28;01mimport\u001B[39;00m process_api\n\u001B[0;32m      6\u001B[0m \u001B[38;5;28;01mclass\u001B[39;00m \u001B[38;5;21;01mConditionModule\u001B[39;00m:\n",
      "File \u001B[1;32mF:\\intent_projects\\py_process\\process_api\\utils\\run_step.py:1\u001B[0m\n\u001B[1;32m----> 1\u001B[0m \u001B[38;5;28;01mfrom\u001B[39;00m \u001B[38;5;21;01mprocess_api\u001B[39;00m \u001B[38;5;28;01mimport\u001B[39;00m process_api\n\u001B[0;32m      4\u001B[0m \u001B[38;5;66;03m# This is a utility function that runs a step in a process.\u001B[39;00m\n\u001B[0;32m      5\u001B[0m \u001B[38;5;66;03m# If the step is a object it will run it as is, but if it is a string, it will look for the step in the process.\u001B[39;00m\n\u001B[0;32m      6\u001B[0m \u001B[38;5;28;01masync\u001B[39;00m \u001B[38;5;28;01mdef\u001B[39;00m \u001B[38;5;21mrun_step\u001B[39m(step, context, process, item):\n",
      "\u001B[1;31mImportError\u001B[0m: cannot import name 'process_api' from partially initialized module 'process_api' (most likely due to a circular import) (F:\\intent_projects\\py_process\\process_api\\__init__.py)"
     ]
    }
   ],
   "source": [
    "from process_api import call\n",
    "import process_api.modules\n",
    "\n",
    "await call(\"console\", \"print\", { \"message\": \"Hello world!\" })"
   ],
   "metadata": {
    "collapsed": false,
    "ExecuteTime": {
     "end_time": "2023-09-12T17:32:04.951377600Z",
     "start_time": "2023-09-12T17:32:04.632375300Z"
    }
   }
  },
  {
   "cell_type": "markdown",
   "source": [
    "## Print message from context"
   ],
   "metadata": {
    "collapsed": false
   }
  },
  {
   "cell_type": "code",
   "execution_count": 5,
   "outputs": [
    {
     "name": "stdout",
     "output_type": "stream",
     "text": [
      "Hello context!\n"
     ]
    },
    {
     "data": {
      "text/plain": "True"
     },
     "execution_count": 5,
     "metadata": {},
     "output_type": "execute_result"
    }
   ],
   "source": [
    "from process_api import call\n",
    "import process_api.modules\n",
    "\n",
    "await call(\"console\", \"print\", { \"message\": \"$c{message}\" }, { \"message\": \"Hello context!\" })"
   ],
   "metadata": {
    "collapsed": false,
    "ExecuteTime": {
     "end_time": "2023-09-12T17:31:17.417078400Z",
     "start_time": "2023-09-12T17:31:17.401082500Z"
    }
   }
  }
 ],
 "metadata": {
  "kernelspec": {
   "display_name": "Python 3",
   "language": "python",
   "name": "python3"
  },
  "language_info": {
   "codemirror_mode": {
    "name": "ipython",
    "version": 2
   },
   "file_extension": ".py",
   "mimetype": "text/x-python",
   "name": "python",
   "nbconvert_exporter": "python",
   "pygments_lexer": "ipython2",
   "version": "2.7.6"
  }
 },
 "nbformat": 4,
 "nbformat_minor": 0
}
