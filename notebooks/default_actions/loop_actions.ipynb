{
 "cells": [
  {
   "cell_type": "markdown",
   "source": [
    "# Loop through data and perform a task on it."
   ],
   "metadata": {
    "collapsed": false
   }
  },
  {
   "cell_type": "markdown",
   "source": [
    "## Loop through a list of numbers and print them."
   ],
   "metadata": {
    "collapsed": false
   }
  },
  {
   "cell_type": "code",
   "execution_count": null,
   "outputs": [],
   "source": [
    "from process_api import process_api\n",
    "\n",
    "await process_api.call(\"loop\", None, {\n",
    "    \"source\": [1, 2, 3, 4, 5],\n",
    "    \"process_step\": {\n",
    "        \"type\": \"console\",\n",
    "        \"action\": \"print\",\n",
    "        \"args\": { \"message\": \"$i\" }\n",
    "    }\n",
    "})"
   ],
   "metadata": {
    "collapsed": false
   }
  },
  {
   "cell_type": "markdown",
   "source": [
    "## Loop through a list of people and print the firstName."
   ],
   "metadata": {
    "collapsed": false
   }
  },
  {
   "cell_type": "code",
   "execution_count": null,
   "outputs": [],
   "source": [
    "from process_api import process_api\n",
    "\n",
    "await process_api.call(\"loop\", None, {\n",
    "    \"source\": [\n",
    "        { \"firstName\": \"John\" },\n",
    "        { \"firstName\": \"Jane\" },\n",
    "        { \"firstName\": \"Jack\" }\n",
    "    ],\n",
    "    \"process_step\": {\n",
    "        \"type\": \"console\",\n",
    "        \"action\": \"print\",\n",
    "        \"args\": { \"message\": \"$i{firstName}\" }\n",
    "    }\n",
    "})"
   ],
   "metadata": {
    "collapsed": false
   }
  }
 ],
 "metadata": {
  "kernelspec": {
   "display_name": "Python 3",
   "language": "python",
   "name": "python3"
  },
  "language_info": {
   "codemirror_mode": {
    "name": "ipython",
    "version": 2
   },
   "file_extension": ".py",
   "mimetype": "text/x-python",
   "name": "python",
   "nbconvert_exporter": "python",
   "pygments_lexer": "ipython2",
   "version": "2.7.6"
  }
 },
 "nbformat": 4,
 "nbformat_minor": 0
}
