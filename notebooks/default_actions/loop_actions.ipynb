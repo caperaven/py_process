{
 "cells": [
  {
   "cell_type": "markdown",
   "source": [
    "# Loop through data and perform a task on it."
   ],
   "metadata": {
    "collapsed": false
   }
  },
  {
   "cell_type": "code",
   "execution_count": 2,
   "outputs": [],
   "source": [
    "from process_api.src.process_api import process"
   ],
   "metadata": {
    "collapsed": false,
    "ExecuteTime": {
     "end_time": "2023-09-12T12:51:42.647163100Z",
     "start_time": "2023-09-12T12:51:42.622499500Z"
    }
   }
  },
  {
   "cell_type": "markdown",
   "source": [
    "## Loop through a list of numbers and print them."
   ],
   "metadata": {
    "collapsed": false
   }
  },
  {
   "cell_type": "code",
   "execution_count": 4,
   "outputs": [],
   "source": [
    "await process.call(\"loop\", None, {\n",
    "    \"source\": [1, 2, 3, 4, 5],\n",
    "    \"process_step\": {\n",
    "        \"type\": \"console\",\n",
    "        \"action\": \"print\",\n",
    "        \"args\": { \"message\": \"$i\" }\n",
    "    }\n",
    "})"
   ],
   "metadata": {
    "collapsed": false,
    "ExecuteTime": {
     "end_time": "2023-09-12T12:52:09.121806600Z",
     "start_time": "2023-09-12T12:52:09.116800500Z"
    }
   }
  },
  {
   "cell_type": "markdown",
   "source": [
    "## Loop through a list of people and print the firstName."
   ],
   "metadata": {
    "collapsed": false
   }
  },
  {
   "cell_type": "code",
   "execution_count": 5,
   "outputs": [],
   "source": [
    "await process.call(\"loop\", None, {\n",
    "    \"source\": [\n",
    "        { \"firstName\": \"John\" },\n",
    "        { \"firstName\": \"Jane\" },\n",
    "        { \"firstName\": \"Jack\" }\n",
    "    ],\n",
    "    \"process_step\": {\n",
    "        \"type\": \"console\",\n",
    "        \"action\": \"print\",\n",
    "        \"args\": { \"message\": \"$i{firstName}\" }\n",
    "    }\n",
    "})"
   ],
   "metadata": {
    "collapsed": false,
    "ExecuteTime": {
     "end_time": "2023-09-12T12:52:12.314460100Z",
     "start_time": "2023-09-12T12:52:12.299437500Z"
    }
   }
  },
  {
   "cell_type": "code",
   "execution_count": null,
   "outputs": [],
   "source": [],
   "metadata": {
    "collapsed": false
   }
  }
 ],
 "metadata": {
  "kernelspec": {
   "display_name": "Python 3",
   "language": "python",
   "name": "python3"
  },
  "language_info": {
   "codemirror_mode": {
    "name": "ipython",
    "version": 2
   },
   "file_extension": ".py",
   "mimetype": "text/x-python",
   "name": "python",
   "nbconvert_exporter": "python",
   "pygments_lexer": "ipython2",
   "version": "2.7.6"
  }
 },
 "nbformat": 4,
 "nbformat_minor": 0
}
