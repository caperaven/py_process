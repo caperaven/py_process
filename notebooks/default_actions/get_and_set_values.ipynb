{
 "cells": [
  {
   "cell_type": "markdown",
   "source": [
    "# Get and Set Values\n",
    "\n",
    "Process steps are always passed the following parameters\n",
    "\n",
    "1. step - a dictionary tha defines the module, function and arguments to be executed.\n",
    "2. context - if defined the execution context, otherwise None\n",
    "3. process - if part of a process execution this object is passed, otherwise None\n",
    "4. item - if the step is executed as part of a loop, this is the current item, otherwise None"
   ],
   "metadata": {
    "collapsed": false
   }
  },
  {
   "cell_type": "markdown",
   "source": [
    "## Get Value"
   ],
   "metadata": {
    "collapsed": false
   }
  },
  {
   "cell_type": "code",
   "execution_count": 2,
   "outputs": [],
   "source": [
    "from process_api.utils.get_value import get_value\n",
    "\n",
    "class DummyActions:\n",
    "    @staticmethod\n",
    "    async def custom_action(api, step, context, process, item):\n",
    "        my_parameter = await get_value(step.my_parameter, context, process, item)\n",
    "\n",
    "        # do something with my_parameter\n",
    "        print(my_parameter)\n",
    "\n",
    "        return True"
   ],
   "metadata": {
    "collapsed": false,
    "ExecuteTime": {
     "end_time": "2023-09-12T20:41:56.983100500Z",
     "start_time": "2023-09-12T20:41:56.954245200Z"
    }
   }
  },
  {
   "cell_type": "markdown",
   "source": [
    "We can not assume where we want to get the value form. It could be in the context, in the process, in the item or in the step itself. The `get_value` will try and get the value from the right place depending on what the my_parameter is.\n",
    "\n",
    "Here are a couple of examples:"
   ],
   "metadata": {
    "collapsed": false
   }
  },
  {
   "cell_type": "code",
   "execution_count": 2,
   "outputs": [],
   "source": [
    "# 1. my_parameter: 1 - will return 1\n",
    "# 2. my_parameter: \"$c{firstName}\" - will return the value of context.firstName\n",
    "# 3. my_parameter: \"$p{firstName}\" - will return the value of process.parameters.firstName\n",
    "# 4. my_parameter: \"$i{firstName}\" - will return the value of item.firstName"
   ],
   "metadata": {
    "collapsed": false,
    "ExecuteTime": {
     "end_time": "2023-08-22T18:47:47.876953700Z",
     "start_time": "2023-08-22T18:47:47.862937800Z"
    }
   }
  },
  {
   "cell_type": "markdown",
   "source": [
    "## Set Value\n",
    "\n",
    "This works in a similar way to `get_value` but instead of getting a value it sets a value."
   ],
   "metadata": {
    "collapsed": false
   }
  },
  {
   "cell_type": "code",
   "execution_count": 1,
   "outputs": [
    {
     "name": "stdout",
     "output_type": "stream",
     "text": [
      "{'firstName': 'John'}\n",
      "{'parameters': {'firstName': 'John'}}\n",
      "{'firstName': 'John'}\n"
     ]
    }
   ],
   "source": [
    "from process_api.utils.set_value import set_value\n",
    "\n",
    "context = {\"firstName\": \"John\"}\n",
    "process = {\"parameters\": {\"firstName\": \"Jane\"}}\n",
    "item = {\"firstName\": \"Jack\"}\n",
    "\n",
    "# set the value of firstName in the context to John\n",
    "await set_value(\"$c{firstName}\", \"John\", context, process, item)\n",
    "\n",
    "# set the value of firstName in the process parameters to John\n",
    "await set_value(\"$p{firstName}\", \"John\", context, process, item)\n",
    "\n",
    "# set the value of firstName in the item to John\n",
    "await set_value(\"$i{firstName}\", \"John\", context, process, item)\n",
    "\n",
    "print(context)\n",
    "print(process)\n",
    "print(item)"
   ],
   "metadata": {
    "collapsed": false,
    "ExecuteTime": {
     "end_time": "2023-09-12T20:41:53.282428400Z",
     "start_time": "2023-09-12T20:41:53.262270400Z"
    }
   }
  },
  {
   "cell_type": "markdown",
   "source": [
    "It is important to note that if you set the value on a path that does not exist, it will be created.\n",
    "For example if you set the path on \"$c{person.firstName}\" and the context does not have a person object, it will be created and the firstName will be set on it."
   ],
   "metadata": {
    "collapsed": false
   }
  }
 ],
 "metadata": {
  "kernelspec": {
   "display_name": "Python 3",
   "language": "python",
   "name": "python3"
  },
  "language_info": {
   "codemirror_mode": {
    "name": "ipython",
    "version": 2
   },
   "file_extension": ".py",
   "mimetype": "text/x-python",
   "name": "python",
   "nbconvert_exporter": "python",
   "pygments_lexer": "ipython2",
   "version": "2.7.6"
  }
 },
 "nbformat": 4,
 "nbformat_minor": 0
}
