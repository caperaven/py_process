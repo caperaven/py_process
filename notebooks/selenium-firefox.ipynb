{
 "cells": [
  {
   "cell_type": "code",
   "execution_count": 2,
   "metadata": {
    "collapsed": true,
    "ExecuteTime": {
     "end_time": "2023-09-07T15:38:52.237600Z",
     "start_time": "2023-09-07T15:38:36.961330700Z"
    }
   },
   "outputs": [],
   "source": [
    "from src.process_api import process\n",
    "import os\n",
    "import time\n",
    "\n",
    "driver = await process.call(\"selenium\", \"init_driver\", {\n",
    "    \"browser\": \"firefox\",\n",
    "    \"options\": {\n",
    "        \"arguments\": [\"--no-sandbox\", \"--disable-dev-shm-usage\"],\n",
    "    }\n",
    "})\n",
    "\n",
    "await process.call(\"selenium\", \"goto\", {\n",
    "    \"driver\": driver,\n",
    "    \"url\": \"https://www.google.com\"\n",
    "})\n",
    "\n",
    "element = await process.call(\"selenium\", \"get\", {\n",
    "    \"driver\": driver,\n",
    "    \"element\": \"textarea\"\n",
    "})\n",
    "\n",
    "await process.call(\"selenium\", \"perform\", {\n",
    "    \"driver\": driver,\n",
    "    \"element\": element,\n",
    "    \"action\": \"type\",\n",
    "    \"text\": \"Hello World\"\n",
    "})\n",
    "\n",
    "time.sleep(5)\n",
    "\n",
    "await process.call(\"selenium\", \"close_driver\", {\n",
    "    \"driver\": driver\n",
    "})"
   ]
  },
  {
   "cell_type": "code",
   "execution_count": null,
   "outputs": [],
   "source": [],
   "metadata": {
    "collapsed": false
   }
  }
 ],
 "metadata": {
  "kernelspec": {
   "display_name": "Python 3",
   "language": "python",
   "name": "python3"
  },
  "language_info": {
   "codemirror_mode": {
    "name": "ipython",
    "version": 2
   },
   "file_extension": ".py",
   "mimetype": "text/x-python",
   "name": "python",
   "nbconvert_exporter": "python",
   "pygments_lexer": "ipython2",
   "version": "2.7.6"
  }
 },
 "nbformat": 4,
 "nbformat_minor": 0
}
