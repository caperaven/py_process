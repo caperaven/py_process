{
 "cells": [
  {
   "cell_type": "markdown",
   "source": [
    "## Standard next step process"
   ],
   "metadata": {
    "collapsed": false
   }
  },
  {
   "cell_type": "code",
   "execution_count": 1,
   "metadata": {
    "collapsed": true,
    "ExecuteTime": {
     "end_time": "2023-09-14T06:53:54.172676800Z",
     "start_time": "2023-09-14T06:53:54.146600600Z"
    }
   },
   "outputs": [
    {
     "name": "stdout",
     "output_type": "stream",
     "text": [
      "Hello World\n",
      "Second message\n"
     ]
    }
   ],
   "source": [
    "from process_api import process_api\n",
    "\n",
    "await process_api.run_from_file(process_api, \"./json/console.json\")"
   ]
  },
  {
   "cell_type": "markdown",
   "source": [
    "## Sequence of processes"
   ],
   "metadata": {
    "collapsed": false
   }
  },
  {
   "cell_type": "code",
   "execution_count": 2,
   "outputs": [
    {
     "name": "stdout",
     "output_type": "stream",
     "text": [
      "Process 1\n",
      "Process 2\n"
     ]
    }
   ],
   "source": [
    "from process_api import process_api\n",
    "await process_api.run_from_file(process_api, \"./json/sequence.json\")"
   ],
   "metadata": {
    "collapsed": false,
    "ExecuteTime": {
     "end_time": "2023-09-14T06:53:54.217601600Z",
     "start_time": "2023-09-14T06:53:54.173676800Z"
    }
   }
  },
  {
   "cell_type": "markdown",
   "source": [
    "## Process parameters"
   ],
   "metadata": {
    "collapsed": false
   }
  },
  {
   "cell_type": "code",
   "execution_count": 3,
   "outputs": [
    {
     "name": "stdout",
     "output_type": "stream",
     "text": [
      "Greetings from parameters\n"
     ]
    }
   ],
   "source": [
    "from process_api import process_api\n",
    "await process_api.run_from_file(process_api, \"./json/run_parameters.json\", None, {\n",
    "    \"message\": \"Greetings from parameters\"\n",
    "})"
   ],
   "metadata": {
    "collapsed": false,
    "ExecuteTime": {
     "end_time": "2023-09-14T06:53:54.220601300Z",
     "start_time": "2023-09-14T06:53:54.188483Z"
    }
   }
  }
 ],
 "metadata": {
  "kernelspec": {
   "display_name": "Python 3",
   "language": "python",
   "name": "python3"
  },
  "language_info": {
   "codemirror_mode": {
    "name": "ipython",
    "version": 2
   },
   "file_extension": ".py",
   "mimetype": "text/x-python",
   "name": "python",
   "nbconvert_exporter": "python",
   "pygments_lexer": "ipython2",
   "version": "2.7.6"
  }
 },
 "nbformat": 4,
 "nbformat_minor": 0
}
