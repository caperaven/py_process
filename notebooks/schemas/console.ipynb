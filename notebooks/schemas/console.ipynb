{
 "cells": [
  {
   "cell_type": "code",
   "execution_count": 1,
   "metadata": {
    "collapsed": true,
    "ExecuteTime": {
     "end_time": "2023-09-13T18:19:25.834545800Z",
     "start_time": "2023-09-13T18:19:25.808283Z"
    }
   },
   "outputs": [
    {
     "name": "stdout",
     "output_type": "stream",
     "text": [
      "Hello World\n",
      "Second message\n"
     ]
    },
    {
     "data": {
      "text/plain": "{'id': 'console-test',\n 'main': {'steps': {'start': {'type': 'console',\n    'action': 'print',\n    'args': {'message': 'Hello World'},\n    'next_step': 'second'},\n   'second': {'type': 'console',\n    'action': 'print',\n    'args': {'message': 'Second message'}}}}}"
     },
     "execution_count": 1,
     "metadata": {},
     "output_type": "execute_result"
    }
   ],
   "source": [
    "from process_api import process_api\n",
    "\n",
    "await process_api.schema_runner.run_from_file(process_api, \"./console.json\")"
   ]
  },
  {
   "cell_type": "code",
   "execution_count": null,
   "outputs": [],
   "source": [],
   "metadata": {
    "collapsed": false
   }
  }
 ],
 "metadata": {
  "kernelspec": {
   "display_name": "Python 3",
   "language": "python",
   "name": "python3"
  },
  "language_info": {
   "codemirror_mode": {
    "name": "ipython",
    "version": 2
   },
   "file_extension": ".py",
   "mimetype": "text/x-python",
   "name": "python",
   "nbconvert_exporter": "python",
   "pygments_lexer": "ipython2",
   "version": "2.7.6"
  }
 },
 "nbformat": 4,
 "nbformat_minor": 0
}
