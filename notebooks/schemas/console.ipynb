{
 "cells": [
  {
   "cell_type": "markdown",
   "source": [
    "## Standard next step process"
   ],
   "metadata": {
    "collapsed": false
   }
  },
  {
   "cell_type": "code",
   "execution_count": null,
   "metadata": {
    "collapsed": true
   },
   "outputs": [],
   "source": [
    "from process_api import process_api\n",
    "\n",
    "await process_api.run_from_file(process_api, \"./json/console.json\")"
   ]
  },
  {
   "cell_type": "markdown",
   "source": [
    "## Sequence of processes"
   ],
   "metadata": {
    "collapsed": false
   }
  },
  {
   "cell_type": "code",
   "execution_count": null,
   "outputs": [],
   "source": [
    "from process_api import process_api\n",
    "await process_api.run_from_file(process_api, \"./json/sequence.json\")"
   ],
   "metadata": {
    "collapsed": false
   }
  },
  {
   "cell_type": "markdown",
   "source": [
    "## Process parameters\n",
    "\n",
    "When defining parameters on the schema you need to place it on the process using a \"paramaters_def\" key. This object defines:\n",
    "\n",
    "- the parameter name\n",
    "- the data type for that parameter (defaults to string if not defined)\n",
    "- if the parameter is required or not (defaults to false if not defined)\n",
    "\n",
    "for example:\n",
    "\n",
    "```json\n",
    "\"parameters_def\": {\n",
    "    \"message\": {\n",
    "        \"type\": \"string\",\n",
    "        \"required\": true\n",
    "    }\n",
    "}\n",
    "```\n",
    "\n",
    "Data Types supported are:\\\n",
    "- string\n",
    "- number\n",
    "- boolean\n",
    "- object\n",
    "- array\n",
    "\n",
    "If you pass in a parameter that is not defined on the schema, it will be ignored.\n",
    "If the datatype is wrong, the system will rais and exception.\n",
    "If you have not defined a required parameter you will also get an exception."
   ],
   "metadata": {
    "collapsed": false
   }
  },
  {
   "cell_type": "markdown",
   "source": [
    "### valid required parameter example"
   ],
   "metadata": {
    "collapsed": false
   }
  },
  {
   "cell_type": "code",
   "execution_count": 1,
   "outputs": [
    {
     "name": "stdout",
     "output_type": "stream",
     "text": [
      "Greetings from parameters\n"
     ]
    }
   ],
   "source": [
    "from process_api import process_api\n",
    "await process_api.run_from_file(process_api, \"./json/run_parameters.json\", None, {\n",
    "    \"message\": \"Greetings from parameters\"\n",
    "})"
   ],
   "metadata": {
    "collapsed": false
   }
  },
  {
   "cell_type": "markdown",
   "source": [
    "### absent required parameter example"
   ],
   "metadata": {
    "collapsed": false
   }
  },
  {
   "cell_type": "code",
   "execution_count": null,
   "outputs": [],
   "source": [
    "from process_api import process_api\n",
    "await process_api.run_from_file(process_api, \"./json/run_parameters.json\", None, {\n",
    "})\n",
    "\n",
    "## when running this you should get a exception that the 'message' parameter is required"
   ],
   "metadata": {
    "collapsed": false
   }
  }
 ],
 "metadata": {
  "kernelspec": {
   "display_name": "Python 3",
   "language": "python",
   "name": "python3"
  },
  "language_info": {
   "codemirror_mode": {
    "name": "ipython",
    "version": 2
   },
   "file_extension": ".py",
   "mimetype": "text/x-python",
   "name": "python",
   "nbconvert_exporter": "python",
   "pygments_lexer": "ipython2",
   "version": "2.7.6"
  }
 },
 "nbformat": 4,
 "nbformat_minor": 0
}
