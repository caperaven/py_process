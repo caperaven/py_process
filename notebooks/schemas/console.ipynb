{
 "cells": [
  {
   "cell_type": "markdown",
   "source": [
    "## Standard next step process"
   ],
   "metadata": {
    "collapsed": false
   }
  },
  {
   "cell_type": "code",
   "execution_count": 3,
   "metadata": {
    "collapsed": true,
    "ExecuteTime": {
     "end_time": "2023-09-13T18:42:28.625042400Z",
     "start_time": "2023-09-13T18:42:28.576794900Z"
    }
   },
   "outputs": [
    {
     "name": "stdout",
     "output_type": "stream",
     "text": [
      "Hello World\n",
      "Second message\n"
     ]
    }
   ],
   "source": [
    "from process_api import process_api\n",
    "\n",
    "await process_api.schema_runner.run_from_file(process_api, \"./console.json\")"
   ]
  },
  {
   "cell_type": "markdown",
   "source": [
    "## Sequence of processes"
   ],
   "metadata": {
    "collapsed": false
   }
  },
  {
   "cell_type": "code",
   "execution_count": 4,
   "outputs": [
    {
     "name": "stdout",
     "output_type": "stream",
     "text": [
      "Process 1\n",
      "Process 2\n"
     ]
    }
   ],
   "source": [
    "from process_api import process_api\n",
    "await process_api.schema_runner.run_from_file(process_api, \"./sequence.json\")"
   ],
   "metadata": {
    "collapsed": false,
    "ExecuteTime": {
     "end_time": "2023-09-13T18:42:28.628547700Z",
     "start_time": "2023-09-13T18:42:28.595996600Z"
    }
   }
  }
 ],
 "metadata": {
  "kernelspec": {
   "display_name": "Python 3",
   "language": "python",
   "name": "python3"
  },
  "language_info": {
   "codemirror_mode": {
    "name": "ipython",
    "version": 2
   },
   "file_extension": ".py",
   "mimetype": "text/x-python",
   "name": "python",
   "nbconvert_exporter": "python",
   "pygments_lexer": "ipython2",
   "version": "2.7.6"
  }
 },
 "nbformat": 4,
 "nbformat_minor": 0
}
