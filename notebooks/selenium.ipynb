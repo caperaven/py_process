{
 "cells": [
  {
   "cell_type": "code",
   "execution_count": 2,
   "metadata": {
    "collapsed": true,
    "ExecuteTime": {
     "end_time": "2023-09-07T15:15:28.164562Z",
     "start_time": "2023-09-07T15:15:22.625479600Z"
    }
   },
   "outputs": [
    {
     "name": "stdout",
     "output_type": "stream",
     "text": [
      "<coroutine object Process.call at 0x000001ED2D541620>\n"
     ]
    }
   ],
   "source": [
    "from src.process_api import process\n",
    "import os\n",
    "\n",
    "current_directory = os.getcwd()\n",
    "full_chrome_path = os.path.join(current_directory, \"./../chrome/chromedriver.exe\")\n",
    "full_chrome_path = os.path.normpath(full_chrome_path)\n",
    "\n",
    "driver = await process.call(\"selenium\", \"init_driver\", {\n",
    "    \"browser\": \"chrome\",\n",
    "    \"options\": {\n",
    "        \"driver_path\": full_chrome_path\n",
    "    }\n",
    "})\n",
    "\n",
    "await process.call(\"selenium\", \"goto\", {\n",
    "    \"driver\": driver,\n",
    "    \"url\": \"https://www.google.com\"\n",
    "})\n",
    "\n",
    "element = await process.call(\"selenium\", \"get\", {\n",
    "    \"driver\": driver,\n",
    "    \"element\": \"textarea\"\n",
    "})\n",
    "\n",
    "await process.call(\"selenium\", \"perform\", {\n",
    "    \"driver\": driver,\n",
    "    \"element\": element,\n",
    "    \"action\": \"type\",\n",
    "    \"text\": \"Hello World\"\n",
    "})\n",
    "\n",
    "value = process.call(\"selenium\", \"get\", {\n",
    "    \"driver\": driver,\n",
    "    \"element\": element,\n",
    "    \"attribute\": \"value\"\n",
    "})\n",
    "\n",
    "print(value)\n",
    "\n",
    "await process.call(\"selenium\", \"close_driver\", {\n",
    "    \"driver\": driver\n",
    "})"
   ]
  },
  {
   "cell_type": "code",
   "execution_count": null,
   "outputs": [],
   "source": [],
   "metadata": {
    "collapsed": false
   }
  }
 ],
 "metadata": {
  "kernelspec": {
   "display_name": "Python 3",
   "language": "python",
   "name": "python3"
  },
  "language_info": {
   "codemirror_mode": {
    "name": "ipython",
    "version": 2
   },
   "file_extension": ".py",
   "mimetype": "text/x-python",
   "name": "python",
   "nbconvert_exporter": "python",
   "pygments_lexer": "ipython2",
   "version": "2.7.6"
  }
 },
 "nbformat": 4,
 "nbformat_minor": 0
}
