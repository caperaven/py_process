{
 "cells": [
  {
   "cell_type": "markdown",
   "source": [
    "## This is a basic playground for open interpreter.\n",
    "\n",
    "### Install video\n",
    "https://www.youtube.com/watch?v=7KFbG_3dKKs\n",
    "\n",
    "- pip install llama-cpp-python\n",
    "- pip install code-interpreter\n",
    "- interpreter --local\n",
    "\n",
    "\n",
    "Other interesting videos\n",
    "- https://www.youtube.com/watch?v=SedGB8m2XLM"
   ],
   "metadata": {
    "collapsed": false
   }
  }
 ],
 "metadata": {
  "kernelspec": {
   "display_name": "Python 3",
   "language": "python",
   "name": "python3"
  },
  "language_info": {
   "codemirror_mode": {
    "name": "ipython",
    "version": 2
   },
   "file_extension": ".py",
   "mimetype": "text/x-python",
   "name": "python",
   "nbconvert_exporter": "python",
   "pygments_lexer": "ipython2",
   "version": "2.7.6"
  }
 },
 "nbformat": 4,
 "nbformat_minor": 0
}
