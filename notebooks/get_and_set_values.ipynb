{
 "cells": [
  {
   "cell_type": "markdown",
   "source": [
    "# Get and Set Values\n",
    "\n",
    "Process steps are always passed the following parameters\n",
    "\n",
    "1. step - a dictionary tha defines the module, function and arguments to be executed.\n",
    "2. context - if defined the execution context, otherwise None\n",
    "3. process - if part of a process execution this object is passed, otherwise None\n",
    "4. item - if the step is executed as part of a loop, this is the current item, otherwise None"
   ],
   "metadata": {
    "collapsed": false
   }
  },
  {
   "cell_type": "markdown",
   "source": [
    "## Get Value"
   ],
   "metadata": {
    "collapsed": false
   }
  },
  {
   "cell_type": "code",
   "execution_count": null,
   "outputs": [],
   "source": [
    "from src.utils.get_value import get_value\n",
    "\n",
    "class DummyActions:\n",
    "    @staticmethod\n",
    "    def custom_action(step, context, process, item):\n",
    "        my_parameter = get_value(step.my_parameter, context, process, item)\n",
    "\n",
    "        # do something with my_parameter\n",
    "        print(my_parameter)\n",
    "\n",
    "        return True"
   ],
   "metadata": {
    "collapsed": false
   }
  },
  {
   "cell_type": "markdown",
   "source": [
    "We can not assume where we want to get the value form. It could be in the context, in the process, in the item or in the step itself. The `get_value` will try and get the value from the right place depending on what the my_parameter is.\n",
    "\n",
    "Here are a couple of examples:"
   ],
   "metadata": {
    "collapsed": false
   }
  },
  {
   "cell_type": "code",
   "execution_count": null,
   "outputs": [],
   "source": [
    "# 1. my_parameter: 1 - will return 1\n",
    "# 2. my_parameter: \"$c{firstName}\" - will return the value of context.firstName\n",
    "# 3. my_parameter: \"$p{firstName}\" - will return the value of process.parameters.firstName\n",
    "# 4. my_parameter: \"$i{firstName}\" - will return the value of item.firstName"
   ],
   "metadata": {
    "collapsed": false
   }
  },
  {
   "cell_type": "markdown",
   "source": [
    "## Set Value\n",
    "\n",
    "This works in a similar way to `get_value` but instead of getting a value it sets a value."
   ],
   "metadata": {
    "collapsed": false
   }
  },
  {
   "cell_type": "code",
   "execution_count": null,
   "outputs": [],
   "source": [
    "from src.utils.set_value import set_value\n",
    "\n",
    "# set the value of firstName in the context to John\n",
    "set_value(\"$c{firstName}\", \"John\", context, process, item)\n",
    "\n",
    "# set the value of firstName in the process parameters to John\n",
    "set_value(\"$p{firstName}\", \"John\", context, process, item)\n",
    "\n",
    "# set the value of firstName in the item to John\n",
    "set_value(\"$i{firstName}\", \"John\", context, process, item)"
   ],
   "metadata": {
    "collapsed": false
   }
  },
  {
   "cell_type": "markdown",
   "source": [
    "It is important to note that if you set the value on a path that does not exist, it will be created.\n",
    "For example if you set the path on \"$c{person.firstName}\" and the context does not have a person object, it will be created and the firstName will be set on it."
   ],
   "metadata": {
    "collapsed": false
   }
  }
 ],
 "metadata": {
  "kernelspec": {
   "display_name": "Python 3",
   "language": "python",
   "name": "python3"
  },
  "language_info": {
   "codemirror_mode": {
    "name": "ipython",
    "version": 2
   },
   "file_extension": ".py",
   "mimetype": "text/x-python",
   "name": "python",
   "nbconvert_exporter": "python",
   "pygments_lexer": "ipython2",
   "version": "2.7.6"
  }
 },
 "nbformat": 4,
 "nbformat_minor": 0
}
