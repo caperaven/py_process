{
 "cells": [
  {
   "cell_type": "markdown",
   "source": [
    "# Text Classification Actions\n",
    "\n",
    "This module uses AI to test text classification to see if it is positive, negative or neutral"
   ],
   "metadata": {
    "collapsed": false
   }
  },
  {
   "cell_type": "code",
   "execution_count": 7,
   "outputs": [],
   "source": [
    "import src.process_api as process"
   ],
   "metadata": {
    "collapsed": false,
    "ExecuteTime": {
     "end_time": "2023-08-23T21:00:54.713910100Z",
     "start_time": "2023-08-23T21:00:54.698908700Z"
    }
   }
  },
  {
   "cell_type": "code",
   "execution_count": 8,
   "outputs": [
    {
     "name": "stdout",
     "output_type": "stream",
     "text": [
      "[{'label': 'POSITIVE', 'score': 0.9998788833618164}]\n"
     ]
    }
   ],
   "source": [
    "result = await process.call(\"text_classification\", \"perform\", {\n",
    "    \"text\": \"I love this product\"\n",
    "})\n",
    "\n",
    "print(result)"
   ],
   "metadata": {
    "collapsed": false,
    "ExecuteTime": {
     "end_time": "2023-08-23T21:00:55.887949Z",
     "start_time": "2023-08-23T21:00:54.714911200Z"
    }
   }
  },
  {
   "cell_type": "markdown",
   "source": [
    "You can also define the specific model you want to use for the classification"
   ],
   "metadata": {
    "collapsed": false
   }
  },
  {
   "cell_type": "code",
   "execution_count": 9,
   "outputs": [
    {
     "name": "stdout",
     "output_type": "stream",
     "text": [
      "[{'label': 'love', 'score': 0.9443362951278687}]\n"
     ]
    }
   ],
   "source": [
    "result = await process.call(\"text_classification\", \"perform\", {\n",
    "    \"text\": \"I love this product\",\n",
    "    \"model\": \"SamLowe/roberta-base-go_emotions\"\n",
    "})\n",
    "\n",
    "print(result)"
   ],
   "metadata": {
    "collapsed": false,
    "ExecuteTime": {
     "end_time": "2023-08-23T21:00:57.388401200Z",
     "start_time": "2023-08-23T21:00:55.887949Z"
    }
   }
  },
  {
   "cell_type": "code",
   "execution_count": 9,
   "outputs": [],
   "source": [],
   "metadata": {
    "collapsed": false,
    "ExecuteTime": {
     "end_time": "2023-08-23T21:00:57.434116700Z",
     "start_time": "2023-08-23T21:00:57.389402100Z"
    }
   }
  }
 ],
 "metadata": {
  "kernelspec": {
   "display_name": "Python 3",
   "language": "python",
   "name": "python3"
  },
  "language_info": {
   "codemirror_mode": {
    "name": "ipython",
    "version": 2
   },
   "file_extension": ".py",
   "mimetype": "text/x-python",
   "name": "python",
   "nbconvert_exporter": "python",
   "pygments_lexer": "ipython2",
   "version": "2.7.6"
  }
 },
 "nbformat": 4,
 "nbformat_minor": 0
}
