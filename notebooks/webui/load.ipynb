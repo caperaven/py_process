{
 "cells": [
  {
   "cell_type": "code",
   "execution_count": null,
   "metadata": {
    "collapsed": true
   },
   "outputs": [],
   "source": [
    "!pip install tk\n",
    "!pip install pywebview"
   ]
  },
  {
   "cell_type": "code",
   "execution_count": 1,
   "outputs": [],
   "source": [
    "# # Import tkinter and webview libraries\n",
    "# from tkinter import *\n",
    "# import webview\n",
    "#\n",
    "# # define an instance of tkinter\n",
    "# tk = Tk()\n",
    "#\n",
    "# #  size of the window where we show our website\n",
    "# #tk.geometry(\"800x450\")\n",
    "# tk.attributes('-fullscreen', True)\n",
    "# tk.title(\"Hello World\")\n",
    "#\n",
    "# # Open website\n",
    "# webview.create_window('local', 'https://localhost/welcome')\n",
    "# webview.start()\n",
    "\n",
    "\n",
    "# importing tkinter for gui\n",
    "import tkinter as tk\n",
    "import webview\n",
    "\n",
    "# creating window\n",
    "window = tk.Tk()\n",
    "\n",
    "# setting attribute\n",
    "window.attributes('-fullscreen', True)\n",
    "window.title(\"Geeks For Geeks\")\n",
    "\n",
    "webview.create_window('local', 'https://localhost/welcome')\n",
    "webview\n",
    "webview.start()"
   ],
   "metadata": {
    "collapsed": false,
    "ExecuteTime": {
     "end_time": "2023-09-08T07:06:00.873023900Z",
     "start_time": "2023-09-08T07:05:52.943118700Z"
    }
   }
  },
  {
   "cell_type": "code",
   "execution_count": null,
   "outputs": [],
   "source": [],
   "metadata": {
    "collapsed": false
   }
  }
 ],
 "metadata": {
  "kernelspec": {
   "display_name": "Python 3",
   "language": "python",
   "name": "python3"
  },
  "language_info": {
   "codemirror_mode": {
    "name": "ipython",
    "version": 2
   },
   "file_extension": ".py",
   "mimetype": "text/x-python",
   "name": "python",
   "nbconvert_exporter": "python",
   "pygments_lexer": "ipython2",
   "version": "2.7.6"
  }
 },
 "nbformat": 4,
 "nbformat_minor": 0
}
