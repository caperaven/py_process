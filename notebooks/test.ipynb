{
 "cells": [
  {
   "cell_type": "code",
   "execution_count": 2,
   "metadata": {
    "collapsed": true,
    "ExecuteTime": {
     "end_time": "2023-08-28T14:13:11.028528300Z",
     "start_time": "2023-08-28T14:13:11.012663400Z"
    }
   },
   "outputs": [
    {
     "name": "stdout",
     "output_type": "stream",
     "text": [
      "hello world\n",
      "John\n"
     ]
    }
   ],
   "source": [
    "{\n",
    "    \"dataset\": {\n",
    "        \"name:\": \"Person\",\n",
    "        \"structure\": {\n",
    "            \"firstName\": {\n",
    "                \"type\": \"string\",\n",
    "                \"min\": 3,\n",
    "                \"max\": 50,\n",
    "            }\n",
    "        }\n",
    "    }\n",
    "}\n",
    "\n",
    "{\n",
    "    \"input\": {\n",
    "        \"field\": \"firstName\"\n",
    "    }\n",
    "}\n"
   ]
  }
 ],
 "metadata": {
  "kernelspec": {
   "display_name": "Python 3",
   "language": "python",
   "name": "python3"
  },
  "language_info": {
   "codemirror_mode": {
    "name": "ipython",
    "version": 2
   },
   "file_extension": ".py",
   "mimetype": "text/x-python",
   "name": "python",
   "nbconvert_exporter": "python",
   "pygments_lexer": "ipython2",
   "version": "2.7.6"
  }
 },
 "nbformat": 4,
 "nbformat_minor": 0
}
