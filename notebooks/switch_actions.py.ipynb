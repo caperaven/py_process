{
 "cells": [
  {
   "cell_type": "markdown",
   "source": [
    "# Switch actions\n",
    "\n",
    "This step allows you to perform different steps depending on the value of a given path."
   ],
   "metadata": {
    "collapsed": false
   }
  },
  {
   "cell_type": "code",
   "execution_count": 5,
   "outputs": [
    {
     "name": "stdout",
     "output_type": "stream",
     "text": [
      "Hello John\n",
      "Greetings Jane\n"
     ]
    }
   ],
   "source": [
    "from src.process_api import process\n",
    "\n",
    "args = {\n",
    "    \"check\": \"$c{firstName}\",\n",
    "    \"cases\": {\n",
    "        \"John\": {\n",
    "            \"type\": \"console\",\n",
    "            \"action\": \"print\",\n",
    "            \"args\": {\n",
    "                \"message\": \"Hello John\"\n",
    "            }\n",
    "        },\n",
    "        \"Jane\": {\n",
    "            \"type\": \"console\",\n",
    "            \"action\": \"print\",\n",
    "            \"args\": {\n",
    "                \"message\": \"Greetings Jane\"\n",
    "            }\n",
    "        }\n",
    "    }\n",
    "}\n",
    "\n",
    "await process.call(\"switch\", None, args, {\"firstName\": \"John\"})\n",
    "await process.call(\"switch\", None, args, {\"firstName\": \"Jane\"})"
   ],
   "metadata": {
    "collapsed": false,
    "ExecuteTime": {
     "end_time": "2023-08-22T19:31:48.545051900Z",
     "start_time": "2023-08-22T19:31:48.529751200Z"
    }
   }
  },
  {
   "cell_type": "code",
   "execution_count": 5,
   "outputs": [],
   "source": [],
   "metadata": {
    "collapsed": false,
    "ExecuteTime": {
     "end_time": "2023-08-22T19:31:48.561083100Z",
     "start_time": "2023-08-22T19:31:48.545051900Z"
    }
   }
  }
 ],
 "metadata": {
  "kernelspec": {
   "display_name": "Python 3",
   "language": "python",
   "name": "python3"
  },
  "language_info": {
   "codemirror_mode": {
    "name": "ipython",
    "version": 2
   },
   "file_extension": ".py",
   "mimetype": "text/x-python",
   "name": "python",
   "nbconvert_exporter": "python",
   "pygments_lexer": "ipython2",
   "version": "2.7.6"
  }
 },
 "nbformat": 4,
 "nbformat_minor": 0
}
