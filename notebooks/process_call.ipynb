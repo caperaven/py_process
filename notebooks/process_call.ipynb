{
 "cells": [
  {
   "cell_type": "markdown",
   "source": [
    "# Calling Processes\n",
    "\n",
    "This example shows how to initialize a process api by importing the process_api.py file\n",
    "You can use the call function to execute a particular module's function and pass in the relevant args.\n",
    "In this case the args contains the message to display"
   ],
   "metadata": {
    "collapsed": false
   }
  },
  {
   "cell_type": "code",
   "execution_count": 1,
   "outputs": [
    {
     "name": "stdout",
     "output_type": "stream",
     "text": [
      "greetings from python\n"
     ]
    },
    {
     "data": {
      "text/plain": "True"
     },
     "execution_count": 1,
     "metadata": {},
     "output_type": "execute_result"
    }
   ],
   "source": [
    "from process_api import process_api\n",
    "\n",
    "await process_api.call(\"console\", \"print\", {\"message\": \"greetings from python\"})\n"
   ],
   "metadata": {
    "collapsed": false,
    "ExecuteTime": {
     "end_time": "2023-09-12T20:33:01.785920Z",
     "start_time": "2023-09-12T20:33:01.758495600Z"
    }
   }
  },
  {
   "cell_type": "markdown",
   "source": [
    "The next example shows you how to access the message from the context object instead of hard coding the message"
   ],
   "metadata": {
    "collapsed": false
   }
  },
  {
   "cell_type": "code",
   "execution_count": 2,
   "outputs": [
    {
     "name": "stdout",
     "output_type": "stream",
     "text": [
      "greetings from the context\n"
     ]
    },
    {
     "data": {
      "text/plain": "True"
     },
     "execution_count": 2,
     "metadata": {},
     "output_type": "execute_result"
    }
   ],
   "source": [
    "context = {\n",
    "    \"greeting\": \"greetings from the context\"\n",
    "}\n",
    "\n",
    "await process_api.call(\"console\", \"print\", {\"message\": \"$c{greeting}\"}, context)"
   ],
   "metadata": {
    "collapsed": false,
    "ExecuteTime": {
     "end_time": "2023-09-12T20:33:04.511395900Z",
     "start_time": "2023-09-12T20:33:04.502032900Z"
    }
   }
  }
 ],
 "metadata": {
  "kernelspec": {
   "display_name": "Python 3",
   "language": "python",
   "name": "python3"
  },
  "language_info": {
   "codemirror_mode": {
    "name": "ipython",
    "version": 2
   },
   "file_extension": ".py",
   "mimetype": "text/x-python",
   "name": "python",
   "nbconvert_exporter": "python",
   "pygments_lexer": "ipython2",
   "version": "2.7.6"
  }
 },
 "nbformat": 4,
 "nbformat_minor": 0
}
