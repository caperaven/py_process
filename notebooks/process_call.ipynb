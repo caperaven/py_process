{
 "cells": [
  {
   "cell_type": "markdown",
   "source": [
    "# Calling Processes\n",
    "\n",
    "This example shows how to initialize a process api by importing the process_api.py file\n",
    "You can use the call function to execute a particular module's function and pass in the relevant args.\n",
    "In this case the args contains the message to display"
   ],
   "metadata": {
    "collapsed": false
   }
  },
  {
   "cell_type": "code",
   "execution_count": 1,
   "outputs": [
    {
     "ename": "ImportError",
     "evalue": "cannot import name 'process' from 'process_api' (F:\\intent_projects\\py_process\\process_api\\__init__.py)",
     "output_type": "error",
     "traceback": [
      "\u001B[1;31m---------------------------------------------------------------------------\u001B[0m",
      "\u001B[1;31mImportError\u001B[0m                               Traceback (most recent call last)",
      "Cell \u001B[1;32mIn[1], line 2\u001B[0m\n\u001B[0;32m      1\u001B[0m \u001B[38;5;28;01mimport\u001B[39;00m \u001B[38;5;21;01mprocess_api\u001B[39;00m \u001B[38;5;28;01mas\u001B[39;00m \u001B[38;5;21;01mprocess\u001B[39;00m\n\u001B[1;32m----> 2\u001B[0m \u001B[38;5;28;01mimport\u001B[39;00m \u001B[38;5;21;01mprocess_api\u001B[39;00m\u001B[38;5;21;01m.\u001B[39;00m\u001B[38;5;21;01mmodules\u001B[39;00m\n\u001B[0;32m      4\u001B[0m \u001B[38;5;28;01mawait\u001B[39;00m process\u001B[38;5;241m.\u001B[39mcall(\u001B[38;5;124m\"\u001B[39m\u001B[38;5;124mconsole\u001B[39m\u001B[38;5;124m\"\u001B[39m, \u001B[38;5;124m\"\u001B[39m\u001B[38;5;124mprint\u001B[39m\u001B[38;5;124m\"\u001B[39m, {\u001B[38;5;124m\"\u001B[39m\u001B[38;5;124mmessage\u001B[39m\u001B[38;5;124m\"\u001B[39m: \u001B[38;5;124m\"\u001B[39m\u001B[38;5;124mgreetings from python\u001B[39m\u001B[38;5;124m\"\u001B[39m})\n",
      "File \u001B[1;32mF:\\intent_projects\\py_process\\process_api\\modules\\__init__.py:1\u001B[0m\n\u001B[1;32m----> 1\u001B[0m \u001B[38;5;28;01mimport\u001B[39;00m \u001B[38;5;21;01mprocess_api\u001B[39;00m\u001B[38;5;21;01m.\u001B[39;00m\u001B[38;5;21;01mmodules\u001B[39;00m\u001B[38;5;21;01m.\u001B[39;00m\u001B[38;5;21;01mcondition\u001B[39;00m\n\u001B[0;32m      2\u001B[0m \u001B[38;5;28;01mimport\u001B[39;00m \u001B[38;5;21;01mprocess_api\u001B[39;00m\u001B[38;5;21;01m.\u001B[39;00m\u001B[38;5;21;01mmodules\u001B[39;00m\u001B[38;5;21;01m.\u001B[39;00m\u001B[38;5;21;01mconsole\u001B[39;00m\n\u001B[0;32m      3\u001B[0m \u001B[38;5;28;01mimport\u001B[39;00m \u001B[38;5;21;01mprocess_api\u001B[39;00m\u001B[38;5;21;01m.\u001B[39;00m\u001B[38;5;21;01mmodules\u001B[39;00m\u001B[38;5;21;01m.\u001B[39;00m\u001B[38;5;21;01mloop\u001B[39;00m\n",
      "File \u001B[1;32mF:\\intent_projects\\py_process\\process_api\\modules\\condition.py:2\u001B[0m\n\u001B[0;32m      1\u001B[0m \u001B[38;5;28;01mfrom\u001B[39;00m \u001B[38;5;21;01mprocess_api\u001B[39;00m\u001B[38;5;21;01m.\u001B[39;00m\u001B[38;5;21;01mexpressions\u001B[39;00m\u001B[38;5;21;01m.\u001B[39;00m\u001B[38;5;21;01mconditions\u001B[39;00m \u001B[38;5;28;01mimport\u001B[39;00m conditions\n\u001B[1;32m----> 2\u001B[0m \u001B[38;5;28;01mfrom\u001B[39;00m \u001B[38;5;21;01mprocess_api\u001B[39;00m\u001B[38;5;21;01m.\u001B[39;00m\u001B[38;5;21;01mutils\u001B[39;00m\u001B[38;5;21;01m.\u001B[39;00m\u001B[38;5;21;01mrun_step\u001B[39;00m \u001B[38;5;28;01mimport\u001B[39;00m run_step\n\u001B[0;32m      3\u001B[0m \u001B[38;5;28;01mfrom\u001B[39;00m \u001B[38;5;21;01mprocess_api\u001B[39;00m \u001B[38;5;28;01mimport\u001B[39;00m process_api\n\u001B[0;32m      6\u001B[0m \u001B[38;5;28;01mclass\u001B[39;00m \u001B[38;5;21;01mConditionModule\u001B[39;00m:\n",
      "File \u001B[1;32mF:\\intent_projects\\py_process\\process_api\\utils\\run_step.py:1\u001B[0m\n\u001B[1;32m----> 1\u001B[0m \u001B[38;5;28;01mfrom\u001B[39;00m \u001B[38;5;21;01mprocess_api\u001B[39;00m \u001B[38;5;28;01mimport\u001B[39;00m process \u001B[38;5;28;01mas\u001B[39;00m api\n\u001B[0;32m      4\u001B[0m \u001B[38;5;66;03m# This is a utility function that runs a step in a process.\u001B[39;00m\n\u001B[0;32m      5\u001B[0m \u001B[38;5;66;03m# If the step is a object it will run it as is, but if it is a string, it will look for the step in the process.\u001B[39;00m\n\u001B[0;32m      6\u001B[0m \u001B[38;5;28;01masync\u001B[39;00m \u001B[38;5;28;01mdef\u001B[39;00m \u001B[38;5;21mrun_step\u001B[39m(step, context, process, item):\n",
      "\u001B[1;31mImportError\u001B[0m: cannot import name 'process' from 'process_api' (F:\\intent_projects\\py_process\\process_api\\__init__.py)"
     ]
    }
   ],
   "source": [
    "import process_api as process\n",
    "import process_api.modules\n",
    "\n",
    "await process.call(\"console\", \"print\", {\"message\": \"greetings from python\"})\n"
   ],
   "metadata": {
    "collapsed": false,
    "ExecuteTime": {
     "end_time": "2023-09-12T15:25:27.659174800Z",
     "start_time": "2023-09-12T15:25:27.353639800Z"
    }
   }
  },
  {
   "cell_type": "markdown",
   "source": [
    "The next example shows you how to access the message from the context object instead of hard coding the message"
   ],
   "metadata": {
    "collapsed": false
   }
  },
  {
   "cell_type": "code",
   "execution_count": null,
   "outputs": [],
   "source": [
    "context = {\n",
    "    \"greeting\": \"greetings from the context\"\n",
    "}\n",
    "\n",
    "await process.call(\"console\", \"print\", {\"message\": \"$c{greeting}\"}, context)"
   ],
   "metadata": {
    "collapsed": false
   }
  }
 ],
 "metadata": {
  "kernelspec": {
   "display_name": "Python 3",
   "language": "python",
   "name": "python3"
  },
  "language_info": {
   "codemirror_mode": {
    "name": "ipython",
    "version": 2
   },
   "file_extension": ".py",
   "mimetype": "text/x-python",
   "name": "python",
   "nbconvert_exporter": "python",
   "pygments_lexer": "ipython2",
   "version": "2.7.6"
  }
 },
 "nbformat": 4,
 "nbformat_minor": 0
}
